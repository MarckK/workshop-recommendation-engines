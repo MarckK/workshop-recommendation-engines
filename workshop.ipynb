{
 "cells": [
  {
   "cell_type": "markdown",
   "metadata": {},
   "source": [
    "# Recommendation engines explained"
   ]
  },
  {
   "cell_type": "markdown",
   "metadata": {},
   "source": [
    "We start by importing the relevant [Apache Spark](https://spark.apache.org/) modules and create a Spark session:"
   ]
  },
  {
   "cell_type": "code",
   "execution_count": 1,
   "metadata": {},
   "outputs": [],
   "source": [
    "%matplotlib inline\n",
    "\n",
    "from pyspark import SparkContext, SparkConf\n",
    "from pyspark.sql import Row, SparkSession\n",
    "\n",
    "spark = SparkSession.builder \\\n",
    "        .master(\"local\") \\\n",
    "        .appName(\"recommender\") \\\n",
    "        .config(\"spark.sql.crossJoin.enabled\", \"true\") \\\n",
    "        .getOrCreate()"
   ]
  },
  {
   "cell_type": "markdown",
   "metadata": {},
   "source": [
    "## The MovieLens dataset\n",
    "\n",
    "The MovieLens dataset (already available with this notebook, originally [here](https://grouplens.org/datasets/movielens/)) is a popular dataset used in recommendation engines research.\n",
    "In this workshop we will use the \"small\" variant, consisting of 20000263 ratings for 27278 movies by 138493 users.\n",
    "This dataset consist of several CSV files, namely\n",
    " * A ratings data file (`ratings.csv`)\n",
    " * A tags data file (`tags.csv`)\n",
    " * A movies data file (`movies.csv`)\n",
    " * A links data file (`links.csv`)\n",
    " * A tag genome (`genome-scores.csv` and `genome-tags.csv`)\n",
    " \n",
    " For the scope of this workshop, we are mainly interest in the rating and movies data files, which have, respectively, the following structure:\n",
    " The ratings data:\n",
    " * `userId`, a unique numerical user id\n",
    " * `movieId`, a unique numerical movie id\n",
    " * `rating`, a numerical rating, as an integer from $0$ to $5$\n",
    " * `timestamp`, a numerical timestamp (not used in this exercise)\n",
    " The movies data:\n",
    " * `movieId`, as above\n",
    " * `title`, the movie title\n",
    " * `genres` a string label with the movie genre (as listed [here](http://files.grouplens.org/datasets/movielens/ml-20m-README.html)).\n",
    " \n",
    " ### Loading the data\n",
    " \n",
    " We start by using Apache Spark's built in functionality to load text files into the Spark cluster, `.textFile()` (documented [here](http://spark.apache.org/docs/2.1.0/api/python/pyspark.html#pyspark.SparkContext.textFile)), which will return an `RDD` of strings.\n",
    " Since `.textFile()` will read each row in the CSV file as an RDD entry, we further process it by then splitting each row into a list of CSV entries and keep only the relevant fields (i.e. `userId`, `movieId` and `rating` for the ratings, and `movieId` and `title` for the movies file).\n",
    " \n",
    " We then create a Spark [dataframe](https://spark.apache.org/docs/latest/sql-programming-guide.html) containing the entries."
   ]
  },
  {
   "cell_type": "code",
   "execution_count": 2,
   "metadata": {},
   "outputs": [],
   "source": [
    "def load_data(path, header, token_fun):\n",
    "    \"\"\"Loads the CSV file, strips the header and keeps only the specified fields\"\"\"\n",
    "    rows = spark.sparkContext.textFile(path).filter(lambda x: x!=header).map(lambda x: x.split(\",\")).map(token_fun)\n",
    "    # create a Spark dataframe from the RDDs\n",
    "    return spark.createDataFrame(rows).cache()\n",
    "    \n",
    "    \n",
    "# Load the movie data (movie id, title)\n",
    "movies = load_data('ml-latest-small/movies.csv', \n",
    "                   'movieId,title,genres', \n",
    "                   lambda tokens: Row(item=int(tokens[0]),title=tokens[1]))\n",
    "\n",
    "# Load the ratings (user id, movie id, rating)\n",
    "ratings = load_data('ml-latest-small/ratings.csv', \n",
    "                    'userId,movieId,rating,timestamp', \n",
    "                    lambda tokens: Row(user=int(tokens[0]), item=int(tokens[1]), rating=float(tokens[2])))"
   ]
  },
  {
   "cell_type": "code",
   "execution_count": 3,
   "metadata": {},
   "outputs": [
    {
     "name": "stdout",
     "output_type": "stream",
     "text": [
      "Number of movies: 9742\n",
      "Number of ratings: 100836\n"
     ]
    },
    {
     "data": {
      "text/plain": [
       "[Row(item=1, title='Toy Story (1995)'),\n",
       " Row(item=2, title='Jumanji (1995)'),\n",
       " Row(item=3, title='Grumpier Old Men (1995)'),\n",
       " Row(item=4, title='Waiting to Exhale (1995)'),\n",
       " Row(item=5, title='Father of the Bride Part II (1995)')]"
      ]
     },
     "execution_count": 3,
     "metadata": {},
     "output_type": "execute_result"
    }
   ],
   "source": [
    "print(\"Number of movies: {}\".format(movies.count()))\n",
    "print(\"Number of ratings: {}\".format(ratings.count()))\n",
    "movies.take(5)"
   ]
  },
  {
   "cell_type": "markdown",
   "metadata": {},
   "source": [
    "We can now start by exploring the data.\n",
    "Let's look at the ratings distribution:"
   ]
  },
  {
   "cell_type": "code",
   "execution_count": 4,
   "metadata": {},
   "outputs": [
    {
     "data": {
      "text/plain": [
       "<matplotlib.axes._subplots.AxesSubplot at 0x11d9bb160>"
      ]
     },
     "execution_count": 4,
     "metadata": {},
     "output_type": "execute_result"
    },
    {
     "data": {
      "image/png": "[encoded data removed]",
      "text/plain": [
       "<Figure size 432x288 with 1 Axes>"
      ]
     },
     "metadata": {
      "needs_background": "light"
     },
     "output_type": "display_data"
    }
   ],
   "source": [
    "import seaborn as sns\n",
    "\n",
    "r = ratings.select('rating').collect()\n",
    "sns.distplot(r, kde=False)"
   ]
  },
  {
   "cell_type": "markdown",
   "metadata": {},
   "source": [
    "We can see that most of the ratings are $4$ starts, followed by $3$ and $3.5$ stars. Users generally do not give very low ratings (e.g. $0.5$, $1$).\n",
    "\n",
    "Let's try to see now the distribution of the number of ratings per user. That is, so user give many ratings on average?"
   ]
  },
  {
   "cell_type": "code",
   "execution_count": 20,
   "metadata": {},
   "outputs": [
    {
     "data": {
      "text/plain": [
       "<matplotlib.axes._subplots.AxesSubplot at 0x124a3ccf8>"
      ]
     },
     "execution_count": 20,
     "metadata": {},
     "output_type": "execute_result"
    },
    {
     "data": {
      "image/png": "[encoded data removed]",
      "text/plain": [
       "<Figure size 432x288 with 1 Axes>"
      ]
     },
     "metadata": {
      "needs_background": "light"
     },
     "output_type": "display_data"
    }
   ],
   "source": [
    "ratings_per_user = ratings.groupBy(\"user\").count()\n",
    "sns.distplot(ratings_per_user.select(\"count\").collect(), hist_kws={'log':True}, kde_kws={'clip': (1.0, 3000.0)})"
   ]
  },
  {
   "cell_type": "markdown",
   "metadata": {},
   "source": [
    "We can see that we have \"super users\", i.e. users that give more than 2000 ratings!\n",
    "From this histogram its not easy to see how many they are, so lets find out."
   ]
  },
  {
   "cell_type": "code",
   "execution_count": 32,
   "metadata": {},
   "outputs": [
    {
     "name": "stdout",
     "output_type": "stream",
     "text": [
      "+----------+\n",
      "|sum(count)|\n",
      "+----------+\n",
      "|         4|\n",
      "+----------+\n",
      "\n"
     ]
    }
   ],
   "source": [
    "from pyspark.sql.functions import col\n",
    "\n",
    "ratings_per_user.filter(col('count') > 1500).groupBy('user').count().agg({\"count\":\"sum\"}).show()"
   ]
  },
  {
   "cell_type": "markdown",
   "metadata": {},
   "source": [
    "So we only have $4$ \"super\" users. Let's now see how many users we have with less that 100 ratings:"
   ]
  },
  {
   "cell_type": "code",
   "execution_count": 39,
   "metadata": {},
   "outputs": [
    {
     "name": "stdout",
     "output_type": "stream",
     "text": [
      "+----------+\n",
      "|sum(count)|\n",
      "+----------+\n",
      "|       476|\n",
      "+----------+\n",
      "\n"
     ]
    }
   ],
   "source": [
    "ratings_per_user.filter(col('count') < 200).groupBy('user').count().agg({\"count\":\"sum\"}).show()"
   ]
  },
  {
   "cell_type": "markdown",
   "metadata": {},
   "source": [
    "We can see that the vast majority of users gave less that $200$ ratings, which is a sensible number."
   ]
  },
  {
   "cell_type": "markdown",
   "metadata": {},
   "source": [
    "## Training the model\n",
    "\n",
    "To train Spark's ALS model, we need to perform a few steps.\n",
    "The first step is to define a metric to quantify \"how good\" our model is. This is done by chosing an error measure, which typically is the _mean squared error_ (MSE). The mean square error is formally defined by\n",
    "\n",
    "$$\n",
    "\\text{MSE} = \\frac{1}{N}\\sum_{i=1}^{N}\\epsilon_i^2, \\qquad \\epsilon_i = r_i - \\hat{r}_i.\n",
    "$$\n",
    "\n",
    "That is, we first calculate the difference, $\\epsilon_i$, between each pair of true rating ($r_i$) and it's corresponding _predicted_ rating ($\\hat{r}_i$) and then calculated the average of the square of these errors. As example, consider a list of ratings `r1` and corresponding predictiong `r2`:"
   ]
  },
  {
   "cell_type": "code",
   "execution_count": 70,
   "metadata": {},
   "outputs": [],
   "source": [
    "r1 = [4.5, 3.0, 1.0, 5.0, 4.0]\n",
    "r2 = [4.56, 2.9, 1.1, 4.9, 3.2]"
   ]
  },
  {
   "cell_type": "code",
   "execution_count": 71,
   "metadata": {},
   "outputs": [
    {
     "name": "stdout",
     "output_type": "stream",
     "text": [
      "MSE = 0.13471999999999992\n"
     ]
    }
   ],
   "source": [
    "def mse(r, p):\n",
    "    return sum([(pair[0] - pair[1])**2 for pair in zip(r, p)]) / len(r)\n",
    "\n",
    "print(\"MSE = {}\".format(mse(r1, r2)))"
   ]
  },
  {
   "cell_type": "markdown",
   "metadata": {},
   "source": [
    "Since we've established our error measure, we can proceed to the next step.\n",
    "We now need to split our data into a _training_, _test_ and _validation_ subsets.\n",
    "We will use respectively the proportions 63%, 18% and 18%."
   ]
  },
  {
   "cell_type": "code",
   "execution_count": 72,
   "metadata": {},
   "outputs": [
    {
     "name": "stdout",
     "output_type": "stream",
     "text": [
      "Training dataset size = 63952\n",
      "Validation dataset size = 18464\n",
      "Test dataset size = 18420\n"
     ]
    }
   ],
   "source": [
    "def split_sets(ratings, proportions):\n",
    "    split = ratings.randomSplit(proportions, seed=42)\n",
    "    return {'training': split[0], 'validation': split[1], 'test': split[2]}\n",
    "    \n",
    "sets = split_sets(ratings, [0.63212056, 0.1839397, 0.1839397])\n",
    "print(\"Training dataset size = {}\".format(sets['training'].count()))\n",
    "print(\"Validation dataset size = {}\".format(sets['validation'].count()))\n",
    "print(\"Test dataset size = {}\".format(sets['test'].count()))"
   ]
  },
  {
   "cell_type": "markdown",
   "metadata": {},
   "source": [
    "### Parameter estimation\n",
    "\n",
    "We add the `coldStartStrategy` to the ALS class so that we automatically drop any `NaN` predictions."
   ]
  },
  {
   "cell_type": "code",
   "execution_count": 86,
   "metadata": {},
   "outputs": [],
   "source": [
    "from pyspark.ml.recommendation import ALS\n",
    "from pyspark.ml.tuning import TrainValidationSplit, ParamGridBuilder\n",
    "from pyspark.ml.evaluation import RegressionEvaluator\n",
    "\n",
    "sub_als = ALS(coldStartStrategy=\"drop\", seed=42)\n",
    "\n",
    "sub_param_grid = ParamGridBuilder() \\\n",
    "    .addGrid(sub_als.rank, list(range(1, 10))) \\\n",
    "    .build()\n",
    "\n",
    "sub_evaluator = RegressionEvaluator(\n",
    "    metricName=\"mse\",\n",
    "    labelCol=\"rating\",\n",
    "    predictionCol=\"prediction\")\n",
    "\n",
    "sub_tvs = TrainValidationSplit(\n",
    "    estimator=sub_als,\n",
    "    estimatorParamMaps=sub_param_grid,\n",
    "    evaluator=sub_evaluator,\n",
    "    collectSubModels=True\n",
    ")\n",
    "\n",
    "sub_model = sub_tvs.fit(ratings.sample(0.005, seed=42).cache())"
   ]
  },
  {
   "cell_type": "code",
   "execution_count": 87,
   "metadata": {},
   "outputs": [
    {
     "name": "stdout",
     "output_type": "stream",
     "text": [
      "Best rank (subset) = 7\n"
     ]
    }
   ],
   "source": [
    "print(\"Best rank (subset) = {}\".format(sub_model.bestModel.rank))"
   ]
  },
  {
   "cell_type": "code",
   "execution_count": 88,
   "metadata": {},
   "outputs": [
    {
     "data": {
      "text/plain": [
       "<matplotlib.axes._subplots.AxesSubplot at 0x1344709e8>"
      ]
     },
     "execution_count": 88,
     "metadata": {},
     "output_type": "execute_result"
    },
    {
     "data": {
      "image/png": "[encoded data removed]",
      "text/plain": [
       "<Figure size 432x288 with 1 Axes>"
      ]
     },
     "metadata": {
      "needs_background": "light"
     },
     "output_type": "display_data"
    }
   ],
   "source": [
    "sub_test = ratings.sample(0.005, seed=42).cache()\n",
    "\n",
    "sub_ranks = [model.rank for model in sub_model.subModels]\n",
    "sub_mses = [sub_evaluator.evaluate(model.transform(sub_test)) for model in sub_model.subModels]\n",
    "\n",
    "sns.pointplot(x=sub_ranks, y=sub_mses)"
   ]
  },
  {
   "cell_type": "code",
   "execution_count": 10,
   "metadata": {},
   "outputs": [],
   "source": [
    "from pyspark.ml.recommendation import ALS\n",
    "from pyspark.ml.tuning import TrainValidationSplit, ParamGridBuilder\n",
    "from pyspark.ml.evaluation import RegressionEvaluator\n",
    "\n",
    "als = ALS(coldStartStrategy=\"drop\")\n",
    "\n",
    "param_grid = ParamGridBuilder() \\\n",
    "    .addGrid(als.rank, [6, 8, 10, 12]) \\\n",
    "    .addGrid(als.maxIter,[6, 8, 10, 12]) \\\n",
    "    .build()\n",
    "\n",
    "evaluator = RegressionEvaluator(\n",
    "    metricName=\"mse\",\n",
    "    labelCol=\"rating\",\n",
    "    predictionCol=\"prediction\")\n",
    "\n",
    "tvs = TrainValidationSplit(\n",
    "    estimator=als,\n",
    "    estimatorParamMaps=param_grid,\n",
    "    evaluator=evaluator,\n",
    ")\n",
    "\n",
    "model = tvs.fit(sets['training'])"
   ]
  },
  {
   "cell_type": "markdown",
   "metadata": {},
   "source": []
  },
  {
   "cell_type": "code",
   "execution_count": 11,
   "metadata": {},
   "outputs": [
    {
     "name": "stdout",
     "output_type": "stream",
     "text": [
      "+----+------------------------------------------------+----------+------+\n",
      "|user|title                                           |prediction|rating|\n",
      "+----+------------------------------------------------+----------+------+\n",
      "|32  |Othello (1995)                                  |4.210827  |4.0   |\n",
      "|488 |Othello (1995)                                  |3.6702404 |2.5   |\n",
      "|68  |Othello (1995)                                  |2.838285  |3.0   |\n",
      "|182 |\"City of Lost Children                          |4.5586414 |4.0   |\n",
      "|440 |\"City of Lost Children                          |4.3601346 |4.5   |\n",
      "|318 |\"City of Lost Children                          |4.113537  |3.5   |\n",
      "|387 |\"City of Lost Children                          |3.8652163 |3.5   |\n",
      "|469 |\"City of Lost Children                          |4.1469555 |4.0   |\n",
      "|451 |In the Line of Fire (1993)                      |3.9259498 |3.0   |\n",
      "|372 |In the Line of Fire (1993)                      |3.6305723 |4.0   |\n",
      "|599 |In the Line of Fire (1993)                      |2.7496262 |2.5   |\n",
      "|325 |In the Line of Fire (1993)                      |3.5485163 |3.0   |\n",
      "|512 |In the Line of Fire (1993)                      |3.6928015 |4.0   |\n",
      "|217 |In the Line of Fire (1993)                      |3.018473  |4.0   |\n",
      "|290 |In the Line of Fire (1993)                      |3.999315  |4.0   |\n",
      "|229 |In the Line of Fire (1993)                      |3.8737712 |3.0   |\n",
      "|448 |In the Line of Fire (1993)                      |3.6283228 |4.0   |\n",
      "|524 |In the Line of Fire (1993)                      |3.352978  |4.0   |\n",
      "|45  |In the Line of Fire (1993)                      |3.8869581 |5.0   |\n",
      "|121 |In the Line of Fire (1993)                      |3.3955612 |3.0   |\n",
      "|480 |In the Line of Fire (1993)                      |3.4960275 |3.0   |\n",
      "|11  |In the Line of Fire (1993)                      |3.9536545 |4.0   |\n",
      "|541 |In the Line of Fire (1993)                      |3.6170082 |4.0   |\n",
      "|275 |In the Line of Fire (1993)                      |3.9943523 |4.0   |\n",
      "|140 |In the Heat of the Night (1967)                 |3.9116776 |4.0   |\n",
      "|474 |In the Heat of the Night (1967)                 |3.8028312 |3.5   |\n",
      "|290 |In the Heat of the Night (1967)                 |4.351995  |5.0   |\n",
      "|1   |Planet of the Apes (1968)                       |4.5626097 |5.0   |\n",
      "|182 |Planet of the Apes (1968)                       |3.5168898 |4.5   |\n",
      "|39  |Planet of the Apes (1968)                       |4.072236  |4.0   |\n",
      "|7   |Planet of the Apes (1968)                       |2.7437763 |5.0   |\n",
      "|527 |Planet of the Apes (1968)                       |4.575779  |5.0   |\n",
      "|517 |Brief Encounter (1946)                          |2.0391827 |3.0   |\n",
      "|409 |North Dallas Forty (1979)                       |3.0867503 |2.0   |\n",
      "|156 |North Dallas Forty (1979)                       |2.7467535 |4.0   |\n",
      "|606 |Serendipity (2001)                              |2.6326144 |2.5   |\n",
      "|177 |Serendipity (2001)                              |2.82692   |3.5   |\n",
      "|504 |Serendipity (2001)                              |3.3320167 |2.5   |\n",
      "|480 |Serendipity (2001)                              |2.7648313 |2.5   |\n",
      "|105 |Serendipity (2001)                              |3.2811894 |3.5   |\n",
      "|562 |Serendipity (2001)                              |3.5587242 |5.0   |\n",
      "|599 |Once Upon a Time in China (Wong Fei Hung) (1991)|2.44008   |2.5   |\n",
      "|599 |Pumping Iron (1977)                             |2.463818  |3.0   |\n",
      "|111 |Pumping Iron (1977)                             |2.1433074 |4.0   |\n",
      "|232 |\"You                                            |1.6398448 |3.0   |\n",
      "|298 |\"You                                            |1.3202332 |0.5   |\n",
      "|68  |\"You                                            |1.340409  |2.5   |\n",
      "|477 |\"Host                                           |3.9638486 |5.0   |\n",
      "|103 |Step Brothers (2008)                            |3.6192472 |4.0   |\n",
      "|274 |Step Brothers (2008)                            |3.6954079 |3.0   |\n",
      "|62  |Step Brothers (2008)                            |3.8380668 |3.5   |\n",
      "|232 |Surrogates (2009)                               |3.009645  |4.0   |\n",
      "|232 |Up in the Air (2009)                            |3.6463552 |4.0   |\n",
      "|177 |Up in the Air (2009)                            |3.546636  |3.5   |\n",
      "|152 |Up in the Air (2009)                            |3.713354  |4.0   |\n",
      "|305 |Up in the Air (2009)                            |3.8406477 |3.0   |\n",
      "|318 |Up in the Air (2009)                            |3.856859  |4.0   |\n",
      "|462 |Up in the Air (2009)                            |2.9974084 |4.5   |\n",
      "|448 |Up in the Air (2009)                            |3.4219975 |3.0   |\n",
      "|352 |Up in the Air (2009)                            |3.9404538 |4.0   |\n",
      "|105 |Up in the Air (2009)                            |4.0901823 |3.5   |\n",
      "|357 |Up in the Air (2009)                            |3.8867817 |4.0   |\n",
      "|18  |Up in the Air (2009)                            |3.8134637 |3.5   |\n",
      "|222 |New Year's Eve (2011)                           |1.5701783 |1.5   |\n",
      "|497 |\"Hunt                                           |3.5563214 |5.0   |\n",
      "|339 |\"Hunt                                           |4.140068  |4.0   |\n",
      "|105 |\"Hunt                                           |4.205376  |5.0   |\n",
      "|122 |Ender's Game (2013)                             |4.0848417 |3.0   |\n",
      "|154 |Ender's Game (2013)                             |3.3168035 |4.0   |\n",
      "|248 |Ender's Game (2013)                             |2.9763083 |3.5   |\n",
      "|222 |Dallas Buyers Club (2013)                       |3.4033842 |3.5   |\n",
      "|233 |Dallas Buyers Club (2013)                       |3.7123928 |4.0   |\n",
      "|599 |Bio-Dome (1996)                                 |1.7794678 |2.0   |\n",
      "|274 |Bio-Dome (1996)                                 |2.7071168 |3.0   |\n",
      "|277 |Bio-Dome (1996)                                 |2.488874  |3.0   |\n",
      "|389 |Bio-Dome (1996)                                 |2.8353362 |4.0   |\n",
      "|337 |Bio-Dome (1996)                                 |2.956918  |3.0   |\n",
      "|42  |Being Human (1993)                              |2.4618752 |3.0   |\n",
      "|325 |Blade Runner (1982)                             |4.346557  |5.0   |\n",
      "|212 |Blade Runner (1982)                             |3.35089   |3.0   |\n",
      "|348 |Blade Runner (1982)                             |4.3946877 |5.0   |\n",
      "|462 |Blade Runner (1982)                             |4.0594635 |3.5   |\n",
      "|202 |Blade Runner (1982)                             |4.3253794 |5.0   |\n",
      "|290 |Blade Runner (1982)                             |4.3514924 |3.0   |\n",
      "|59  |Blade Runner (1982)                             |4.8557706 |5.0   |\n",
      "|555 |Blade Runner (1982)                             |3.871275  |4.0   |\n",
      "|23  |Blade Runner (1982)                             |3.8299613 |5.0   |\n",
      "|244 |Blade Runner (1982)                             |4.542113  |4.0   |\n",
      "|129 |Blade Runner (1982)                             |4.289306  |3.5   |\n",
      "|249 |Blade Runner (1982)                             |4.1150436 |4.0   |\n",
      "|356 |Blade Runner (1982)                             |4.0905957 |4.5   |\n",
      "|160 |Blade Runner (1982)                             |3.5757642 |5.0   |\n",
      "|156 |Blade Runner (1982)                             |4.119928  |4.0   |\n",
      "|480 |Blade Runner (1982)                             |3.7913327 |4.0   |\n",
      "|304 |Blade Runner (1982)                             |4.2197294 |4.0   |\n",
      "|105 |Blade Runner (1982)                             |3.9828157 |4.0   |\n",
      "|298 |Blade Runner (1982)                             |3.553727  |4.5   |\n",
      "|83  |Blade Runner (1982)                             |3.6123433 |4.5   |\n",
      "|566 |Blade Runner (1982)                             |4.229543  |4.0   |\n",
      "|149 |Blade Runner (1982)                             |3.161474  |4.0   |\n",
      "+----+------------------------------------------------+----------+------+\n",
      "only showing top 100 rows\n",
      "\n"
     ]
    }
   ],
   "source": [
    "prediction = model.transform(sets['test'])\n",
    "\n",
    "\n",
    "# prediction = prediction.withColumn(\"prediction\", F.abs(F.round(prediction[\"prediction\"],0)))\n",
    "\n",
    "prediction.alias('p').join(movies.alias('m'), col('p.item') == col('m.item')) \\\n",
    "    .select([col('p.user'), col('m.title'), col('p.prediction'), col('p.rating')]).show(100, truncate=False)"
   ]
  },
  {
   "cell_type": "code",
   "execution_count": 12,
   "metadata": {},
   "outputs": [
    {
     "name": "stdout",
     "output_type": "stream",
     "text": [
      "MSE = 0.832088801562867\n"
     ]
    }
   ],
   "source": [
    "print(\"MSE = {}\".format(sub))"
   ]
  },
  {
   "cell_type": "code",
   "execution_count": 13,
   "metadata": {},
   "outputs": [
    {
     "data": {
      "text/plain": [
       "(0, 5)"
      ]
     },
     "execution_count": 13,
     "metadata": {},
     "output_type": "execute_result"
    },
    {
     "data": {
      "image/png": "[encoded data removed]",
      "text/plain": [
       "<Figure size 432x288 with 1 Axes>"
      ]
     },
     "metadata": {
      "needs_background": "light"
     },
     "output_type": "display_data"
    }
   ],
   "source": [
    "errors = prediction.withColumn('error', col('prediction')-col('rating')).select('error').collect()\n",
    "ax = sns.distplot(errors, rug=True, hist=True)\n",
    "ax.set_xlim(0, 5)"
   ]
  },
  {
   "cell_type": "markdown",
   "metadata": {},
   "source": [
    "## Prediction\n",
    "\n",
    "Now that we have a trained model, several methods are available to us.\n",
    "For instance, we can predict the five movies for each user:"
   ]
  },
  {
   "cell_type": "code",
   "execution_count": 14,
   "metadata": {},
   "outputs": [
    {
     "name": "stdout",
     "output_type": "stream",
     "text": [
      "+----+--------------------+\n",
      "|user|     recommendations|\n",
      "+----+--------------------+\n",
      "| 471|[[89904, 4.864344...|\n",
      "| 463|[[177593, 5.01555...|\n",
      "| 496|[[1203, 4.6759605...|\n",
      "| 148|[[2324, 4.673802]...|\n",
      "| 540|[[33649, 5.200587...|\n",
      "| 392|[[7982, 4.962445]...|\n",
      "| 243|[[5466, 5.657048]...|\n",
      "|  31|[[33649, 5.433239...|\n",
      "| 516|[[3200, 5.106011]...|\n",
      "| 580|[[6300, 4.9104204...|\n",
      "+----+--------------------+\n",
      "only showing top 10 rows\n",
      "\n"
     ]
    }
   ],
   "source": [
    "model.bestModel.recommendForAllUsers(10).show(10)"
   ]
  },
  {
   "cell_type": "markdown",
   "metadata": {},
   "source": [
    "Or the top three most likely users to like each movie:"
   ]
  },
  {
   "cell_type": "code",
   "execution_count": 15,
   "metadata": {},
   "outputs": [
    {
     "name": "stdout",
     "output_type": "stream",
     "text": [
      "+------+--------------------+\n",
      "|  item|     recommendations|\n",
      "+------+--------------------+\n",
      "|  1580|[[53, 4.9111805],...|\n",
      "|  4900|[[53, 4.77591], [...|\n",
      "|  5300|[[53, 3.993509], ...|\n",
      "|  6620|[[236, 4.783423],...|\n",
      "|  7340|[[554, 4.1370597]...|\n",
      "| 32460|[[53, 5.9809804],...|\n",
      "| 54190|[[53, 5.5660133],...|\n",
      "|   471|[[35, 4.7306347],...|\n",
      "|  1591|[[53, 4.3053904],...|\n",
      "|140541|[[240, 4.0764728]...|\n",
      "+------+--------------------+\n",
      "only showing top 10 rows\n",
      "\n"
     ]
    }
   ],
   "source": [
    "model.bestModel.recommendForAllItems(3).show(10)"
   ]
  },
  {
   "cell_type": "markdown",
   "metadata": {},
   "source": [
    "### Your personal recommendations\n",
    "\n",
    "We can now used the model as our personal movie recommender!\n",
    "\n",
    "You will create a new user profile for yourself and start adding your own ratings.\n",
    "Based on these ratings, you will then be able to predict ratings for movies you haven't seen it (at least rated).\n",
    "\n",
    "First, you'll determine your `user` id:"
   ]
  },
  {
   "cell_type": "code",
   "execution_count": 16,
   "metadata": {},
   "outputs": [
    {
     "name": "stdout",
     "output_type": "stream",
     "text": [
      "New user id = 611\n"
     ]
    }
   ],
   "source": [
    "new_user_id = ratings.groupBy().max('user').first()['max(user)'] + 1\n",
    "print(\"New user id = {}\".format(new_user_id))"
   ]
  },
  {
   "cell_type": "markdown",
   "metadata": {},
   "source": [
    "Next, we create a list of tuples (pairs) consisting of a `item` id and our own `rating`.\n",
    "The following list is just a example, if you want to create your own list, evaluate the following method with a partial name of movie for which you want to find the id and replace it on the list below."
   ]
  },
  {
   "cell_type": "code",
   "execution_count": 17,
   "metadata": {},
   "outputs": [
    {
     "name": "stdout",
     "output_type": "stream",
     "text": [
      "+------+----------------------------------+\n",
      "|item  |title                             |\n",
      "+------+----------------------------------+\n",
      "|541   |Blade Runner (1982)               |\n",
      "|5417  |\"Fast Runner                      |\n",
      "|56607 |\"Kite Runner                      |\n",
      "|105351|Runner Runner (2013)              |\n",
      "|114180|\"Maze Runner                      |\n",
      "|117895|Maze Runner: Scorch Trials (2015) |\n",
      "|140237|The Runner (2015)                 |\n",
      "|176371|Blade Runner 2049 (2017)          |\n",
      "|183635|Maze Runner: The Death Cure (2018)|\n",
      "+------+----------------------------------+\n",
      "\n"
     ]
    }
   ],
   "source": [
    "from pyspark.sql.functions import lower\n",
    "\n",
    "def find_movie_id(partial_title):\n",
    "    movies.where(lower(col('title')).like(\"%{}%\".format(partial_title.lower())))\\\n",
    "    .show(truncate=False)\n",
    "    \n",
    "find_movie_id('runner')"
   ]
  },
  {
   "cell_type": "markdown",
   "metadata": {},
   "source": [
    "After finding your favourite movies, replace them (along with your rating) on the following list:"
   ]
  },
  {
   "cell_type": "code",
   "execution_count": 18,
   "metadata": {},
   "outputs": [
    {
     "name": "stdout",
     "output_type": "stream",
     "text": [
      "+----+------+----+\n",
      "|item|rating|user|\n",
      "+----+------+----+\n",
      "| 484|     1| 611|\n",
      "| 485|     4| 611|\n",
      "| 492|     4| 611|\n",
      "| 519|     1| 611|\n",
      "| 541|     5| 611|\n",
      "|2968|     5| 611|\n",
      "| 587|     1| 611|\n",
      "| 608|     5| 611|\n",
      "| 680|     4| 611|\n",
      "| 741|     4| 611|\n",
      "| 750|     5| 611|\n",
      "| 784|     1| 611|\n",
      "|1288|     5| 611|\n",
      "|2067|     2| 611|\n",
      "|3081|     3| 611|\n",
      "|4848|     5| 611|\n",
      "|4878|     3| 611|\n",
      "|4973|     4| 611|\n",
      "|5147|     5| 611|\n",
      "|6383|     1| 611|\n",
      "+----+------+----+\n",
      "\n"
     ]
    }
   ],
   "source": [
    "my_ratings = [(484, 1), # Sorry, I didn't really liked Lassie\n",
    "(485, 4), # Last Action Hero, it's a guilty pleasure\n",
    "(492, 4), # Manhattan Murder Mystery, a great movie\n",
    "(519, 1), # RoboCop 3, what a way to spoil a great franchise\n",
    "(541, 5), # Blade Runner, enough said\n",
    "(2968, 5), # Time Bandits, a classic\n",
    "(587, 1), # eeech, Ghost\n",
    "(608, 5), # Fargo, another classic\n",
    "(680, 4), # Alphaville, great, but not easy\n",
    "(741, 4), # Ghost in the Shell, always fun\n",
    "(750, 5), # Dr. Strangelove, again, enough said\n",
    "(784, 1), # Cable Guy. not. funny.\n",
    "(1288, 5), # This Is Spinal Tap. essential.\n",
    "(2067, 2), # Doctor Zhivago, classic but not my thing.\n",
    "(3081, 3), # Sleepy Hollow enjoyable\n",
    "(4848, 5), # Mulholland Drive. What? Yes!\n",
    "(4878, 3), # Donnie Darko, twas ok\n",
    "(4973, 4), # Amelie \n",
    "(5147, 5), # Wild Strawberries\n",
    "(6383, 1)] # 2 Fast 2 Furious              \n",
    "\n",
    "my_ratings_df = spark.createDataFrame([Row(user=new_user_id, item=r[0], rating=r[1]) for r in my_ratings])\n",
    "my_ratings_df.show()"
   ]
  },
  {
   "cell_type": "code",
   "execution_count": 19,
   "metadata": {},
   "outputs": [],
   "source": [
    "new_ratings = ratings.union(my_ratings_df)"
   ]
  },
  {
   "cell_type": "code",
   "execution_count": 20,
   "metadata": {},
   "outputs": [],
   "source": [
    "best_rank = model.bestModel.rank\n",
    "best_iterations = model.bestModel._java_obj.parent().getMaxIter()\n",
    "new_model = ALS(rank=best_rank, maxIter=best_iterations, coldStartStrategy=\"drop\").fit(new_ratings)"
   ]
  },
  {
   "cell_type": "markdown",
   "metadata": {},
   "source": [
    "Now let's predict the ratings for the movies you _haven't_ seen.\n",
    "We start by creating a dataframe consisting of all the movie ids _except_ the ones you have rated previously."
   ]
  },
  {
   "cell_type": "code",
   "execution_count": 21,
   "metadata": {},
   "outputs": [
    {
     "name": "stdout",
     "output_type": "stream",
     "text": [
      "+----+\n",
      "|item|\n",
      "+----+\n",
      "|  26|\n",
      "|  29|\n",
      "| 474|\n",
      "|1677|\n",
      "|1806|\n",
      "|1950|\n",
      "|2040|\n",
      "|2453|\n",
      "|2529|\n",
      "|2927|\n",
      "+----+\n",
      "only showing top 10 rows\n",
      "\n",
      "Number of unseen movies = 9722\n"
     ]
    }
   ],
   "source": [
    "unseen_movies = movies.alias('m').join(my_ratings_df.alias('r'), col('m.item') == col('r.item'), how='left_anti').select('item')\n",
    "unseen_movies.show(10)\n",
    "print(\"Number of unseen movies = {}\".format(unseen_movies.count()))"
   ]
  },
  {
   "cell_type": "markdown",
   "metadata": {},
   "source": [
    "We now create a dataframe consisting of your `user` id and the `item` id of each movie you haven't seen."
   ]
  },
  {
   "cell_type": "code",
   "execution_count": 22,
   "metadata": {},
   "outputs": [],
   "source": [
    "from pyspark.sql.functions import lit\n",
    "\n",
    "unseen_movies_user = unseen_movies.withColumn(\"user\", lit(new_user_id))"
   ]
  },
  {
   "cell_type": "code",
   "execution_count": 23,
   "metadata": {},
   "outputs": [
    {
     "name": "stdout",
     "output_type": "stream",
     "text": [
      "+----+----+----------+\n",
      "|item|user|prediction|\n",
      "+----+----+----------+\n",
      "| 148| 611|  3.791193|\n",
      "| 471| 611| 3.7616048|\n",
      "| 496| 611|  3.791193|\n",
      "| 833| 611| 0.8660661|\n",
      "|1088| 611| 1.5608655|\n",
      "|1238| 611|  4.337711|\n",
      "|1342| 611| 3.4581766|\n",
      "|1580| 611| 2.9564242|\n",
      "|1591| 611| 2.4242313|\n",
      "|1645| 611| 2.2525134|\n",
      "+----+----+----------+\n",
      "only showing top 10 rows\n",
      "\n"
     ]
    }
   ],
   "source": [
    "unseen_ratings = new_model.transform(unseen_movies_user)\n",
    "unseen_ratings.show(10)"
   ]
  },
  {
   "cell_type": "code",
   "execution_count": 24,
   "metadata": {},
   "outputs": [
    {
     "name": "stdout",
     "output_type": "stream",
     "text": [
      "+----+-------------------------------+----------+\n",
      "|user|title                          |prediction|\n",
      "+----+-------------------------------+----------+\n",
      "|611 |Othello (1995)                 |3.012404  |\n",
      "|611 |\"City of Lost Children         |4.4828463 |\n",
      "|611 |In the Line of Fire (1993)     |2.5872412 |\n",
      "|611 |Critical Care (1997)           |1.2572396 |\n",
      "|611 |Paulie (1998)                  |1.8943663 |\n",
      "|611 |In the Heat of the Night (1967)|3.6527767 |\n",
      "|611 |\"Computer Wore Tennis Shoes    |2.7023137 |\n",
      "|611 |\"Boy Who Could Fly             |2.5052497 |\n",
      "|611 |Planet of the Apes (1968)      |3.5686014 |\n",
      "|611 |Brief Encounter (1946)         |2.8843682 |\n",
      "+----+-------------------------------+----------+\n",
      "only showing top 10 rows\n",
      "\n"
     ]
    }
   ],
   "source": [
    "unseen_ratings_titles = unseen_ratings.alias('r')\\\n",
    "                        .join(movies.alias('m'), col('r.item') == col('m.item'))\\\n",
    "                        .select(['user', 'title', 'prediction'])\n",
    "unseen_ratings_titles.show(10, truncate=False)"
   ]
  },
  {
   "cell_type": "code",
   "execution_count": 25,
   "metadata": {},
   "outputs": [
    {
     "name": "stdout",
     "output_type": "stream",
     "text": [
      "+----+--------------------+----------+\n",
      "|user|               title|prediction|\n",
      "+----+--------------------+----------+\n",
      "| 611|      Yojimbo (1961)|  5.512263|\n",
      "| 611|        Opera (1987)|  5.449033|\n",
      "| 611|\"Tale of Two Sisters| 5.3648543|\n",
      "| 611|Dragon Ball Z: Th...| 5.1183696|\n",
      "| 611|Nausicaä of the V...|  4.993774|\n",
      "| 611|          \"Big Sleep|  4.981746|\n",
      "| 611|    Gallipoli (1981)| 4.9775934|\n",
      "| 611|       \"Long Goodbye|  4.975501|\n",
      "| 611|Wait Until Dark (...| 4.9701676|\n",
      "| 611| On the Beach (1959)|  4.945448|\n",
      "| 611|      \"Sword of Doom| 4.9429617|\n",
      "| 611|    Barcelona (1994)|  4.916286|\n",
      "| 611|Pierrot le fou (1...| 4.9125824|\n",
      "| 611|    Happiness (1998)|  4.908993|\n",
      "| 611|Manchester by the...| 4.8960385|\n",
      "| 611|    Slap Shot (1977)|   4.88938|\n",
      "| 611|Shogun Assassin (...| 4.8817053|\n",
      "| 611|Sonatine (Sonachi...| 4.8817053|\n",
      "| 611|  Palindromes (2004)| 4.8817053|\n",
      "| 611|            \"Hustler| 4.8658195|\n",
      "+----+--------------------+----------+\n",
      "only showing top 20 rows\n",
      "\n"
     ]
    }
   ],
   "source": [
    "unseen_ratings_titles.orderBy(col('prediction').desc()).show(20)"
   ]
  },
  {
   "cell_type": "markdown",
   "metadata": {},
   "source": [
    "## Implicit data\n",
    "For the implicit case we will use the data from the [Book Crossing Dataset](http://www2.informatik.uni-freiburg.de/~cziegler/BX/)."
   ]
  },
  {
   "cell_type": "code",
   "execution_count": 26,
   "metadata": {},
   "outputs": [],
   "source": [
    "implicit_ratings_raw = spark.sparkContext.textFile('BX-Book-Ratings.csv')\\\n",
    "                   .filter(lambda x: x!='\"User-ID\";\"ISBN\";\"Book-Rating\"')\\\n",
    "                   .map(lambda x: x.replace('\"',\"\")) \\\n",
    "                   .map(lambda x:x.split(\";\"))\\\n",
    "                   .map(lambda x:(int(x[0]), str(x[1]), int(x[2])))"
   ]
  },
  {
   "cell_type": "code",
   "execution_count": 27,
   "metadata": {},
   "outputs": [
    {
     "data": {
      "text/plain": [
       "[(276725, '034545104X', 0),\n",
       " (276726, '0155061224', 5),\n",
       " (276727, '0446520802', 0),\n",
       " (276729, '052165615X', 3),\n",
       " (276729, '0521795028', 6),\n",
       " (276733, '2080674722', 0),\n",
       " (276736, '3257224281', 8),\n",
       " (276737, '0600570967', 6),\n",
       " (276744, '038550120X', 7),\n",
       " (276745, '342310538', 10)]"
      ]
     },
     "execution_count": 27,
     "metadata": {},
     "output_type": "execute_result"
    }
   ],
   "source": [
    "implicit_ratings_raw.take(10)"
   ]
  },
  {
   "cell_type": "code",
   "execution_count": 28,
   "metadata": {},
   "outputs": [],
   "source": [
    "implicit_ratings = implicit_ratings_raw.filter(lambda x: x[2] == 0)"
   ]
  },
  {
   "cell_type": "code",
   "execution_count": 30,
   "metadata": {},
   "outputs": [
    {
     "data": {
      "text/plain": [
       "[(276725, '034545104X', 0),\n",
       " (276727, '0446520802', 0),\n",
       " (276733, '2080674722', 0),\n",
       " (276746, '0425115801', 0),\n",
       " (276746, '0449006522', 0),\n",
       " (276746, '0553561618', 0),\n",
       " (276746, '055356451X', 0),\n",
       " (276746, '0786013990', 0),\n",
       " (276746, '0786014512', 0),\n",
       " (276747, '0451192001', 0)]"
      ]
     },
     "execution_count": 30,
     "metadata": {},
     "output_type": "execute_result"
    }
   ],
   "source": [
    "implicit_ratings.take(10)"
   ]
  },
  {
   "cell_type": "code",
   "execution_count": 31,
   "metadata": {},
   "outputs": [
    {
     "data": {
      "text/plain": [
       "[('034545104X', ((276725, 0), 0)),\n",
       " ('034545104X', ((6543, 0), 0)),\n",
       " ('034545104X', ((23768, 0), 0)),\n",
       " ('034545104X', ((28266, 0), 0)),\n",
       " ('034545104X', ((28523, 0), 0)),\n",
       " ('034545104X', ((39002, 0), 0)),\n",
       " ('034545104X', ((56157, 0), 0)),\n",
       " ('034545104X', ((59102, 0), 0)),\n",
       " ('034545104X', ((59287, 0), 0)),\n",
       " ('034545104X', ((77940, 0), 0))]"
      ]
     },
     "execution_count": 31,
     "metadata": {},
     "output_type": "execute_result"
    }
   ],
   "source": [
    "# Extract unique isbns.\n",
    "isbns=implicit_ratings.map(lambda x:x[1]).distinct()\n",
    "#Associates an integer with each unique isbn.\n",
    "isbns_with_indices=isbns.zipWithIndex() \n",
    "#sets isbn as the key\n",
    "reordered_implicit_ratings = implicit_ratings.map(lambda x:(x[1], (x[0], x[2]))) \n",
    "joined = reordered_implicit_ratings.join(isbns_with_indices) #joins with indexes \n",
    "joined.take(10)"
   ]
  },
  {
   "cell_type": "code",
   "execution_count": 32,
   "metadata": {},
   "outputs": [
    {
     "data": {
      "text/plain": [
       "[(276725, 0, 0),\n",
       " (6543, 0, 0),\n",
       " (23768, 0, 0),\n",
       " (28266, 0, 0),\n",
       " (28523, 0, 0),\n",
       " (39002, 0, 0),\n",
       " (56157, 0, 0),\n",
       " (59102, 0, 0),\n",
       " (59287, 0, 0),\n",
       " (77940, 0, 0)]"
      ]
     },
     "execution_count": 32,
     "metadata": {},
     "output_type": "execute_result"
    }
   ],
   "source": [
    "#The data above is of the form :\n",
    "    #(isbn, ((userid, rating), isbn-id-integer))\n",
    "#We use the map function to get to the form :\n",
    "    #(user id, isbn-id-integer, rating)\n",
    "#This is the form expected by the ALS function\n",
    "ratings_int_nice = joined.map(lambda x: (x[1][0][0], x[1][1], x[1][0][1]))\n",
    "ratings_int_nice.take(10)"
   ]
  },
  {
   "cell_type": "code",
   "execution_count": 33,
   "metadata": {},
   "outputs": [
    {
     "name": "stdout",
     "output_type": "stream",
     "text": [
      "+----+------+------+\n",
      "|item|rating|  user|\n",
      "+----+------+------+\n",
      "|   0|     1|276725|\n",
      "|   0|     1|  6543|\n",
      "|   0|     1| 23768|\n",
      "|   0|     1| 28266|\n",
      "|   0|     1| 28523|\n",
      "|   0|     1| 39002|\n",
      "|   0|     1| 56157|\n",
      "|   0|     1| 59102|\n",
      "|   0|     1| 59287|\n",
      "|   0|     1| 77940|\n",
      "|   0|     1| 81977|\n",
      "|   0|     1|123981|\n",
      "|   0|     1|132081|\n",
      "|   0|     1|133235|\n",
      "|   0|     1|135045|\n",
      "|   0|     1|138543|\n",
      "|   0|     1|144315|\n",
      "|   0|     1|144486|\n",
      "|   0|     1|145451|\n",
      "|   0|     1|147799|\n",
      "+----+------+------+\n",
      "only showing top 20 rows\n",
      "\n"
     ]
    }
   ],
   "source": [
    "#Need 1s not 0s. since the matrix is singular if 0s. \n",
    "#i.e. we use '1' to indicate response, not 0.\n",
    "ratings_ones = ratings_int_nice.map(lambda x: Row(user=x[0], item=x[1], rating=1))\n",
    "implicit_ratings = spark.createDataFrame(ratings_ones).cache()\n",
    "implicit_ratings.show()"
   ]
  },
  {
   "cell_type": "code",
   "execution_count": 34,
   "metadata": {},
   "outputs": [
    {
     "name": "stdout",
     "output_type": "stream",
     "text": [
      "Training dataset size (implicit) = 452587\n",
      "Validation dataset size (implicit) = 132345\n",
      "Test dataset size = 131177 (implicit)\n"
     ]
    }
   ],
   "source": [
    "implicit_sets = split_sets(implicit_ratings, [0.63212056, 0.1839397, 0.1839397])\n",
    "print(\"Training dataset size (implicit) = {}\".format(implicit_sets['training'].count()))\n",
    "print(\"Validation dataset size (implicit) = {}\".format(implicit_sets['validation'].count()))\n",
    "print(\"Test dataset size = {} (implicit)\".format(implicit_sets['test'].count()))"
   ]
  },
  {
   "cell_type": "code",
   "execution_count": 37,
   "metadata": {},
   "outputs": [],
   "source": [
    "ials = ALS(coldStartStrategy=\"drop\", implicitPrefs=True, nonnegative=True)\n",
    "\n",
    "iparam_grid = ParamGridBuilder() \\\n",
    "    .addGrid(ials.rank, [6, 8, 10]) \\\n",
    "    .addGrid(ials.maxIter,[1, 3]) \\\n",
    "    .build()\n",
    "\n",
    "ievaluator = RegressionEvaluator(\n",
    "    metricName=\"mse\",\n",
    "    labelCol=\"rating\",\n",
    "    predictionCol=\"prediction\")\n",
    "\n",
    "itvs = TrainValidationSplit(\n",
    "    estimator=ials,\n",
    "    estimatorParamMaps=iparam_grid,\n",
    "    evaluator=ievaluator,\n",
    ")\n",
    "\n",
    "imodel = itvs.fit(implicit_sets['training'])"
   ]
  },
  {
   "cell_type": "code",
   "execution_count": 38,
   "metadata": {},
   "outputs": [],
   "source": [
    "iprediction = imodel.transform(implicit_sets['test'])"
   ]
  },
  {
   "cell_type": "code",
   "execution_count": 39,
   "metadata": {},
   "outputs": [
    {
     "name": "stdout",
     "output_type": "stream",
     "text": [
      "+----+------+------+-------------+\n",
      "|item|rating|  user|   prediction|\n",
      "+----+------+------+-------------+\n",
      "| 148|     1|274549| 1.2898672E-4|\n",
      "| 463|     1|164926|  0.015293029|\n",
      "| 463|     1|127429|  0.058008645|\n",
      "| 463|     1|236283|   0.13166651|\n",
      "| 463|     1|162529|-3.8229996E-7|\n",
      "| 463|     1|223431|   0.01320569|\n",
      "| 463|     1|265595| 0.0030684627|\n",
      "| 463|     1|106845| 0.0043281014|\n",
      "| 463|     1|145619|  0.090286836|\n",
      "| 463|     1| 54547|  4.605326E-4|\n",
      "| 463|     1| 62891|  0.005520297|\n",
      "| 463|     1|113611| 2.9127183E-4|\n",
      "| 463|     1|252071|   0.09543873|\n",
      "| 463|     1| 63644|  0.002876756|\n",
      "| 463|     1|230522|   0.13793337|\n",
      "| 463|     1|167349|   0.10624607|\n",
      "| 463|     1|167556| 0.0012041114|\n",
      "| 463|     1| 76942|   0.09055626|\n",
      "| 463|     1|161299|  0.021042518|\n",
      "| 463|     1| 28139| 0.0050158426|\n",
      "+----+------+------+-------------+\n",
      "only showing top 20 rows\n",
      "\n"
     ]
    }
   ],
   "source": [
    "iprediction.show()"
   ]
  },
  {
   "cell_type": "code",
   "execution_count": 40,
   "metadata": {},
   "outputs": [
    {
     "name": "stdout",
     "output_type": "stream",
     "text": [
      "Best rank (implicit) = 8\n",
      "Best iterations (implicit) = 3\n"
     ]
    }
   ],
   "source": [
    "ibest_rank = imodel.bestModel.rank\n",
    "ibest_iterations = imodel.bestModel._java_obj.parent().getMaxIter()\n",
    "print(\"Best rank (implicit) = {}\".format(ibest_rank))\n",
    "print(\"Best iterations (implicit) = {}\".format(ibest_iterations))\n",
    "new_imodel = ALS(rank=ibest_rank, \n",
    "                 maxIter=ibest_iterations, \n",
    "                 coldStartStrategy=\"drop\", \n",
    "                 nonnegative=True).fit(implicit_ratings)"
   ]
  },
  {
   "cell_type": "code",
   "execution_count": 41,
   "metadata": {},
   "outputs": [
    {
     "name": "stdout",
     "output_type": "stream",
     "text": [
      "+----+----+\n",
      "|item|user|\n",
      "+----+----+\n",
      "|  26|   8|\n",
      "|  29|   8|\n",
      "| 474|   8|\n",
      "| 964|   8|\n",
      "|1677|   8|\n",
      "|1697|   8|\n",
      "|1806|   8|\n",
      "|1950|   8|\n",
      "|2040|   8|\n",
      "|2214|   8|\n",
      "+----+----+\n",
      "only showing top 10 rows\n",
      "\n",
      "Number of unseen books = 246713\n"
     ]
    }
   ],
   "source": [
    "seen = implicit_ratings.filter(col('user')==8).select('item')\n",
    "unseen_books = implicit_ratings.alias('r')\\\n",
    "    .join(seen.alias('s'), col('r.item') == col('s.item'), how='left_anti')\\\n",
    "    .select('item').distinct()\\\n",
    "    .withColumn('user', lit(8))\\\n",
    "    .cache()\n",
    "unseen_books.show(10)\n",
    "print(\"Number of unseen books = {}\".format(unseen_books.count()))"
   ]
  },
  {
   "cell_type": "code",
   "execution_count": 42,
   "metadata": {},
   "outputs": [
    {
     "name": "stdout",
     "output_type": "stream",
     "text": [
      "+------+----+----------+\n",
      "|  item|user|prediction|\n",
      "+------+----+----------+\n",
      "|178179|   8| 1.0979903|\n",
      "|178440|   8| 1.0706532|\n",
      "| 38790|   8| 1.0536216|\n",
      "| 38814|   8| 1.0536216|\n",
      "|113703|   8| 1.0491025|\n",
      "|149958|   8|  1.045932|\n",
      "|134584|   8| 1.0279605|\n",
      "|    41|   8| 1.0274675|\n",
      "| 11524|   8|  1.026964|\n",
      "|128614|   8| 1.0252979|\n",
      "|178690|   8| 1.0205411|\n",
      "|150042|   8| 1.0195307|\n",
      "|150052|   8| 1.0195307|\n",
      "|174699|   8| 1.0178891|\n",
      "|125881|   8| 1.0175077|\n",
      "|189953|   8| 1.0165665|\n",
      "|189954|   8| 1.0165665|\n",
      "|189952|   8| 1.0165665|\n",
      "| 70100|   8| 1.0151141|\n",
      "|137741|   8| 1.0071111|\n",
      "+------+----+----------+\n",
      "only showing top 20 rows\n",
      "\n"
     ]
    }
   ],
   "source": [
    "new_imodel.transform(unseen_books).orderBy(col('prediction').desc()).show(20)"
   ]
  },
  {
   "cell_type": "code",
   "execution_count": null,
   "metadata": {},
   "outputs": [],
   "source": []
  },
  {
   "cell_type": "code",
   "execution_count": 43,
   "metadata": {},
   "outputs": [
    {
     "name": "stdout",
     "output_type": "stream",
     "text": [
      "MSE (implicit) = 0.9690128222452518\n"
     ]
    }
   ],
   "source": [
    "print(\"MSE (implicit) = {}\".format(ievaluator.evaluate(iprediction)))"
   ]
  },
  {
   "cell_type": "code",
   "execution_count": null,
   "metadata": {},
   "outputs": [],
   "source": []
  }
 ],
 "metadata": {
  "kernelspec": {
   "display_name": "Python 2",
   "language": "python",
   "name": "python2"
  },
  "language_info": {
   "codemirror_mode": {
    "name": "ipython",
    "version": 3
   },
   "file_extension": ".py",
   "mimetype": "text/x-python",
   "name": "python",
   "nbconvert_exporter": "python",
   "pygments_lexer": "ipython3",
   "version": "3.6.5"
  }
 },
 "nbformat": 4,
 "nbformat_minor": 1
}
