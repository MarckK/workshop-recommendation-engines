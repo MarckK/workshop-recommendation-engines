{
 "cells": [
  {
   "cell_type": "code",
   "execution_count": null,
   "metadata": {},
   "outputs": [],
   "source": []
  },
  {
   "cell_type": "code",
   "execution_count": 8,
   "metadata": {},
   "outputs": [],
   "source": [
    "%matplotlib inline\n",
    "\n",
    "from pyspark import SparkContext, SparkConf\n",
    "from pyspark.sql import Row, SparkSession"
   ]
  },
  {
   "cell_type": "code",
   "execution_count": 9,
   "metadata": {},
   "outputs": [],
   "source": [
    "spark = SparkSession.builder \\\n",
    "        .master(\"local\") \\\n",
    "        .appName(\"recommender\") \\\n",
    "        .getOrCreate()"
   ]
  },
  {
   "cell_type": "markdown",
   "metadata": {},
   "source": [
    "## The MovieLens dataset\n",
    "\n",
    "The MovieLens dataset (already available with this notebook, originally [here](https://grouplens.org/datasets/movielens/)) is a popular dataset used in recommendation engines research.\n",
    "In this workshop we will use the \"small\" variant, consisting of 20000263 ratings for 27278 movies by 138493 users.\n",
    "This dataset consist of several CSV files, namely\n",
    " * A ratings data file (`ratings.csv`)\n",
    " * A tags data file (`tags.csv`)\n",
    " * A movies data file (`movies.csv`)\n",
    " * A links data file (`links.csv`)\n",
    " * A tag genome (`genome-scores.csv` and `genome-tags.csv`)\n",
    " \n",
    " For the scope of this workshop, we are mainly interest in the rating and movies data files, which have, respectively, the following structure:\n",
    " The ratings data:\n",
    " * `userId`, a unique numerical user id\n",
    " * `movieId`, a unique numerical movie id\n",
    " * `rating`, a numerical rating, as an integer from $0$ to $5$\n",
    " * `timestamp`, a numerical timestamp (not used in this exercise)\n",
    " The movies data:\n",
    " * `movieId`, as above\n",
    " * `title`, the movie title\n",
    " * `genres` a string label with the movie genre (as listed [here](http://files.grouplens.org/datasets/movielens/ml-20m-README.html)).\n",
    " \n",
    " ### Loading the data\n",
    " \n",
    " We start by using Apache Spark's built in functionality to load text files into the Spark cluster, `.textFile()` (documented [here](http://spark.apache.org/docs/2.1.0/api/python/pyspark.html#pyspark.SparkContext.textFile)), which will return an `RDD` of strings.\n",
    " Since `.textFile()` will read each row in the CSV file as an RDD entry, we further process it by then splitting each row into a list of CSV entries and keep only the relevant fields (i.e. `userId`, `movieId` and `rating` for the ratings, and `movieId` and `title` for the movies file)."
   ]
  },
  {
   "cell_type": "code",
   "execution_count": 23,
   "metadata": {},
   "outputs": [],
   "source": [
    "def load_data(path, header, token_fun):\n",
    "    \"\"\"Loads the CSV file, strips the header and keeps only the specified fields\"\"\"\n",
    "    rows = spark.sparkContext.textFile(path).filter(lambda x: x!=header).map(lambda x: x.split(\",\")).map(token_fun)\n",
    "    return spark.createDataFrame(rows)\n",
    "    \n",
    "    \n",
    "\n",
    "movies = load_data('ml-latest-small/movies.csv', \n",
    "                   'movieId,title,genres', \n",
    "                   lambda tokens: Row(item=int(tokens[0]),title=tokens[1]))\n",
    "\n",
    "ratings = load_data('ml-latest-small/ratings.csv', \n",
    "                    'userId,movieId,rating,timestamp', \n",
    "                    lambda tokens: Row(user=int(tokens[0]), item=int(tokens[1]), rating=float(tokens[2])))"
   ]
  },
  {
   "cell_type": "code",
   "execution_count": 24,
   "metadata": {},
   "outputs": [
    {
     "name": "stdout",
     "output_type": "stream",
     "text": [
      "Number of movies: 9742\n",
      "Number of ratings: 100836\n"
     ]
    },
    {
     "data": {
      "text/plain": [
       "[Row(item=1, title='Toy Story (1995)'),\n",
       " Row(item=2, title='Jumanji (1995)'),\n",
       " Row(item=3, title='Grumpier Old Men (1995)'),\n",
       " Row(item=4, title='Waiting to Exhale (1995)'),\n",
       " Row(item=5, title='Father of the Bride Part II (1995)')]"
      ]
     },
     "execution_count": 24,
     "metadata": {},
     "output_type": "execute_result"
    }
   ],
   "source": [
    "print(\"Number of movies: {}\".format(movies.count()))\n",
    "print(\"Number of ratings: {}\".format(ratings.count()))\n",
    "movies.take(5)"
   ]
  },
  {
   "cell_type": "markdown",
   "metadata": {},
   "source": [
    "We can now start by exploring the data.\n",
    "Let's look at the ratings distribution:"
   ]
  },
  {
   "cell_type": "code",
   "execution_count": 25,
   "metadata": {},
   "outputs": [
    {
     "data": {
      "text/plain": [
       "<matplotlib.axes._subplots.AxesSubplot at 0x122c169b0>"
      ]
     },
     "execution_count": 25,
     "metadata": {},
     "output_type": "execute_result"
    },
    {
     "data": {
      "image/png": "[encoded data removed]",
      "text/plain": [
       "<Figure size 432x288 with 1 Axes>"
      ]
     },
     "metadata": {
      "needs_background": "light"
     },
     "output_type": "display_data"
    }
   ],
   "source": [
    "import seaborn as sns\n",
    "\n",
    "r = ratings.select('rating').collect()\n",
    "sns.distplot(r, kde=False)"
   ]
  },
  {
   "cell_type": "markdown",
   "metadata": {},
   "source": [
    "## Training the model\n",
    "\n",
    "To train Spark's ALS model, we need to perform a few steps.\n",
    "The first step is to define a metric to quantify \"how good\" our model is. This is done by chosing an error measure, which typically is the _mean squared error_ (MSE). The mean square error is formally defined by\n",
    "\n",
    "$$\n",
    "\\text{MSE} = \\frac{1}{N}\\sum_{i=1}^{N}\\epsilon_i^2, \\qquad \\epsilon_i = r_i - \\hat{r}_i.\n",
    "$$\n",
    "\n",
    "That is, we first calculate the difference, $\\epsilon_i$, between each pair of true rating ($r_i$) and it's corresponding _predicted_ rating ($\\hat{r}_i$) and then calculated the average of the square of these errors. As example, consider a list of ratings `r1` and corresponding predictiong `r2`:"
   ]
  },
  {
   "cell_type": "code",
   "execution_count": 26,
   "metadata": {},
   "outputs": [],
   "source": [
    "r1 = [4.5, 3.0, 1.0, 5.0, 4.0]\n",
    "r2 = [4.56, 2.9, 1.1, 4.9, 3.2]"
   ]
  },
  {
   "cell_type": "code",
   "execution_count": 27,
   "metadata": {},
   "outputs": [
    {
     "name": "stdout",
     "output_type": "stream",
     "text": [
      "MSE = 0.13471999999999992\n"
     ]
    }
   ],
   "source": [
    "def mse(r, p):\n",
    "    return sum([(pair[0] - pair[1])**2 for pair in zip(r, p)]) / len(r)\n",
    "\n",
    "print(\"MSE = {}\".format(mse(r1, r2)))"
   ]
  },
  {
   "cell_type": "markdown",
   "metadata": {},
   "source": [
    "Since we've established our error measure, we can proceed to the next step.\n",
    "We now need to split our data into a _training_, _test_ and _validation_ subsets.\n",
    "We will use respectively the proportions 63%, 18% and 18%."
   ]
  },
  {
   "cell_type": "code",
   "execution_count": 28,
   "metadata": {},
   "outputs": [
    {
     "name": "stdout",
     "output_type": "stream",
     "text": [
      "Training dataset size = 63952\n",
      "Validation dataset size = 18559\n",
      "Test dataset size = 18325\n"
     ]
    }
   ],
   "source": [
    "def split_sets(ratings, proportions):\n",
    "    split = ratings.randomSplit(proportions, seed=42)\n",
    "    return {'training': split[0], 'validation': split[1], 'test': split[2]}\n",
    "    \n",
    "sets = split_sets(ratings, [0.63212056, 0.1839397, 0.1839397])\n",
    "print(\"Training dataset size = {}\".format(sets['training'].count()))\n",
    "print(\"Validation dataset size = {}\".format(sets['validation'].count()))\n",
    "print(\"Test dataset size = {}\".format(sets['test'].count()))"
   ]
  },
  {
   "cell_type": "markdown",
   "metadata": {},
   "source": [
    "### Parameter estimation\n",
    "\n",
    "We add the `coldStartStrategy` to the ALS class so that we automatically drop any `NaN` predictions."
   ]
  },
  {
   "cell_type": "code",
   "execution_count": 49,
   "metadata": {},
   "outputs": [],
   "source": [
    "from pyspark.ml.recommendation import ALS\n",
    "from pyspark.ml.tuning import TrainValidationSplit, ParamGridBuilder\n",
    "from pyspark.ml.evaluation import RegressionEvaluator\n",
    "\n",
    "als = ALS(coldStartStrategy=\"drop\")\n",
    "\n",
    "param_grid = ParamGridBuilder() \\\n",
    "    .addGrid(als.rank, [6, 8, 10, 12]) \\\n",
    "    .addGrid(als.maxIter,[6, 8, 10, 12]) \\\n",
    "    .build()\n",
    "\n",
    "evaluator = RegressionEvaluator(\n",
    "    metricName=\"mse\",\n",
    "    labelCol=\"rating\")\n",
    "\n",
    "tvs = TrainValidationSplit(\n",
    "    estimator=als,\n",
    "    estimatorParamMaps=param_grid,\n",
    "    evaluator=evaluator,\n",
    ")\n",
    "\n",
    "model = tvs.fit(sets['training'])"
   ]
  },
  {
   "cell_type": "code",
   "execution_count": null,
   "metadata": {},
   "outputs": [],
   "source": []
  },
  {
   "cell_type": "code",
   "execution_count": 53,
   "metadata": {},
   "outputs": [
    {
     "name": "stdout",
     "output_type": "stream",
     "text": [
      "+----+------------------------------------------------+----------+------+\n",
      "|user|title                                           |prediction|rating|\n",
      "+----+------------------------------------------------+----------+------+\n",
      "|599 |Othello (1995)                                  |3.0       |2.5   |\n",
      "|40  |Othello (1995)                                  |4.0       |4.0   |\n",
      "|68  |Othello (1995)                                  |3.0       |3.0   |\n",
      "|606 |\"City of Lost Children                          |4.0       |4.5   |\n",
      "|599 |\"City of Lost Children                          |3.0       |3.5   |\n",
      "|171 |\"City of Lost Children                          |5.0       |5.0   |\n",
      "|95  |\"City of Lost Children                          |4.0       |5.0   |\n",
      "|323 |\"City of Lost Children                          |4.0       |3.5   |\n",
      "|221 |\"City of Lost Children                          |4.0       |4.5   |\n",
      "|600 |\"City of Lost Children                          |4.0       |4.5   |\n",
      "|66  |\"City of Lost Children                          |4.0       |4.5   |\n",
      "|602 |In the Line of Fire (1993)                      |4.0       |5.0   |\n",
      "|476 |In the Line of Fire (1993)                      |4.0       |4.0   |\n",
      "|599 |In the Line of Fire (1993)                      |3.0       |2.5   |\n",
      "|305 |In the Line of Fire (1993)                      |4.0       |4.0   |\n",
      "|57  |In the Line of Fire (1993)                      |4.0       |3.0   |\n",
      "|235 |In the Line of Fire (1993)                      |4.0       |3.0   |\n",
      "|290 |In the Line of Fire (1993)                      |4.0       |4.0   |\n",
      "|404 |In the Line of Fire (1993)                      |4.0       |3.0   |\n",
      "|288 |In the Line of Fire (1993)                      |3.0       |3.0   |\n",
      "|480 |In the Line of Fire (1993)                      |3.0       |3.0   |\n",
      "|469 |In the Line of Fire (1993)                      |3.0       |3.0   |\n",
      "|109 |In the Line of Fire (1993)                      |3.0       |3.0   |\n",
      "|11  |In the Line of Fire (1993)                      |4.0       |4.0   |\n",
      "|274 |Paulie (1998)                                   |2.0       |3.5   |\n",
      "|217 |Paulie (1998)                                   |2.0       |1.0   |\n",
      "|599 |In the Heat of the Night (1967)                 |3.0       |3.5   |\n",
      "|140 |In the Heat of the Night (1967)                 |4.0       |4.0   |\n",
      "|290 |In the Heat of the Night (1967)                 |4.0       |5.0   |\n",
      "|188 |In the Heat of the Night (1967)                 |4.0       |4.0   |\n",
      "|27  |\"Computer Wore Tennis Shoes                     |3.0       |2.0   |\n",
      "|19  |\"Computer Wore Tennis Shoes                     |2.0       |2.0   |\n",
      "|603 |Planet of the Apes (1968)                       |4.0       |4.0   |\n",
      "|479 |Planet of the Apes (1968)                       |4.0       |3.0   |\n",
      "|607 |Planet of the Apes (1968)                       |4.0       |5.0   |\n",
      "|387 |Planet of the Apes (1968)                       |3.0       |4.0   |\n",
      "|290 |Planet of the Apes (1968)                       |4.0       |4.0   |\n",
      "|361 |Planet of the Apes (1968)                       |3.0       |2.0   |\n",
      "|75  |Planet of the Apes (1968)                       |3.0       |1.5   |\n",
      "|265 |Planet of the Apes (1968)                       |4.0       |4.0   |\n",
      "|546 |Planet of the Apes (1968)                       |4.0       |3.0   |\n",
      "|199 |Planet of the Apes (1968)                       |4.0       |4.0   |\n",
      "|186 |Planet of the Apes (1968)                       |4.0       |5.0   |\n",
      "|483 |Planet of the Apes (1968)                       |4.0       |3.0   |\n",
      "|332 |Kagemusha (1980)                                |3.0       |4.5   |\n",
      "|603 |Kagemusha (1980)                                |3.0       |4.0   |\n",
      "|217 |North Dallas Forty (1979)                       |2.0       |4.0   |\n",
      "|504 |Serendipity (2001)                              |3.0       |2.5   |\n",
      "|484 |Serendipity (2001)                              |4.0       |4.5   |\n",
      "|381 |Serendipity (2001)                              |3.0       |3.0   |\n",
      "|200 |Serendipity (2001)                              |4.0       |4.0   |\n",
      "|105 |Serendipity (2001)                              |3.0       |3.5   |\n",
      "|483 |Serendipity (2001)                              |3.0       |3.5   |\n",
      "|438 |Rapid Fire (1992)                               |NaN       |3.5   |\n",
      "|34  |Once Upon a Time in China (Wong Fei Hung) (1991)|2.0       |4.5   |\n",
      "|111 |Pumping Iron (1977)                             |2.0       |4.0   |\n",
      "|318 |\"Human Condition I                              |NaN       |4.5   |\n",
      "|610 |\"Happiness of the Katakuris                     |4.0       |4.0   |\n",
      "|387 |\"Host                                           |4.0       |4.0   |\n",
      "|380 |\"Host                                           |4.0       |4.0   |\n",
      "|599 |Step Brothers (2008)                            |2.0       |2.5   |\n",
      "|356 |Step Brothers (2008)                            |4.0       |3.0   |\n",
      "|73  |Step Brothers (2008)                            |4.0       |4.5   |\n",
      "|477 |Step Brothers (2008)                            |3.0       |4.0   |\n",
      "|18  |Step Brothers (2008)                            |3.0       |3.0   |\n",
      "|232 |Surrogates (2009)                               |3.0       |4.0   |\n",
      "|292 |Surrogates (2009)                               |3.0       |3.0   |\n",
      "|590 |Up in the Air (2009)                            |3.0       |4.0   |\n",
      "|495 |Up in the Air (2009)                            |4.0       |4.5   |\n",
      "|249 |Up in the Air (2009)                            |4.0       |4.0   |\n",
      "|352 |Up in the Air (2009)                            |4.0       |4.0   |\n",
      "|222 |New Year's Eve (2011)                           |2.0       |1.5   |\n",
      "|41  |\"Hunt                                           |3.0       |4.0   |\n",
      "|105 |\"Hunt                                           |4.0       |5.0   |\n",
      "|298 |\"Way                                            |1.0       |3.0   |\n",
      "|154 |Ender's Game (2013)                             |4.0       |4.0   |\n",
      "|561 |Ender's Game (2013)                             |3.0       |2.5   |\n",
      "|610 |Dallas Buyers Club (2013)                       |5.0       |4.0   |\n",
      "|105 |Dallas Buyers Club (2013)                       |5.0       |4.5   |\n",
      "|298 |Dallas Buyers Club (2013)                       |3.0       |2.5   |\n",
      "|424 |Dallas Buyers Club (2013)                       |4.0       |4.0   |\n",
      "|539 |Bio-Dome (1996)                                 |3.0       |4.5   |\n",
      "|19  |Bio-Dome (1996)                                 |2.0       |2.0   |\n",
      "|277 |Bio-Dome (1996)                                 |2.0       |3.0   |\n",
      "|337 |Bio-Dome (1996)                                 |3.0       |3.0   |\n",
      "|294 |Bio-Dome (1996)                                 |3.0       |3.0   |\n",
      "|599 |\"Scarlet Letter                                 |1.0       |1.5   |\n",
      "|414 |\"Scarlet Letter                                 |1.0       |2.0   |\n",
      "|597 |Blade Runner (1982)                             |5.0       |4.0   |\n",
      "|385 |Blade Runner (1982)                             |4.0       |5.0   |\n",
      "|330 |Blade Runner (1982)                             |4.0       |2.0   |\n",
      "|246 |Blade Runner (1982)                             |4.0       |5.0   |\n",
      "|274 |Blade Runner (1982)                             |4.0       |2.5   |\n",
      "|292 |Blade Runner (1982)                             |3.0       |3.5   |\n",
      "|339 |Blade Runner (1982)                             |5.0       |5.0   |\n",
      "|41  |Blade Runner (1982)                             |3.0       |2.0   |\n",
      "|489 |Blade Runner (1982)                             |3.0       |4.0   |\n",
      "|590 |Blade Runner (1982)                             |4.0       |4.5   |\n",
      "|17  |Blade Runner (1982)                             |4.0       |3.5   |\n",
      "|610 |Blade Runner (1982)                             |4.0       |5.0   |\n",
      "+----+------------------------------------------------+----------+------+\n",
      "only showing top 100 rows\n",
      "\n"
     ]
    }
   ],
   "source": [
    "from pyspark.sql import functions as F\n",
    "from pyspark.sql.functions import col\n",
    "\n",
    "prediction = model.transform(sets['test'])\n",
    "\n",
    "# Round floats to whole numbers\n",
    "prediction = prediction.withColumn(\"prediction\", F.abs(F.round(prediction[\"prediction\"],0)))\n",
    "\n",
    "prediction.alias('p').join(movies.alias('m'), col('p.item') == col('m.item')) \\\n",
    "    .select([col('p.user'), col('m.title'), col('p.prediction'), col('p.rating')]).show(100, truncate=False)"
   ]
  },
  {
   "cell_type": "code",
   "execution_count": 48,
   "metadata": {},
   "outputs": [
    {
     "ename": "AttributeError",
     "evalue": "'ALSModel' object has no attribute 'predictAll'",
     "output_type": "error",
     "traceback": [
      "\u001b[0;31m---------------------------------------------------------------------------\u001b[0m",
      "\u001b[0;31mAttributeError\u001b[0m                            Traceback (most recent call last)",
      "\u001b[0;32m<ipython-input-48-b4ffef966af3>\u001b[0m in \u001b[0;36m<module>\u001b[0;34m\u001b[0m\n\u001b[0;32m----> 1\u001b[0;31m \u001b[0mmodel\u001b[0m\u001b[0;34m.\u001b[0m\u001b[0mpredictAll\u001b[0m\u001b[0;34m(\u001b[0m\u001b[0msets\u001b[0m\u001b[0;34m[\u001b[0m\u001b[0;34m'validation'\u001b[0m\u001b[0;34m]\u001b[0m\u001b[0;34m)\u001b[0m\u001b[0;34m\u001b[0m\u001b[0m\n\u001b[0m",
      "\u001b[0;31mAttributeError\u001b[0m: 'ALSModel' object has no attribute 'predictAll'"
     ]
    }
   ],
   "source": []
  },
  {
   "cell_type": "code",
   "execution_count": null,
   "metadata": {},
   "outputs": [],
   "source": [
    "from pyspark.mllib.recommendation import ALS\n",
    "rank = 10\n",
    "iterations = 10\n",
    "seed = 42\n",
    "model = ALS.train(sets['training'], rank, seed=seed, iterations=iterations)"
   ]
  },
  {
   "cell_type": "code",
   "execution_count": null,
   "metadata": {},
   "outputs": [],
   "source": [
    "validation = sets['validation'].map(lambda x: (x[0], x[1]))\n",
    "validation.take(5)"
   ]
  },
  {
   "cell_type": "code",
   "execution_count": null,
   "metadata": {},
   "outputs": [],
   "source": [
    "predictions = model.predictAll(validation)\n",
    "predictions.take(10)"
   ]
  },
  {
   "cell_type": "code",
   "execution_count": null,
   "metadata": {},
   "outputs": [],
   "source": []
  }
 ],
 "metadata": {
  "kernelspec": {
   "display_name": "Python 2",
   "language": "python",
   "name": "python2"
  },
  "language_info": {
   "codemirror_mode": {
    "name": "ipython",
    "version": 3
   },
   "file_extension": ".py",
   "mimetype": "text/x-python",
   "name": "python",
   "nbconvert_exporter": "python",
   "pygments_lexer": "ipython3",
   "version": "3.6.5"
  }
 },
 "nbformat": 4,
 "nbformat_minor": 1
}
