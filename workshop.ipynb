{
 "cells": [
  {
   "cell_type": "markdown",
   "metadata": {},
   "source": [
    "# Recommendation engines explained"
   ]
  },
  {
   "cell_type": "markdown",
   "metadata": {},
   "source": [
    "We start by importing the relevant [Apache Spark](https://spark.apache.org/) modules and create a Spark session:"
   ]
  },
  {
   "cell_type": "code",
   "execution_count": 1,
   "metadata": {},
   "outputs": [],
   "source": [
    "%matplotlib inline\n",
    "\n",
    "from pyspark import SparkContext, SparkConf\n",
    "from pyspark.sql import Row, SparkSession\n",
    "\n",
    "spark = SparkSession.builder \\\n",
    "        .master(\"local\") \\\n",
    "        .appName(\"recommender\") \\\n",
    "        .config(\"spark.sql.crossJoin.enabled\", \"true\") \\\n",
    "        .getOrCreate()"
   ]
  },
  {
   "cell_type": "markdown",
   "metadata": {},
   "source": [
    "## The MovieLens dataset\n",
    "\n",
    "The MovieLens dataset (already available with this notebook, originally [here](https://grouplens.org/datasets/movielens/)) is a popular dataset used in recommendation engines research.\n",
    "In this workshop we will use the \"small\" variant, consisting of 20000263 ratings for 27278 movies by 138493 users.\n",
    "This dataset consist of several CSV files, namely\n",
    " * A ratings data file (`ratings.csv`)\n",
    " * A tags data file (`tags.csv`)\n",
    " * A movies data file (`movies.csv`)\n",
    " * A links data file (`links.csv`)\n",
    " * A tag genome (`genome-scores.csv` and `genome-tags.csv`)\n",
    " \n",
    " For the scope of this workshop, we are mainly interest in the rating and movies data files, which have, respectively, the following structure:\n",
    " The ratings data:\n",
    " * `userId`, a unique numerical user id\n",
    " * `movieId`, a unique numerical movie id\n",
    " * `rating`, a numerical rating, as an integer from $0$ to $5$\n",
    " * `timestamp`, a numerical timestamp (not used in this exercise)\n",
    " The movies data:\n",
    " * `movieId`, as above\n",
    " * `title`, the movie title\n",
    " * `genres` a string label with the movie genre (as listed [here](http://files.grouplens.org/datasets/movielens/ml-20m-README.html)).\n",
    " \n",
    " ### Loading the data\n",
    " \n",
    " We start by using Apache Spark's built in functionality to load text files into the Spark cluster, `.textFile()` (documented [here](http://spark.apache.org/docs/2.1.0/api/python/pyspark.html#pyspark.SparkContext.textFile)), which will return an `RDD` of strings.\n",
    " Since `.textFile()` will read each row in the CSV file as an RDD entry, we further process it by then splitting each row into a list of CSV entries and keep only the relevant fields (i.e. `userId`, `movieId` and `rating` for the ratings, and `movieId` and `title` for the movies file).\n",
    " \n",
    " We then create a Spark [dataframe](https://spark.apache.org/docs/latest/sql-programming-guide.html) containing the entries."
   ]
  },
  {
   "cell_type": "code",
   "execution_count": 2,
   "metadata": {},
   "outputs": [],
   "source": [
    "def load_data(path, header, token_fun):\n",
    "    \"\"\"Loads the CSV file, strips the header and keeps only the specified fields\"\"\"\n",
    "    rows = spark.sparkContext.textFile(path).filter(lambda x: x!=header).map(lambda x: x.split(\",\")).map(token_fun)\n",
    "    # create a Spark dataframe from the RDDs\n",
    "    return spark.createDataFrame(rows).cache()\n",
    "    \n",
    "    \n",
    "# Load the movie data (movie id, title)\n",
    "movies = load_data('ml-latest-small/movies.csv', \n",
    "                   'movieId,title,genres', \n",
    "                   lambda tokens: Row(item=int(tokens[0]),title=tokens[1]))\n",
    "\n",
    "# Load the ratings (user id, movie id, rating)\n",
    "ratings = load_data('ml-latest-small/ratings.csv', \n",
    "                    'userId,movieId,rating,timestamp', \n",
    "                    lambda tokens: Row(user=int(tokens[0]), item=int(tokens[1]), rating=float(tokens[2])))"
   ]
  },
  {
   "cell_type": "code",
   "execution_count": 3,
   "metadata": {},
   "outputs": [
    {
     "name": "stdout",
     "output_type": "stream",
     "text": [
      "Number of movies: 9742\n",
      "Number of ratings: 100836\n"
     ]
    },
    {
     "data": {
      "text/plain": [
       "[Row(item=1, title='Toy Story (1995)'),\n",
       " Row(item=2, title='Jumanji (1995)'),\n",
       " Row(item=3, title='Grumpier Old Men (1995)'),\n",
       " Row(item=4, title='Waiting to Exhale (1995)'),\n",
       " Row(item=5, title='Father of the Bride Part II (1995)')]"
      ]
     },
     "execution_count": 3,
     "metadata": {},
     "output_type": "execute_result"
    }
   ],
   "source": [
    "print(\"Number of movies: {}\".format(movies.count()))\n",
    "print(\"Number of ratings: {}\".format(ratings.count()))\n",
    "movies.take(5)"
   ]
  },
  {
   "cell_type": "markdown",
   "metadata": {},
   "source": [
    "We can now start by exploring the data.\n",
    "Let's look at the ratings distribution:"
   ]
  },
  {
   "cell_type": "code",
   "execution_count": 4,
   "metadata": {},
   "outputs": [
    {
     "data": {
      "text/plain": [
       "<matplotlib.axes._subplots.AxesSubplot at 0x124eeb160>"
      ]
     },
     "execution_count": 4,
     "metadata": {},
     "output_type": "execute_result"
    },
    {
     "data": {
      "image/png": "[encoded data removed]",
      "text/plain": [
       "<Figure size 432x288 with 1 Axes>"
      ]
     },
     "metadata": {
      "needs_background": "light"
     },
     "output_type": "display_data"
    }
   ],
   "source": [
    "import seaborn as sns\n",
    "\n",
    "r = ratings.select('rating').collect()\n",
    "sns.distplot(r, kde=False)"
   ]
  },
  {
   "cell_type": "markdown",
   "metadata": {},
   "source": [
    "We can see that most of the ratings are $4$ starts, followed by $3$ and $3.5$ stars. Users generally do not give very low ratings (e.g. $0.5$, $1$).\n",
    "\n",
    "Let's try to see now the distribution of the number of ratings per user. That is, so user give many ratings on average?"
   ]
  },
  {
   "cell_type": "code",
   "execution_count": 6,
   "metadata": {},
   "outputs": [
    {
     "data": {
      "text/plain": [
       "<matplotlib.axes._subplots.AxesSubplot at 0x12a9705f8>"
      ]
     },
     "execution_count": 6,
     "metadata": {},
     "output_type": "execute_result"
    },
    {
     "data": {
      "image/png": "[encoded data removed]",
      "text/plain": [
       "<Figure size 432x288 with 1 Axes>"
      ]
     },
     "metadata": {
      "needs_background": "light"
     },
     "output_type": "display_data"
    }
   ],
   "source": [
    "ratings_per_user = ratings.groupBy(\"user\").count()\n",
    "sns.distplot(ratings_per_user.select(\"count\").collect(), hist_kws={'log':True}, kde_kws={'clip': (1.0, 3000.0)})"
   ]
  },
  {
   "cell_type": "markdown",
   "metadata": {},
   "source": [
    "We can see that we have \"super users\", i.e. users that give more than 2000 ratings!\n",
    "From this histogram its not easy to see how many they are, so lets find out."
   ]
  },
  {
   "cell_type": "code",
   "execution_count": 7,
   "metadata": {},
   "outputs": [
    {
     "name": "stdout",
     "output_type": "stream",
     "text": [
      "+----------+\n",
      "|sum(count)|\n",
      "+----------+\n",
      "|         4|\n",
      "+----------+\n",
      "\n"
     ]
    }
   ],
   "source": [
    "from pyspark.sql.functions import col\n",
    "\n",
    "ratings_per_user.filter(col('count') > 1500).groupBy('user').count().agg({\"count\":\"sum\"}).show()"
   ]
  },
  {
   "cell_type": "markdown",
   "metadata": {},
   "source": [
    "So we only have $4$ \"super\" users. Let's now see how many users we have with less that 100 ratings:"
   ]
  },
  {
   "cell_type": "code",
   "execution_count": 8,
   "metadata": {},
   "outputs": [
    {
     "name": "stdout",
     "output_type": "stream",
     "text": [
      "+----------+\n",
      "|sum(count)|\n",
      "+----------+\n",
      "|       476|\n",
      "+----------+\n",
      "\n"
     ]
    }
   ],
   "source": [
    "ratings_per_user.filter(col('count') < 200).groupBy('user').count().agg({\"count\":\"sum\"}).show()"
   ]
  },
  {
   "cell_type": "markdown",
   "metadata": {},
   "source": [
    "We can see that the vast majority of users gave less that $200$ ratings, which is a sensible number.\n",
    "\n",
    "What about the movies? Do movies tend to have the same number of reviews or not? We can check by running:"
   ]
  },
  {
   "cell_type": "code",
   "execution_count": 9,
   "metadata": {},
   "outputs": [
    {
     "data": {
      "text/plain": [
       "<matplotlib.axes._subplots.AxesSubplot at 0x12ac31c18>"
      ]
     },
     "execution_count": 9,
     "metadata": {},
     "output_type": "execute_result"
    },
    {
     "data": {
      "image/png": "[encoded data removed]",
      "text/plain": [
       "<Figure size 432x288 with 1 Axes>"
      ]
     },
     "metadata": {
      "needs_background": "light"
     },
     "output_type": "display_data"
    }
   ],
   "source": [
    "ratings_per_movie = ratings.groupBy(\"item\").count()\n",
    "sns.distplot(ratings_per_movie.select(\"count\").collect(), hist_kws={'log':True}, kde_kws={'clip': (0, 3000.0)})"
   ]
  },
  {
   "cell_type": "code",
   "execution_count": 10,
   "metadata": {},
   "outputs": [
    {
     "name": "stdout",
     "output_type": "stream",
     "text": [
      "+----------+\n",
      "|sum(count)|\n",
      "+----------+\n",
      "|      3446|\n",
      "+----------+\n",
      "\n"
     ]
    }
   ],
   "source": [
    "ratings_per_movie.filter(col('count') < 2).groupBy('item').count().agg({\"count\":\"sum\"}).show()"
   ]
  },
  {
   "cell_type": "markdown",
   "metadata": {},
   "source": [
    "# Alternating Least Squares (ALS)\n",
    "\n",
    "Alternating Least Squares (ALS) is a standard algorithm for collaborative filtering. Its main rationale is that (conditioned on some item) users that agreed before are more likely to agree in the future.\n",
    "In ALS, we aim at building a correlation matrix $M_{u,i}$ such that, given a rating $r$ given by a user $u$ to an item $i$ we have:\n",
    "\n",
    "$$M_{u,i}=\\begin{cases}\n",
    "    r,& \\text{if user}\\ u\\ \\text{rated item}\\ i\\\\\n",
    "    0,& \\text{if user}\\ u\\ \\text{didn't rate item}\\ i\n",
    "\\end{cases}$$\n",
    "\n",
    "Provided we have a factor matrix $A$ for the users and a factor matrix $B$ for the movies, as the name implies, we use alternating least squares to first estimate $B\\left(A\\right)$ and then $A\\left(B\\right)$ until we reach convergence.\n",
    "\n",
    "An important characteristics is that we want to penalise items without ratings, and as such we use\n",
    "\n",
    "$$ w_{u,i}=\\begin{cases}\n",
    "    0,& \\text{if}\\ M_{u,i}=0\\\\\n",
    "    1,& \\text{otherwise}\n",
    "\\end{cases}$$\n",
    "\n",
    "The cost functions to minimise are:\n",
    "$$\n",
    "\\begin{align}\n",
    "J\\left(a_u\\right) &= \\left(m_u - a_u B\\right)W_u\\left(m_u-a_u B\\right)^T + \\lambda a_u a_u^T \\\\\n",
    "J\\left(b_i\\right) &= \\left(m_i - A b_i B\\right)W_i\\left(m_i-A b_i \\right)^T + \\lambda b_i b_i^T\n",
    "\\end{align}\n",
    "$$\n",
    "\n",
    "This is minimised using\n",
    "\n",
    "$$\n",
    "\\begin{align}\n",
    "a_u = \\left(B W_u B^T + \\lambda I\\right)^{-1}B W_u m_u \\\\\n",
    "b_u = \\left(A W_i A^T + \\lambda I\\right)^{-1}A W_i m_i\n",
    "\\end{align}\n",
    "$$\n",
    "\n",
    "## Training the model\n",
    "\n",
    "TODO: Explain the model\n",
    "\n",
    "To train Spark's ALS model, we need to perform a few steps.\n",
    "The first step is to define a metric to quantify \"how good\" our model is. This is done by chosing an error measure, which typically is the _mean squared error_ (MSE). The mean square error is formally defined by\n",
    "\n",
    "$$\n",
    "\\text{MSE} = \\frac{1}{N}\\sum_{i=1}^{N}\\epsilon_i^2, \\qquad \\epsilon_i = r_i - \\hat{r}_i.\n",
    "$$\n",
    "\n",
    "That is, we first calculate the difference, $\\epsilon_i$, between each pair of true rating ($r_i$) and it's corresponding _predicted_ rating ($\\hat{r}_i$) and then calculated the average of the square of these errors. As example, consider a list of ratings `r1` and corresponding predictiong `r2`:"
   ]
  },
  {
   "cell_type": "code",
   "execution_count": 11,
   "metadata": {},
   "outputs": [],
   "source": [
    "r1 = [4.5, 3.0, 1.0, 5.0, 4.0]\n",
    "r2 = [4.56, 2.9, 1.1, 4.9, 3.2]"
   ]
  },
  {
   "cell_type": "code",
   "execution_count": 12,
   "metadata": {},
   "outputs": [
    {
     "name": "stdout",
     "output_type": "stream",
     "text": [
      "MSE = 0.13471999999999992\n"
     ]
    }
   ],
   "source": [
    "def mse(r, p):\n",
    "    return sum([(pair[0] - pair[1])**2 for pair in zip(r, p)]) / len(r)\n",
    "\n",
    "print(\"MSE = {}\".format(mse(r1, r2)))"
   ]
  },
  {
   "cell_type": "markdown",
   "metadata": {},
   "source": [
    "Since we've established our error measure, we can proceed to the next step.\n",
    "We now need to split our data into a _training_, _test_ and _validation_ subsets.\n",
    "We will use respectively the proportions 63%, 18% and 18% (you can try other ratios)."
   ]
  },
  {
   "cell_type": "code",
   "execution_count": 13,
   "metadata": {},
   "outputs": [
    {
     "name": "stdout",
     "output_type": "stream",
     "text": [
      "Training dataset size = 63952\n",
      "Validation dataset size = 18464\n",
      "Test dataset size = 18420\n"
     ]
    }
   ],
   "source": [
    "def split_sets(ratings, proportions):\n",
    "    split = ratings.randomSplit(proportions, seed=42)\n",
    "    return {'training': split[0], 'validation': split[1], 'test': split[2]}\n",
    "    \n",
    "sets = split_sets(ratings, [0.63212056, 0.1839397, 0.1839397])\n",
    "print(\"Training dataset size = {}\".format(sets['training'].count()))\n",
    "print(\"Validation dataset size = {}\".format(sets['validation'].count()))\n",
    "print(\"Test dataset size = {}\".format(sets['test'].count()))"
   ]
  },
  {
   "cell_type": "markdown",
   "metadata": {},
   "source": [
    "The [parameters available](https://spark.apache.org/docs/latest/api/python/pyspark.ml.html?highlight=als#module-pyspark.ml.recommendation) for Spark's ALS class are:\n",
    "\n",
    "ALS(rank=10, maxIter=10, regParam=0.1, numUserBlocks=10, numItemBlocks=10, implicitPrefs=False, alpha=1.0, userCol='user', itemCol='item', seed=None, ratingCol='rating', nonnegative=False, checkpointInterval=10, intermediateStorageLevel='MEMORY_AND_DISK', finalStorageLevel='MEMORY_AND_DISK', coldStartStrategy='nan')[source]¶\n",
    "\n",
    "* `rank`, Rank of the feature matrices computed (number of features, default $10$)\n",
    "* `maxIter`, Maximum number of iterations of ALS. (default: 10)\n",
    "* `regParam`, Regularization parameter. (default: 0.1)\n",
    "* `numUserBlocks`, Number of blocks used to parallelize the computation. A value of -1 will use an auto-configured number of blocks. (default: 10)\n",
    "* `nonnegative`, A value of True will solve least-squares with nonnegativity constraints. (default: False)\n",
    "* `seed`, Random seed for initial matrix factorization model. A value of None will use system time as the seed. (default: None)\n",
    "* `implicitPrefs`, whether we are using implicit data or not (more on that later)\n",
    "* `userCol`, name of the Dataframe column representing user ids\n",
    "* `itemCol`, name of the Dataframe column representing movie ids\n",
    "* `coldStrategy`, Strategy for dealing with unknown or new users/items at prediction time. This may be useful in cross-validation or production scenarios, for handling user/item ids the model has not seen in the training data. (either `nan` (default) or `drop`)\n",
    "\n",
    "Let's try an ALS model with some arbitrary parameters, namely `rank=3`, `maxIter=5`, `regParam=0.1` and `coldStrategy='drop'`."
   ]
  },
  {
   "cell_type": "code",
   "execution_count": 32,
   "metadata": {},
   "outputs": [
    {
     "name": "stdout",
     "output_type": "stream",
     "text": [
      "CPU times: user 20 ms, sys: 7.61 ms, total: 27.6 ms\n",
      "Wall time: 2.82 s\n"
     ]
    }
   ],
   "source": [
    "from pyspark.ml.recommendation import ALS\n",
    "\n",
    "simple_als = ALS(maxIter=5, regParam=0.01, rank=3, coldStartStrategy='drop')"
   ]
  },
  {
   "cell_type": "markdown",
   "metadata": {},
   "source": [
    "After the `ALS` class instantiation, we specify the data to be used for training using the `.fit()` method:"
   ]
  },
  {
   "cell_type": "code",
   "execution_count": 33,
   "metadata": {},
   "outputs": [
    {
     "name": "stdout",
     "output_type": "stream",
     "text": [
      "CPU times: user 23.3 ms, sys: 8.55 ms, total: 31.8 ms\n",
      "Wall time: 2.04 s\n"
     ]
    }
   ],
   "source": [
    "%time simple_model = simple_als.fit(sets['training'])"
   ]
  },
  {
   "cell_type": "markdown",
   "metadata": {},
   "source": [
    "As we can see from the above, the training was quite quick ($2$ seconds in my case, yours may be different).\n",
    "\n",
    "We can now calculate the MSE for this model, with the test datasets. To do so, we use the [Spark's](http://spark.apache.org/docs/2.2.0/api/python/pyspark.ml.html#pyspark.ml.evaluation.RegressionEvaluator) `RegressionEvaluator` class. In this class we can specify the error measure (`mse`, `rmse`, etc.) and the names of the labels (in our case the ratings) and the predictions columns."
   ]
  },
  {
   "cell_type": "code",
   "execution_count": 31,
   "metadata": {},
   "outputs": [
    {
     "name": "stdout",
     "output_type": "stream",
     "text": [
      "MSE = 0.9840127972425159\n"
     ]
    }
   ],
   "source": [
    "from pyspark.ml.evaluation import RegressionEvaluator\n",
    "\n",
    "evaluator = RegressionEvaluator(\n",
    "    metricName=\"mse\",\n",
    "    labelCol=\"rating\",\n",
    "    predictionCol=\"prediction\")\n",
    "\n",
    "mse = evaluator.evaluate(simple_model.transform(sets['test']))\n",
    "print(\"MSE = {}\".format(mse))"
   ]
  },
  {
   "cell_type": "markdown",
   "metadata": {},
   "source": [
    "### Parameter estimation\n",
    "\n",
    "The question now is, how do we know which parameters are the best? We first start by the definition of \"best\".\n",
    "In this case, the \"best\" parameters will be the ones that would generate a model which when used with a dataset (other than the training), would produce the most accurate predictions. We've [seen above](#Training-the-model) that a way of determining this accuracy would be to use an error measure such the MSE.\n",
    "\n",
    "To determine the parameters, we then use a \"brute force\" method: we train the model with a range of parameters, calculate the MSE, and choose the parameter combination which provides the smallest MSE.\n",
    "\n",
    "We could of course do this manually, but Spark provives an utility method to automate the task for us.\n",
    "We use the [`RegressionEvaluator` class](http://spark.apache.org/docs/2.2.0/api/python/pyspark.ml.html#pyspark.ml.evaluation.RegressionEvaluator) to calculate the MSE for each parameter combination and a [`TrainValidationSplit` class](http://spark.apache.org/docs/2.2.0/api/python/pyspark.ml.html#pyspark.ml.tuning.TrainValidationSplit) to perform the actual training.\n",
    "\n",
    "(Below, we add the `coldStartStrategy` to the ALS class so that we automatically drop any `NaN` predictions.)"
   ]
  },
  {
   "cell_type": "code",
   "execution_count": 35,
   "metadata": {},
   "outputs": [
    {
     "name": "stdout",
     "output_type": "stream",
     "text": [
      "CPU times: user 402 ms, sys: 111 ms, total: 513 ms\n",
      "Wall time: 59.3 s\n"
     ]
    }
   ],
   "source": [
    "from pyspark.ml.recommendation import ALS\n",
    "from pyspark.ml.tuning import TrainValidationSplit, ParamGridBuilder\n",
    "from pyspark.ml.evaluation import RegressionEvaluator\n",
    "\n",
    "als = ALS(coldStartStrategy=\"drop\")\n",
    "\n",
    "param_grid = ParamGridBuilder() \\\n",
    "    .addGrid(als.rank, [6, 8]) \\\n",
    "    .addGrid(als.maxIter,[10, 12]) \\\n",
    "    .build()\n",
    "\n",
    "evaluator = RegressionEvaluator(\n",
    "    metricName=\"mse\",\n",
    "    labelCol=\"rating\",\n",
    "    predictionCol=\"prediction\")\n",
    "\n",
    "tvs = TrainValidationSplit(\n",
    "    estimator=als,\n",
    "    estimatorParamMaps=param_grid,\n",
    "    evaluator=evaluator,\n",
    ")\n",
    "\n",
    "%time model = tvs.fit(sets['training'])"
   ]
  },
  {
   "cell_type": "markdown",
   "metadata": {},
   "source": [
    "The `TrainValidationSplit` instance (`model`) stores the model with the smallest MSE in `model.bestModel`.\n",
    "We can access the best parameters from our proposal in `model.bestModel`."
   ]
  },
  {
   "cell_type": "code",
   "execution_count": 81,
   "metadata": {},
   "outputs": [
    {
     "name": "stdout",
     "output_type": "stream",
     "text": [
      "Best rank = 6\n",
      "Bext maxIter = 12\n"
     ]
    }
   ],
   "source": [
    "print(\"Best rank = {}\".format(model.bestModel.rank))\n",
    "print(\"Bext maxIter = {}\".format(model.bestModel._java_obj.parent().getMaxIter()))"
   ]
  },
  {
   "cell_type": "markdown",
   "metadata": {},
   "source": [
    "If you want, you can search for the best parameter giving more options. Keep in mind, however, that the parameter grid search explores all _combinations_ of parameters, therefore the number trained models will grow exponentially, and of course, so will the time taken to perform the computations.\n",
    "\n",
    "The `model` instance has a method (`.transform()`) which allows us to train the model. It will automatically assume the best model.\n",
    "Lets perform the training and display the predictions. We will also join the prediction dataframe (which contains the movie ids) with the `movies` dataframe so we can see the actual titles of the movies."
   ]
  },
  {
   "cell_type": "code",
   "execution_count": 40,
   "metadata": {},
   "outputs": [
    {
     "name": "stdout",
     "output_type": "stream",
     "text": [
      "+----+--------------------------------+----------+------+\n",
      "|user|title                           |prediction|rating|\n",
      "+----+--------------------------------+----------+------+\n",
      "|599 |\"Hudsucker Proxy                |2.7932353 |2.5   |\n",
      "|603 |\"Hudsucker Proxy                |2.9024253 |4.0   |\n",
      "|182 |\"Hudsucker Proxy                |3.8016074 |4.5   |\n",
      "|500 |\"Hudsucker Proxy                |3.7163656 |1.0   |\n",
      "|520 |\"Hudsucker Proxy                |3.524216  |5.0   |\n",
      "|411 |\"Hudsucker Proxy                |2.932115  |4.0   |\n",
      "|541 |\"Hudsucker Proxy                |3.4211764 |3.0   |\n",
      "|260 |\"Hudsucker Proxy                |3.3195105 |4.5   |\n",
      "|606 |Dirty Dancing (1987)            |3.4115505 |3.0   |\n",
      "|599 |Dirty Dancing (1987)            |2.7029872 |2.5   |\n",
      "|563 |Dirty Dancing (1987)            |3.7675972 |4.0   |\n",
      "|381 |Dirty Dancing (1987)            |3.6416597 |3.5   |\n",
      "|200 |Dirty Dancing (1987)            |4.060302  |4.0   |\n",
      "|600 |Dirty Dancing (1987)            |3.045949  |3.5   |\n",
      "|42  |Dirty Dancing (1987)            |3.971045  |3.0   |\n",
      "|517 |Dirty Dancing (1987)            |2.439155  |1.0   |\n",
      "|325 |Local Hero (1983)               |4.5569987 |4.0   |\n",
      "|223 |Candyman (1992)                 |2.2894385 |1.0   |\n",
      "|19  |Candyman (1992)                 |3.0491793 |2.0   |\n",
      "|425 |Candyman (1992)                 |2.8338947 |3.5   |\n",
      "|580 |Men in Black (a.k.a. MIB) (1997)|3.335679  |4.0   |\n",
      "|368 |Men in Black (a.k.a. MIB) (1997)|2.9801009 |3.0   |\n",
      "|93  |Men in Black (a.k.a. MIB) (1997)|4.418834  |5.0   |\n",
      "|355 |Men in Black (a.k.a. MIB) (1997)|3.8631964 |4.0   |\n",
      "|274 |Men in Black (a.k.a. MIB) (1997)|3.3867724 |3.0   |\n",
      "|280 |Men in Black (a.k.a. MIB) (1997)|3.745315  |3.5   |\n",
      "|474 |Men in Black (a.k.a. MIB) (1997)|3.4110177 |4.5   |\n",
      "|500 |Men in Black (a.k.a. MIB) (1997)|3.1769323 |4.0   |\n",
      "|570 |Men in Black (a.k.a. MIB) (1997)|3.3042653 |4.0   |\n",
      "|489 |Men in Black (a.k.a. MIB) (1997)|2.9289515 |3.0   |\n",
      "|202 |Men in Black (a.k.a. MIB) (1997)|3.5545    |4.0   |\n",
      "|263 |Men in Black (a.k.a. MIB) (1997)|3.6877835 |3.0   |\n",
      "|495 |Men in Black (a.k.a. MIB) (1997)|3.566394  |3.5   |\n",
      "|555 |Men in Black (a.k.a. MIB) (1997)|3.750688  |2.0   |\n",
      "|391 |Men in Black (a.k.a. MIB) (1997)|2.7754257 |2.0   |\n",
      "|361 |Men in Black (a.k.a. MIB) (1997)|3.0256722 |3.5   |\n",
      "|249 |Men in Black (a.k.a. MIB) (1997)|3.728466  |4.5   |\n",
      "|219 |Men in Black (a.k.a. MIB) (1997)|3.1710036 |3.0   |\n",
      "|352 |Men in Black (a.k.a. MIB) (1997)|3.6284142 |2.5   |\n",
      "|272 |Men in Black (a.k.a. MIB) (1997)|2.926938  |4.0   |\n",
      "|534 |Men in Black (a.k.a. MIB) (1997)|3.827937  |4.0   |\n",
      "|522 |Men in Black (a.k.a. MIB) (1997)|3.0643065 |4.0   |\n",
      "|357 |Men in Black (a.k.a. MIB) (1997)|3.7438626 |3.5   |\n",
      "|153 |Men in Black (a.k.a. MIB) (1997)|1.3878338 |0.5   |\n",
      "|18  |Men in Black (a.k.a. MIB) (1997)|3.530032  |3.5   |\n",
      "|187 |Men in Black (a.k.a. MIB) (1997)|2.6229055 |2.0   |\n",
      "|19  |Spawn (1997)                    |2.2934458 |2.0   |\n",
      "|217 |Spawn (1997)                    |1.9334575 |2.0   |\n",
      "|288 |Spawn (1997)                    |2.5456946 |3.0   |\n",
      "|464 |Spawn (1997)                    |2.497135  |1.0   |\n",
      "|298 |Spawn (1997)                    |1.6271632 |1.5   |\n",
      "|305 |The Devil's Advocate (1997)     |3.773104  |2.5   |\n",
      "|603 |The Devil's Advocate (1997)     |3.3075528 |3.0   |\n",
      "|182 |The Devil's Advocate (1997)     |3.3519588 |4.5   |\n",
      "|542 |The Devil's Advocate (1997)     |3.6748571 |5.0   |\n",
      "|590 |The Devil's Advocate (1997)     |2.9562654 |3.0   |\n",
      "|586 |The Devil's Advocate (1997)     |4.408102  |3.5   |\n",
      "|69  |The Devil's Advocate (1997)     |4.1431026 |4.0   |\n",
      "|160 |The Devil's Advocate (1997)     |1.9418494 |3.0   |\n",
      "|480 |The Devil's Advocate (1997)     |3.4158971 |3.0   |\n",
      "|608 |The Devil's Advocate (1997)     |3.8078268 |4.5   |\n",
      "|606 |Chinese Box (1997)              |1.9969097 |3.5   |\n",
      "|577 |Out of Africa (1985)            |3.146337  |4.0   |\n",
      "|202 |Out of Africa (1985)            |3.8405836 |4.0   |\n",
      "|368 |Children of the Corn (1984)     |1.956051  |2.0   |\n",
      "|260 |Children of the Corn (1984)     |1.5848918 |3.5   |\n",
      "|608 |\"American Tail: Fievel Goes West|2.3962135 |2.0   |\n",
      "|294 |\"American Tail: Fievel Goes West|2.4737506 |1.0   |\n",
      "|332 |King Kong (1933)                |3.8459506 |3.5   |\n",
      "|508 |King Kong (1933)                |3.45504   |1.5   |\n",
      "|527 |\"Buddy Holly Story              |3.2139344 |4.0   |\n",
      "|155 |Galaxy Quest (1999)             |3.867597  |4.0   |\n",
      "|91  |Galaxy Quest (1999)             |3.5037086 |3.5   |\n",
      "|328 |Galaxy Quest (1999)             |2.7480192 |1.5   |\n",
      "|391 |Galaxy Quest (1999)             |3.1586144 |2.0   |\n",
      "|249 |Galaxy Quest (1999)             |3.8453119 |3.0   |\n",
      "|167 |Galaxy Quest (1999)             |3.4525778 |3.5   |\n",
      "|156 |Galaxy Quest (1999)             |3.5760436 |4.5   |\n",
      "|141 |Galaxy Quest (1999)             |3.4032881 |4.0   |\n",
      "|294 |Galaxy Quest (1999)             |2.5055687 |3.0   |\n",
      "|313 |Galaxy Quest (1999)             |3.2437587 |4.0   |\n",
      "|89  |Galaxy Quest (1999)             |2.1059494 |2.5   |\n",
      "|603 |Hellbound: Hellraiser II (1988) |2.6455274 |3.0   |\n",
      "|274 |Hellbound: Hellraiser II (1988) |2.7625525 |3.5   |\n",
      "|610 |Dungeons & Dragons (2000)       |1.8857576 |1.0   |\n",
      "|599 |\"Land Before Time               |2.1057348 |2.5   |\n",
      "|249 |I Spy (2002)                    |2.6753953 |3.0   |\n",
      "|606 |Mississippi Masala (1991)       |4.091464  |4.0   |\n",
      "|356 |American Splendor (2003)        |3.832704  |2.0   |\n",
      "|477 |American Splendor (2003)        |4.0680523 |5.0   |\n",
      "|287 |American Splendor (2003)        |3.3628092 |5.0   |\n",
      "|187 |American Splendor (2003)        |3.8973556 |5.0   |\n",
      "|271 |10 (1979)                       |2.8071072 |2.0   |\n",
      "|448 |10 (1979)                       |2.719553  |3.5   |\n",
      "|345 |10 (1979)                       |2.6864321 |4.5   |\n",
      "|599 |\"Tale of Two Sisters            |3.078463  |3.5   |\n",
      "|474 |Before Sunset (2004)            |3.007927  |4.0   |\n",
      "|560 |Before Sunset (2004)            |2.7586105 |3.0   |\n",
      "|221 |Before Sunset (2004)            |4.0202556 |4.5   |\n",
      "|105 |Before Sunset (2004)            |3.0779734 |4.0   |\n",
      "+----+--------------------------------+----------+------+\n",
      "only showing top 100 rows\n",
      "\n"
     ]
    }
   ],
   "source": [
    "prediction = model.transform(sets['test'])\n",
    "\n",
    "prediction.alias('p').join(movies.alias('m'), col('p.item') == col('m.item')) \\\n",
    "    .select([col('p.user'), col('m.title'), col('p.prediction'), col('p.rating')]).show(100, truncate=False)"
   ]
  },
  {
   "cell_type": "markdown",
   "metadata": {},
   "source": [
    "By glancing at this dataframe, we can see that many predictions are close to the true value, but some are way off.\n",
    "First, lets visualise the error distribution."
   ]
  },
  {
   "cell_type": "code",
   "execution_count": 47,
   "metadata": {},
   "outputs": [
    {
     "data": {
      "text/plain": [
       "(0, 5)"
      ]
     },
     "execution_count": 47,
     "metadata": {},
     "output_type": "execute_result"
    },
    {
     "data": {
      "image/png": "[encoded data removed]",
      "text/plain": [
       "<Figure size 432x288 with 1 Axes>"
      ]
     },
     "metadata": {
      "needs_background": "light"
     },
     "output_type": "display_data"
    }
   ],
   "source": [
    "errors = prediction.withColumn('error', col('prediction')-col('rating')).select('error').collect()\n",
    "ax = sns.distplot(errors, rug=True, hist=True)\n",
    "ax.set_xlim(0, 5)"
   ]
  },
  {
   "cell_type": "markdown",
   "metadata": {},
   "source": [
    "We can see that the majority of errors is close to zero, which is always good.\n",
    "But we want to quantify how good the model is, and for that we will use the MSE again.\n",
    "\n",
    "The `evaluator` instance that can calculate this for us (recall from above that we specified `mse` as our error measure when creating the instance). We pass the `prediction` dataframe as the evaluator is expecting a column named `prediction`."
   ]
  },
  {
   "cell_type": "code",
   "execution_count": 82,
   "metadata": {},
   "outputs": [
    {
     "name": "stdout",
     "output_type": "stream",
     "text": [
      "MSE = 0.8297843066809636\n"
     ]
    }
   ],
   "source": [
    "mse = evaluator.evaluate(prediction)\n",
    "print(\"MSE = {}\".format(mse))"
   ]
  },
  {
   "cell_type": "markdown",
   "metadata": {},
   "source": [
    "So we can see that with these new parameters, the error is lower that with our arbirtary ones, which was the goal of this exercise."
   ]
  },
  {
   "cell_type": "markdown",
   "metadata": {},
   "source": [
    "## Prediction\n",
    "\n",
    "Now that we have a trained model, we want to make predictions. That is, we want to know given a certain user and a movie, which will be the predicted rating. Also, given the nature of the ALS algorithm (where users and items latent factors are stored as matrices), we could look a prediction for all the movies for a certain user and vice-versa.\n",
    "\n",
    "Spark has several methods to perform the prediction given an ALS model.\n",
    "\n",
    "For instance, to predict the top-$k$ movies for all users, we can use:"
   ]
  },
  {
   "cell_type": "code",
   "execution_count": 48,
   "metadata": {},
   "outputs": [
    {
     "name": "stdout",
     "output_type": "stream",
     "text": [
      "+----+--------------------+\n",
      "|user|     recommendations|\n",
      "+----+--------------------+\n",
      "| 471|[[96004, 4.929546...|\n",
      "| 463|[[33649, 5.20196]...|\n",
      "| 496|[[170355, 5.15895...|\n",
      "| 148|[[104875, 5.22357...|\n",
      "| 540|[[96004, 5.603879...|\n",
      "| 392|[[99764, 5.647058...|\n",
      "| 243|[[45668, 5.971682...|\n",
      "|  31|[[26171, 5.920122...|\n",
      "| 516|[[3200, 5.3224287...|\n",
      "| 580|[[60943, 5.218374...|\n",
      "+----+--------------------+\n",
      "only showing top 10 rows\n",
      "\n"
     ]
    }
   ],
   "source": [
    "# top 10 movies for all users\n",
    "k = 10 \n",
    "model.bestModel.recommendForAllUsers(k).show(10)"
   ]
  },
  {
   "cell_type": "markdown",
   "metadata": {},
   "source": [
    "And to predict the top-$k$ users (users that would give the highest rating) for each movie, we could use:"
   ]
  },
  {
   "cell_type": "code",
   "execution_count": 49,
   "metadata": {},
   "outputs": [
    {
     "name": "stdout",
     "output_type": "stream",
     "text": [
      "+------+--------------------+\n",
      "|  item|     recommendations|\n",
      "+------+--------------------+\n",
      "|  1580|[[53, 4.8699403],...|\n",
      "|  4900|[[548, 4.8958826]...|\n",
      "|  5300|[[53, 4.306004], ...|\n",
      "|  6620|[[236, 5.063348],...|\n",
      "|  7340|[[543, 4.5396743]...|\n",
      "| 32460|[[53, 5.9021006],...|\n",
      "| 54190|[[53, 5.875324], ...|\n",
      "|   471|[[296, 4.806172],...|\n",
      "|  1591|[[548, 4.3808136]...|\n",
      "|140541|[[598, 4.672201],...|\n",
      "+------+--------------------+\n",
      "only showing top 10 rows\n",
      "\n"
     ]
    }
   ],
   "source": [
    "# top 10 users for all movies\n",
    "model.bestModel.recommendForAllItems(k).show(10)"
   ]
  },
  {
   "cell_type": "markdown",
   "metadata": {},
   "source": [
    "If we wanted to see the prediction for a certain pair of `(user, movie)` we could create a dataframe containing the information needed:"
   ]
  },
  {
   "cell_type": "code",
   "execution_count": 53,
   "metadata": {},
   "outputs": [],
   "source": [
    "pairs = [(233, 901), (451, 300), (344, 934)] # (user, item)\n",
    "rows = [Row(user=pair[0], item=pair[1]) for pair in pairs]\n",
    "df = spark.createDataFrame(rows)"
   ]
  },
  {
   "cell_type": "markdown",
   "metadata": {},
   "source": [
    "And then use, as before, the `.transform()` method from our trained `model`:"
   ]
  },
  {
   "cell_type": "code",
   "execution_count": 54,
   "metadata": {},
   "outputs": [
    {
     "name": "stdout",
     "output_type": "stream",
     "text": [
      "+----+----+----------+\n",
      "|item|user|prediction|\n",
      "+----+----+----------+\n",
      "| 300| 451|   4.08953|\n",
      "| 901| 233| 1.2929858|\n",
      "| 934| 344| 3.3115413|\n",
      "+----+----+----------+\n",
      "\n"
     ]
    }
   ],
   "source": [
    "prediction = model.transform(df)\n",
    "prediction.show()"
   ]
  },
  {
   "cell_type": "markdown",
   "metadata": {},
   "source": [
    "### Your personal recommendations\n",
    "\n",
    "We can now used the model as our personal movie recommender!\n",
    "\n",
    "You will create a new user profile for yourself and start adding your own ratings.\n",
    "Based on these ratings, you will then be able to predict ratings for movies you haven't seen it (at least rated).\n",
    "\n",
    "First, you'll determine your `user` id:"
   ]
  },
  {
   "cell_type": "code",
   "execution_count": 55,
   "metadata": {},
   "outputs": [
    {
     "name": "stdout",
     "output_type": "stream",
     "text": [
      "New user id = 611\n"
     ]
    }
   ],
   "source": [
    "new_user_id = ratings.groupBy().max('user').first()['max(user)'] + 1\n",
    "print(\"New user id = {}\".format(new_user_id))"
   ]
  },
  {
   "cell_type": "markdown",
   "metadata": {},
   "source": [
    "Next, we create a list of tuples (pairs) consisting of a `item` id and our own `rating`.\n",
    "The following list is just a example, if you want to create your own list, evaluate the following method with a partial name of movie for which you want to find the id and replace it on the list below."
   ]
  },
  {
   "cell_type": "code",
   "execution_count": 56,
   "metadata": {},
   "outputs": [
    {
     "name": "stdout",
     "output_type": "stream",
     "text": [
      "+------+----------------------------------+\n",
      "|item  |title                             |\n",
      "+------+----------------------------------+\n",
      "|541   |Blade Runner (1982)               |\n",
      "|5417  |\"Fast Runner                      |\n",
      "|56607 |\"Kite Runner                      |\n",
      "|105351|Runner Runner (2013)              |\n",
      "|114180|\"Maze Runner                      |\n",
      "|117895|Maze Runner: Scorch Trials (2015) |\n",
      "|140237|The Runner (2015)                 |\n",
      "|176371|Blade Runner 2049 (2017)          |\n",
      "|183635|Maze Runner: The Death Cure (2018)|\n",
      "+------+----------------------------------+\n",
      "\n"
     ]
    }
   ],
   "source": [
    "from pyspark.sql.functions import lower\n",
    "\n",
    "def find_movie_id(partial_title):\n",
    "    movies.where(lower(col('title')).like(\"%{}%\".format(partial_title.lower())))\\\n",
    "    .show(truncate=False)\n",
    "    \n",
    "find_movie_id('runner')"
   ]
  },
  {
   "cell_type": "markdown",
   "metadata": {},
   "source": [
    "After finding your favourite movies, replace them (along with your rating) on the following list:"
   ]
  },
  {
   "cell_type": "code",
   "execution_count": 57,
   "metadata": {},
   "outputs": [
    {
     "name": "stdout",
     "output_type": "stream",
     "text": [
      "+----+------+----+\n",
      "|item|rating|user|\n",
      "+----+------+----+\n",
      "| 484|     1| 611|\n",
      "| 485|     4| 611|\n",
      "| 492|     4| 611|\n",
      "| 519|     1| 611|\n",
      "| 541|     5| 611|\n",
      "|2968|     5| 611|\n",
      "| 587|     1| 611|\n",
      "| 608|     5| 611|\n",
      "| 680|     4| 611|\n",
      "| 741|     4| 611|\n",
      "| 750|     5| 611|\n",
      "| 784|     1| 611|\n",
      "|1288|     5| 611|\n",
      "|2067|     2| 611|\n",
      "|3081|     3| 611|\n",
      "|4848|     5| 611|\n",
      "|4878|     3| 611|\n",
      "|4973|     4| 611|\n",
      "|5147|     5| 611|\n",
      "|6383|     1| 611|\n",
      "+----+------+----+\n",
      "\n"
     ]
    }
   ],
   "source": [
    "my_ratings = [(484, 1), # Sorry, I didn't really liked Lassie\n",
    "(485, 4), # Last Action Hero, it's a guilty pleasure\n",
    "(492, 4), # Manhattan Murder Mystery, a great movie\n",
    "(519, 1), # RoboCop 3, what a way to spoil a great franchise\n",
    "(541, 5), # Blade Runner, enough said\n",
    "(2968, 5), # Time Bandits, a classic\n",
    "(587, 1), # eeech, Ghost\n",
    "(608, 5), # Fargo, another classic\n",
    "(680, 4), # Alphaville, great, but not easy\n",
    "(741, 4), # Ghost in the Shell, always fun\n",
    "(750, 5), # Dr. Strangelove, again, enough said\n",
    "(784, 1), # Cable Guy. not. funny.\n",
    "(1288, 5), # This Is Spinal Tap. essential.\n",
    "(2067, 2), # Doctor Zhivago, classic but not my thing.\n",
    "(3081, 3), # Sleepy Hollow enjoyable\n",
    "(4848, 5), # Mulholland Drive. What? Yes!\n",
    "(4878, 3), # Donnie Darko, twas ok\n",
    "(4973, 4), # Amelie \n",
    "(5147, 5), # Wild Strawberries\n",
    "(6383, 1)] # 2 Fast 2 Furious              \n",
    "\n",
    "my_ratings_df = spark.createDataFrame([Row(user=new_user_id, item=r[0], rating=r[1]) for r in my_ratings])\n",
    "my_ratings_df.show()"
   ]
  },
  {
   "cell_type": "markdown",
   "metadata": {},
   "source": [
    "We will now join the two dataframes. The original ratings from the MovieLens dataset and our newly created ones:"
   ]
  },
  {
   "cell_type": "code",
   "execution_count": 58,
   "metadata": {},
   "outputs": [],
   "source": [
    "new_ratings = ratings.union(my_ratings_df)"
   ]
  },
  {
   "cell_type": "markdown",
   "metadata": {},
   "source": [
    "We will retrain the model so it can now take into account our personal ratings.\n",
    "In theory, we should also estimate the parameters again, since there's no guarantee the previous parameters will still be the best.\n",
    "\n",
    "However, since we've only added a few ratings to an already existing dataset of hundreds of thousands, we can say that, in practice, this won't make a big difference. However, the best practice is always to retrain the model after a significant number of ratings is added. How you define \"significant\" can be assessed by comparing the old parameters with a new search. Due to the limited amount of time, we won't do that now."
   ]
  },
  {
   "cell_type": "code",
   "execution_count": 60,
   "metadata": {},
   "outputs": [
    {
     "name": "stdout",
     "output_type": "stream",
     "text": [
      "CPU times: user 34.7 ms, sys: 10.4 ms, total: 45 ms\n",
      "Wall time: 3.98 s\n"
     ]
    }
   ],
   "source": [
    "best_rank = model.bestModel.rank\n",
    "best_iterations = model.bestModel._java_obj.parent().getMaxIter()\n",
    "%time new_model = ALS(rank=best_rank, maxIter=best_iterations, coldStartStrategy=\"drop\").fit(new_ratings)"
   ]
  },
  {
   "cell_type": "markdown",
   "metadata": {},
   "source": [
    "Now let's predict the ratings for the movies you _haven't_ seen.\n",
    "We start by creating a dataframe consisting of all the movie ids _except_ the ones you have rated previously."
   ]
  },
  {
   "cell_type": "code",
   "execution_count": 61,
   "metadata": {},
   "outputs": [
    {
     "name": "stdout",
     "output_type": "stream",
     "text": [
      "+----+\n",
      "|item|\n",
      "+----+\n",
      "|  26|\n",
      "|  29|\n",
      "| 474|\n",
      "|1677|\n",
      "|1806|\n",
      "|1950|\n",
      "|2040|\n",
      "|2453|\n",
      "|2529|\n",
      "|2927|\n",
      "+----+\n",
      "only showing top 10 rows\n",
      "\n",
      "Number of unseen movies = 9722\n"
     ]
    }
   ],
   "source": [
    "unseen_movies = movies.alias('m').join(my_ratings_df.alias('r'), col('m.item') == col('r.item'), how='left_anti').select('item')\n",
    "unseen_movies.show(10)\n",
    "print(\"Number of unseen movies = {}\".format(unseen_movies.count()))"
   ]
  },
  {
   "cell_type": "markdown",
   "metadata": {},
   "source": [
    "We now create a dataframe consisting of your `user` id and the `item` id of each movie you haven't seen."
   ]
  },
  {
   "cell_type": "code",
   "execution_count": 62,
   "metadata": {},
   "outputs": [],
   "source": [
    "from pyspark.sql.functions import lit\n",
    "\n",
    "unseen_movies_user = unseen_movies.withColumn(\"user\", lit(new_user_id))"
   ]
  },
  {
   "cell_type": "markdown",
   "metadata": {},
   "source": [
    "As previously, we use the model's `.transform()` method to create a prediction dataframe:"
   ]
  },
  {
   "cell_type": "code",
   "execution_count": 63,
   "metadata": {},
   "outputs": [
    {
     "name": "stdout",
     "output_type": "stream",
     "text": [
      "+----+----+----------+\n",
      "|item|user|prediction|\n",
      "+----+----+----------+\n",
      "| 148| 611| 3.9531891|\n",
      "| 471| 611| 3.0010014|\n",
      "| 496| 611| 3.9531891|\n",
      "| 833| 611|0.32744187|\n",
      "|1088| 611| 1.7177289|\n",
      "|1238| 611|  4.887735|\n",
      "|1342| 611|  2.913708|\n",
      "|1580| 611|  3.049126|\n",
      "|1591| 611| 1.7040317|\n",
      "|1645| 611| 2.3316216|\n",
      "+----+----+----------+\n",
      "only showing top 10 rows\n",
      "\n"
     ]
    }
   ],
   "source": [
    "unseen_ratings = new_model.transform(unseen_movies_user)\n",
    "unseen_ratings.show(10)"
   ]
  },
  {
   "cell_type": "markdown",
   "metadata": {},
   "source": [
    "To help visualise the result we will, as previously, join the prediction dataframe with the movie titles."
   ]
  },
  {
   "cell_type": "code",
   "execution_count": 65,
   "metadata": {},
   "outputs": [
    {
     "name": "stdout",
     "output_type": "stream",
     "text": [
      "+----+--------------------------------+----------+\n",
      "|user|title                           |prediction|\n",
      "+----+--------------------------------+----------+\n",
      "|611 |\"Awfully Big Adventure          |3.9531891 |\n",
      "|611 |\"Hudsucker Proxy                |3.0010014 |\n",
      "|611 |What Happened Was... (1994)     |3.9531891 |\n",
      "|611 |High School High (1996)         |0.32744187|\n",
      "|611 |Dirty Dancing (1987)            |1.7177289 |\n",
      "|611 |Local Hero (1983)               |4.887735  |\n",
      "|611 |Candyman (1992)                 |2.913708  |\n",
      "|611 |Men in Black (a.k.a. MIB) (1997)|3.049126  |\n",
      "|611 |Spawn (1997)                    |1.7040317 |\n",
      "|611 |The Devil's Advocate (1997)     |2.3316216 |\n",
      "+----+--------------------------------+----------+\n",
      "only showing top 10 rows\n",
      "\n"
     ]
    }
   ],
   "source": [
    "unseen_ratings_titles = unseen_ratings.alias('r')\\\n",
    "                        .join(movies.alias('m'), col('r.item') == col('m.item'))\\\n",
    "                        .select(['user', 'title', 'prediction'])\n",
    "unseen_ratings_titles.show(10, truncate=False)"
   ]
  },
  {
   "cell_type": "markdown",
   "metadata": {},
   "source": [
    "If we want to see the predictions ordered by their rating, in descending order, we simply apply the `.orderBy()` transformation to the dataframe:"
   ]
  },
  {
   "cell_type": "code",
   "execution_count": 66,
   "metadata": {},
   "outputs": [
    {
     "name": "stdout",
     "output_type": "stream",
     "text": [
      "+----+--------------------+----------+\n",
      "|user|               title|prediction|\n",
      "+----+--------------------+----------+\n",
      "| 611|Dragon Ball Z: Th...| 6.2662377|\n",
      "| 611|Mulholland Dr. (1...|  6.036191|\n",
      "| 611|      Yojimbo (1961)| 5.9036665|\n",
      "| 611|Neon Genesis Evan...|  5.676698|\n",
      "| 611|\"Tale of Two Sisters| 5.6738973|\n",
      "| 611|\"Wild Parrots of ...| 5.5857296|\n",
      "| 611| On the Beach (1959)|  5.522754|\n",
      "| 611|Kissing Jessica S...| 5.5114994|\n",
      "| 611|Wait Until Dark (...|  5.497109|\n",
      "| 611|Won't You Be My N...| 5.4901805|\n",
      "| 611|I Am Not Your Neg...| 5.4901805|\n",
      "| 611|     \"Act of Killing| 5.4901805|\n",
      "| 611|  Indignation (2016)| 5.4901805|\n",
      "| 611|           Moonlight| 5.4901805|\n",
      "| 611|Who Killed Chea V...| 5.4901805|\n",
      "| 611|   Umberto D. (1952)| 5.4901805|\n",
      "| 611|        Opera (1987)|  5.455959|\n",
      "| 611|  \"Battle of Algiers|  5.439216|\n",
      "| 611|My Architect: A S...| 5.3973074|\n",
      "| 611|    Marwencol (2010)| 5.3455777|\n",
      "+----+--------------------+----------+\n",
      "only showing top 20 rows\n",
      "\n"
     ]
    }
   ],
   "source": [
    "unseen_ratings_titles.orderBy(col('prediction').desc()).show(20)"
   ]
  },
  {
   "cell_type": "markdown",
   "metadata": {},
   "source": [
    "### Post-processing\n",
    "\n"
   ]
  },
  {
   "cell_type": "code",
   "execution_count": 78,
   "metadata": {},
   "outputs": [
    {
     "name": "stdout",
     "output_type": "stream",
     "text": [
      "+-----+-----+\n",
      "| item|count|\n",
      "+-----+-----+\n",
      "| 1258|  109|\n",
      "|  541|  124|\n",
      "| 5418|  112|\n",
      "|  293|  133|\n",
      "|  367|  157|\n",
      "|  296|  307|\n",
      "|  736|  123|\n",
      "|  588|  183|\n",
      "|60069|  104|\n",
      "| 2706|  103|\n",
      "| 1527|  116|\n",
      "|   34|  128|\n",
      "|  858|  192|\n",
      "| 1200|  126|\n",
      "|   50|  204|\n",
      "| 1210|  196|\n",
      "|  110|  237|\n",
      "| 1213|  126|\n",
      "| 1240|  131|\n",
      "| 1073|  119|\n",
      "+-----+-----+\n",
      "only showing top 20 rows\n",
      "\n"
     ]
    }
   ],
   "source": [
    "ratings_per_movie = ratings.groupBy('item').count()\n",
    "enough_ratings = ratings_per_movie.filter(col('count') > 100)\n",
    "enough_ratings.show()"
   ]
  },
  {
   "cell_type": "code",
   "execution_count": 79,
   "metadata": {},
   "outputs": [
    {
     "name": "stdout",
     "output_type": "stream",
     "text": [
      "+----+----+------+\n",
      "|item|user|rating|\n",
      "+----+----+------+\n",
      "|   3| 294|   1.0|\n",
      "|   3| 552|   1.0|\n",
      "|   3| 599|   1.5|\n",
      "|   3| 608|   2.0|\n",
      "|   3| 289|   2.5|\n",
      "|   3|  19|   3.0|\n",
      "|   3|  32|   3.0|\n",
      "|   3|  91|   3.0|\n",
      "|   3| 150|   3.0|\n",
      "|   3| 151|   3.0|\n",
      "|   3| 270|   3.0|\n",
      "|   3| 321|   3.0|\n",
      "|   3| 330|   3.0|\n",
      "|   3| 368|   3.0|\n",
      "|   3| 448|   3.0|\n",
      "|   3| 470|   3.0|\n",
      "|   3| 477|   3.0|\n",
      "|   3| 544|   3.0|\n",
      "|   3| 588|   3.0|\n",
      "|   3| 590|   3.0|\n",
      "+----+----+------+\n",
      "only showing top 20 rows\n",
      "\n"
     ]
    }
   ],
   "source": [
    "training_100 = sets['training'].alias('t')\\\n",
    "    .join(enough_ratings.alias('r'), col('t.item') == col('r.item'), how='left_anti')\\\n",
    "    .select(['item', 'user', 'rating'])\n",
    "training_100.show()"
   ]
  },
  {
   "cell_type": "code",
   "execution_count": 74,
   "metadata": {},
   "outputs": [
    {
     "name": "stdout",
     "output_type": "stream",
     "text": [
      "CPU times: user 469 ms, sys: 139 ms, total: 609 ms\n",
      "Wall time: 58.2 s\n"
     ]
    }
   ],
   "source": [
    "%time model_100 = tvs.fit(training_100)"
   ]
  },
  {
   "cell_type": "code",
   "execution_count": 75,
   "metadata": {},
   "outputs": [],
   "source": [
    "prediction = model.transform(sets['test'])"
   ]
  },
  {
   "cell_type": "code",
   "execution_count": 83,
   "metadata": {},
   "outputs": [
    {
     "name": "stdout",
     "output_type": "stream",
     "text": [
      "MSE_100 = 0.8297843066809636, (MSE - MSE_100) = 0.0\n"
     ]
    }
   ],
   "source": [
    "mse_100 = evaluator.evaluate(prediction)\n",
    "print(\"MSE_100 = {}, (MSE - MSE_100) = {}\".format(mse_100, mse - mse_100))"
   ]
  },
  {
   "cell_type": "markdown",
   "metadata": {},
   "source": [
    "## Implicit data\n",
    "\n",
    "We usually consider using ALS on a set of `(user, product)` ratings. But what if the data isn't so self explanatory?\n",
    "\n",
    "### A day trip to the library\n",
    "\n",
    "Consider, for example, the data collected by a local library. The library records which users took out each books and how long they kept the books before returning them. \n",
    "\n",
    "As such, we have no explicit indication that a user liked or disliked the books they took out - Just because you borrowed a book does not mean that you enjoyed it, or even read it.\n",
    "Furthermore, the missing data is of interest - the fact that a user has not taken out a specific book could indicate that they dislike that genre, or that they haven't been to that section of the library.\n",
    "\n",
    "Furthermore the same user action could have many different causes. Suppose you withdraw a book three times. That might indicate that you loved the book, but it may also indicate that the book doesn't appeal to you as strongly as some other books you withdrew so you never got round to reading it the first two times.\n",
    "\n",
    "To make the situation even worse, implicit data is often dirty. For example, a user may withdraw a library book for their child using their account, or they may accidentally pick up a book that was sitting on the counter. \n",
    "\n",
    "### The solution\n",
    "Based on the standard ALS implementation, [Hu et al. (2008)](https://www.google.ca/url?sa=t&rct=j&q=&esrc=s&source=web&cd=1&cad=rja&uact=8&ved=0ahUKEwi899eAu6baAhUurlkKHaVvB6UQFggsMAA&url=http%3A%2F%2Fyifanhu.net%2FPUB%2Fcf.pdf&usg=AOvVaw3WIcPGTpxR8m7C32F8whFx) presented a methodolgy for carrying out ALS when dealing with implicit data. \n",
    "\n",
    "The general idea is that we have some recorded observations $r_{u,i}$ denoting the level of interaction user $u$ had with product $i$. For example, if a user $1$ borrowed book $4$ once we may set $r_{1,4}=1$. Alternatively we may wish to allow $r_{u,i}$ to hold information about how many days the book was borrowed for. (There is a lot of freedom in this set up, so we need to make some data specific decisions regarding how we will select $r_{u,i}$).\n",
    "\n",
    "Given the set of observations $r_{u,i}$, a binary indicator $p_{u,i}$ is introduced where:\n",
    "\n",
    "$$p_{u,i} = \\begin{cases} 1 & \\mbox{if } r_{i,j}>0 \\\\\n",
    "0 & \\mbox{otherwise.} \\end{cases}\n",
    "$$\n",
    "\n",
    "\n",
    "A confidence parameter $\\alpha$ lets the user determine how much importance they wish to place on the recorded $r_{u,i}$. This leads to the introduction of $c_{u,i}$ which we take to be the confidence we have in the strength of user $u$'s reaction to product $i$: \n",
    "$c_{u,i} = 1 + \\alpha r_{u,i}$.\n",
    "\n",
    "Let $N_u$ denote the number of users, and $N_p$ denote the number of products. Let $k\\in \\mathbb{R}^+$ be a user defined number of factors. \n",
    "Now, in implicit ALS the goal is to find matrices $X\\in \\mathbb{R}^{N_u \\times k}$ and $Y\\in \\mathbb{R}^{N_p \\times k}$ such that the following cost function is minimised:\n",
    "\n",
    "$$\\sum_{u,i} c_{u,i}(p_{u,i}-X_u^T Y_i)^2 + \\lambda (\\sum_u \\| X_u\\|^2 + \\sum_{i} \\| y_u\\|^2), $$\n",
    "\n",
    "where $X_u$ is the $u$th row of X, $Y_i$ is the $i$th row of Y,\n",
    "\\lambda is a user defined parameter which prevents overfitting. \n",
    "\n",
    "With this minimisation at hand, we are able to recover estimates of $c_{u,i}$, and thus of $r_{u,i}$ for interactions which have not yet occured. \n",
    "\n",
    "### Let's get going\n",
    "\n",
    "We are going to run implicit ALS using the implementation given in the `pyspark.mllib.recommendation` module.\n",
    "\n",
    "The data used in the [Book Crossings](http://www2.informatik.uni-freiburg.de/~cziegler/BX/) dataset. We load the data into Spark from the CSV file, as previously and perform some cleaning task on the data."
   ]
  },
  {
   "cell_type": "code",
   "execution_count": 85,
   "metadata": {},
   "outputs": [],
   "source": [
    "implicit_ratings_raw = spark.sparkContext.textFile('BX-Book-Ratings.csv')\\\n",
    "                   .filter(lambda x: x!='\"User-ID\";\"ISBN\";\"Book-Rating\"')\\\n",
    "                   .map(lambda x: x.replace('\"',\"\")) \\\n",
    "                   .map(lambda x:x.split(\";\"))\\\n",
    "                   .map(lambda x:(int(x[0]), str(x[1]), int(x[2])))"
   ]
  },
  {
   "cell_type": "markdown",
   "metadata": {},
   "source": [
    "Let's look at how it looks."
   ]
  },
  {
   "cell_type": "code",
   "execution_count": 86,
   "metadata": {},
   "outputs": [
    {
     "data": {
      "text/plain": [
       "[(276725, '034545104X', 0),\n",
       " (276726, '0155061224', 5),\n",
       " (276727, '0446520802', 0),\n",
       " (276729, '052165615X', 3),\n",
       " (276729, '0521795028', 6),\n",
       " (276733, '2080674722', 0),\n",
       " (276736, '3257224281', 8),\n",
       " (276737, '0600570967', 6),\n",
       " (276744, '038550120X', 7),\n",
       " (276745, '342310538', 10)]"
      ]
     },
     "execution_count": 86,
     "metadata": {},
     "output_type": "execute_result"
    }
   ],
   "source": [
    "implicit_ratings_raw.take(10)"
   ]
  },
  {
   "cell_type": "markdown",
   "metadata": {},
   "source": [
    "We are interested in the files `BX-Books-Ratings.csv` and `BX-Books.csv`. The first three columns of `BX-Book-Ratings` are:\n",
    "* the user id\n",
    "* an isbn which identifies the book\n",
    "* and a rating.\n",
    "\n",
    "A `0` in the rating column is used to denote that an implicit interaction occured between the user an the book. It is this data that we are interested in, and we extract such rows using the following command:"
   ]
  },
  {
   "cell_type": "code",
   "execution_count": 88,
   "metadata": {},
   "outputs": [],
   "source": [
    "implicit_ratings = implicit_ratings_raw.filter(lambda x: x[2] == 0)"
   ]
  },
  {
   "cell_type": "markdown",
   "metadata": {},
   "source": [
    "Let's look at the result."
   ]
  },
  {
   "cell_type": "code",
   "execution_count": 89,
   "metadata": {},
   "outputs": [
    {
     "data": {
      "text/plain": [
       "[(276725, '034545104X', 0),\n",
       " (276727, '0446520802', 0),\n",
       " (276733, '2080674722', 0),\n",
       " (276746, '0425115801', 0),\n",
       " (276746, '0449006522', 0),\n",
       " (276746, '0553561618', 0),\n",
       " (276746, '055356451X', 0),\n",
       " (276746, '0786013990', 0),\n",
       " (276746, '0786014512', 0),\n",
       " (276747, '0451192001', 0)]"
      ]
     },
     "execution_count": 89,
     "metadata": {},
     "output_type": "execute_result"
    }
   ],
   "source": [
    "implicit_ratings.take(10)"
   ]
  },
  {
   "cell_type": "markdown",
   "metadata": {},
   "source": [
    "The implicit ALS function we are going to use requires that product ids are integers.\n",
    "At the moment we have unique ISBNs, which contain a mixture of numbers and letters, so we must convert to integers.\n",
    "This can be done using the `.zipWithIndex()` function which takes an RDD and joins unique ids to each entry:"
   ]
  },
  {
   "cell_type": "code",
   "execution_count": 90,
   "metadata": {},
   "outputs": [
    {
     "data": {
      "text/plain": [
       "[('034545104X', ((276725, 0), 0)),\n",
       " ('034545104X', ((6543, 0), 0)),\n",
       " ('034545104X', ((23768, 0), 0)),\n",
       " ('034545104X', ((28266, 0), 0)),\n",
       " ('034545104X', ((28523, 0), 0)),\n",
       " ('034545104X', ((39002, 0), 0)),\n",
       " ('034545104X', ((56157, 0), 0)),\n",
       " ('034545104X', ((59102, 0), 0)),\n",
       " ('034545104X', ((59287, 0), 0)),\n",
       " ('034545104X', ((77940, 0), 0))]"
      ]
     },
     "execution_count": 90,
     "metadata": {},
     "output_type": "execute_result"
    }
   ],
   "source": [
    "# Extract unique isbns.\n",
    "isbns = implicit_ratings.map(lambda x: x[1]).distinct()\n",
    "\n",
    "# Associates an integer with each unique isbn.\n",
    "isbns_with_indices = isbns.zipWithIndex() \n",
    "\n",
    "# Sets isbn as the key\n",
    "reordered_implicit_ratings = implicit_ratings.map(lambda x: (x[1], (x[0], x[2]))) \n",
    "joined = reordered_implicit_ratings.join(isbns_with_indices) # joins with indexes \n",
    "joined.take(10)"
   ]
  },
  {
   "cell_type": "markdown",
   "metadata": {},
   "source": [
    "The data is now in the form `(isbn, ((user-id, rating), isbn-id-integer))`.\n",
    "We use the `.map()` function to get it the form `(user-id, isbn-id-integer, rating)` which is the form we will use to create a dataframe with the schema expected by Spark's ALS function."
   ]
  },
  {
   "cell_type": "code",
   "execution_count": 91,
   "metadata": {},
   "outputs": [
    {
     "data": {
      "text/plain": [
       "[(276725, 0, 0),\n",
       " (6543, 0, 0),\n",
       " (23768, 0, 0),\n",
       " (28266, 0, 0),\n",
       " (28523, 0, 0),\n",
       " (39002, 0, 0),\n",
       " (56157, 0, 0),\n",
       " (59102, 0, 0),\n",
       " (59287, 0, 0),\n",
       " (77940, 0, 0)]"
      ]
     },
     "execution_count": 91,
     "metadata": {},
     "output_type": "execute_result"
    }
   ],
   "source": [
    "ratings_int_nice = joined.map(lambda x: (x[1][0][0], x[1][1], x[1][0][1]))\n",
    "ratings_int_nice.take(10)"
   ]
  },
  {
   "cell_type": "markdown",
   "metadata": {},
   "source": [
    "However, we weed `1`s not `0`s, since the matrix is singular if we use `0`s as the ratings. \n",
    "This means we will use `1` to indicate response, not `0`."
   ]
  },
  {
   "cell_type": "code",
   "execution_count": 92,
   "metadata": {},
   "outputs": [
    {
     "name": "stdout",
     "output_type": "stream",
     "text": [
      "+----+------+------+\n",
      "|item|rating|  user|\n",
      "+----+------+------+\n",
      "|   0|     1|276725|\n",
      "|   0|     1|  6543|\n",
      "|   0|     1| 23768|\n",
      "|   0|     1| 28266|\n",
      "|   0|     1| 28523|\n",
      "|   0|     1| 39002|\n",
      "|   0|     1| 56157|\n",
      "|   0|     1| 59102|\n",
      "|   0|     1| 59287|\n",
      "|   0|     1| 77940|\n",
      "|   0|     1| 81977|\n",
      "|   0|     1|123981|\n",
      "|   0|     1|132081|\n",
      "|   0|     1|133235|\n",
      "|   0|     1|135045|\n",
      "|   0|     1|138543|\n",
      "|   0|     1|144315|\n",
      "|   0|     1|144486|\n",
      "|   0|     1|145451|\n",
      "|   0|     1|147799|\n",
      "+----+------+------+\n",
      "only showing top 20 rows\n",
      "\n"
     ]
    }
   ],
   "source": [
    "ratings_ones = ratings_int_nice.map(lambda x: Row(user=x[0], item=x[1], rating=1))\n",
    "implicit_ratings = spark.createDataFrame(ratings_ones).cache()\n",
    "implicit_ratings.show()"
   ]
  },
  {
   "cell_type": "markdown",
   "metadata": {},
   "source": [
    "We can now split the dataset and train the model.\n",
    "Notice that training is very similar to the non-implicit data. We will still use the `TrainValidationSplit` and `RegressionEvaluator` classes.\n",
    "In fact the only change is that now we add the `implicitPrefs=True` to the ALS instantiation.\n",
    "The `nonnegative` argument specifies whether or not to use non-negative constraints for least squares (defaults to `false`).\n",
    "Essentially, it is informaing Spark on which solver to use: `CholeskySolve`r or `NNLS` (conjugated gradient)."
   ]
  },
  {
   "cell_type": "code",
   "execution_count": 95,
   "metadata": {},
   "outputs": [
    {
     "name": "stdout",
     "output_type": "stream",
     "text": [
      "Training dataset size (implicit) = 452587\n",
      "Validation dataset size (implicit) = 132345\n",
      "Test dataset size (implicit) = 131177\n"
     ]
    }
   ],
   "source": [
    "implicit_sets = split_sets(implicit_ratings, [0.63212056, 0.1839397, 0.1839397])\n",
    "print(\"Training dataset size (implicit) = {}\".format(implicit_sets['training'].count()))\n",
    "print(\"Validation dataset size (implicit) = {}\".format(implicit_sets['validation'].count()))\n",
    "print(\"Test dataset size (implicit) = {}\".format(implicit_sets['test'].count()))"
   ]
  },
  {
   "cell_type": "code",
   "execution_count": 98,
   "metadata": {},
   "outputs": [
    {
     "name": "stdout",
     "output_type": "stream",
     "text": [
      "CPU times: user 851 ms, sys: 275 ms, total: 1.13 s\n",
      "Wall time: 3min 27s\n"
     ]
    }
   ],
   "source": [
    "ials = ALS(coldStartStrategy=\"drop\", implicitPrefs=True, nonnegative=True)\n",
    "\n",
    "iparam_grid = ParamGridBuilder() \\\n",
    "    .addGrid(ials.rank, [6, 8]) \\\n",
    "    .addGrid(ials.maxIter,[10, 12]) \\\n",
    "    .build()\n",
    "\n",
    "ievaluator = RegressionEvaluator(\n",
    "    metricName=\"mse\",\n",
    "    labelCol=\"rating\",\n",
    "    predictionCol=\"prediction\")\n",
    "\n",
    "itvs = TrainValidationSplit(\n",
    "    estimator=ials,\n",
    "    estimatorParamMaps=iparam_grid,\n",
    "    evaluator=ievaluator,\n",
    ")\n",
    "\n",
    "%time imodel = itvs.fit(implicit_sets['training'])"
   ]
  },
  {
   "cell_type": "markdown",
   "metadata": {},
   "source": [
    "Also, as previously, we use the `.transform()` method to calculate predictions on a datase:"
   ]
  },
  {
   "cell_type": "code",
   "execution_count": 100,
   "metadata": {},
   "outputs": [
    {
     "name": "stdout",
     "output_type": "stream",
     "text": [
      "+----+------+------+------------+\n",
      "|item|rating|  user|  prediction|\n",
      "+----+------+------+------------+\n",
      "| 148|     1|274549|1.9148353E-4|\n",
      "| 463|     1|164926| 0.019262178|\n",
      "| 463|     1|127429|  0.08164266|\n",
      "| 463|     1|236283|    0.196285|\n",
      "| 463|     1|162529|         0.0|\n",
      "| 463|     1|223431| 0.006708508|\n",
      "| 463|     1|265595| 0.005666909|\n",
      "| 463|     1|106845|0.0038409436|\n",
      "| 463|     1|145619| 0.068016276|\n",
      "| 463|     1| 54547|1.6949208E-4|\n",
      "| 463|     1| 62891| 0.023035882|\n",
      "| 463|     1|113611|1.2204423E-4|\n",
      "| 463|     1|252071|  0.07653688|\n",
      "| 463|     1| 63644|0.0012750775|\n",
      "| 463|     1|230522|  0.17499669|\n",
      "| 463|     1|167349|   0.0962685|\n",
      "| 463|     1|167556| 6.595867E-4|\n",
      "| 463|     1| 76942|  0.10194514|\n",
      "| 463|     1|161299| 0.014114617|\n",
      "| 463|     1| 28139|0.0056598717|\n",
      "+----+------+------+------------+\n",
      "only showing top 20 rows\n",
      "\n"
     ]
    }
   ],
   "source": [
    "iprediction = imodel.transform(implicit_sets['test'])\n",
    "iprediction.show()"
   ]
  },
  {
   "cell_type": "markdown",
   "metadata": {},
   "source": [
    "Let's have a look at user $8$. We wish to make predictions on what books the user will like, based on their interactions."
   ]
  },
  {
   "cell_type": "code",
   "execution_count": 107,
   "metadata": {},
   "outputs": [
    {
     "name": "stdout",
     "output_type": "stream",
     "text": [
      "+----+------+----+-----------+\n",
      "|item|rating|user| prediction|\n",
      "+----+------+----+-----------+\n",
      "|6925|     1|   8|3.127231E-7|\n",
      "+----+------+----+-----------+\n",
      "\n"
     ]
    }
   ],
   "source": [
    "iprediction.filter(col('user') == 8).show()"
   ]
  },
  {
   "cell_type": "code",
   "execution_count": 114,
   "metadata": {},
   "outputs": [
    {
     "name": "stdout",
     "output_type": "stream",
     "text": [
      "Best rank (implicit) = 8\n",
      "Best iterations (implicit) = 10\n"
     ]
    }
   ],
   "source": [
    "# ibest_rank = imodel.bestModel.rank\n",
    "# ibest_iterations = imodel.bestModel._java_obj.parent().getMaxIter()\n",
    "# print(\"Best rank (implicit) = {}\".format(ibest_rank))\n",
    "# print(\"Best iterations (implicit) = {}\".format(ibest_iterations))\n",
    "# new_imodel = ALS(rank=ibest_rank, \n",
    "#                  implicitPrefs=True,\n",
    "#                  maxIter=ibest_iterations, \n",
    "#                  coldStartStrategy=\"drop\", \n",
    "#                  nonnegative=True).fit(implicit_ratings)"
   ]
  },
  {
   "cell_type": "markdown",
   "metadata": {},
   "source": [
    "Now we want to exclude books with which user 8 already interacted with:"
   ]
  },
  {
   "cell_type": "code",
   "execution_count": 117,
   "metadata": {},
   "outputs": [
    {
     "name": "stdout",
     "output_type": "stream",
     "text": [
      "+----+----+\n",
      "|item|user|\n",
      "+----+----+\n",
      "|  26|   8|\n",
      "|  29|   8|\n",
      "| 474|   8|\n",
      "|1950|   8|\n",
      "|2214|   8|\n",
      "|2250|   8|\n",
      "|2453|   8|\n",
      "|2927|   8|\n",
      "|3506|   8|\n",
      "|4590|   8|\n",
      "+----+----+\n",
      "only showing top 10 rows\n",
      "\n",
      "Number of unseen books = 246713\n"
     ]
    }
   ],
   "source": [
    "seen = implicit_ratings.filter(col('user')==8).select('item')\n",
    "unseen_books = implicit_ratings.alias('r')\\\n",
    "    .join(seen.alias('s'), col('r.item') == col('s.item'), how='left_anti')\\\n",
    "    .select('item').distinct()\\\n",
    "    .withColumn('user', lit(8))\\\n",
    "    .cache()\n",
    "unseen_books.show(10)\n",
    "print(\"Number of unseen books = {}\".format(unseen_books.count()))"
   ]
  },
  {
   "cell_type": "code",
   "execution_count": 118,
   "metadata": {},
   "outputs": [
    {
     "name": "stdout",
     "output_type": "stream",
     "text": [
      "+-----+----+------------+\n",
      "| item|user|  prediction|\n",
      "+-----+----+------------+\n",
      "| 9391|   8|0.0018898848|\n",
      "| 1445|   8|0.0018269225|\n",
      "| 4275|   8|0.0017761363|\n",
      "| 6773|   8|0.0017226497|\n",
      "| 3871|   8|0.0017180616|\n",
      "|  984|   8| 0.001687188|\n",
      "| 7452|   8|0.0016805107|\n",
      "| 7917|   8|0.0016688572|\n",
      "| 2487|   8|0.0016653894|\n",
      "| 1318|   8|0.0016515179|\n",
      "|13879|   8|0.0016168662|\n",
      "| 7927|   8| 0.001615921|\n",
      "| 1031|   8|0.0016036406|\n",
      "|10324|   8|0.0015806714|\n",
      "| 7127|   8|0.0015594213|\n",
      "|10704|   8| 0.001551357|\n",
      "| 2036|   8|0.0015484603|\n",
      "| 3892|   8|0.0015246754|\n",
      "|10493|   8|0.0015169104|\n",
      "| 9945|   8|0.0015129355|\n",
      "+-----+----+------------+\n",
      "only showing top 20 rows\n",
      "\n"
     ]
    }
   ],
   "source": [
    "imodel.transform(unseen_books).orderBy(col('prediction').desc()).show(20)"
   ]
  },
  {
   "cell_type": "code",
   "execution_count": 116,
   "metadata": {},
   "outputs": [
    {
     "name": "stdout",
     "output_type": "stream",
     "text": [
      "MSE (implicit) = 0.9532024953375471\n"
     ]
    }
   ],
   "source": [
    "print(\"MSE (implicit) = {}\".format(ievaluator.evaluate(iprediction)))"
   ]
  },
  {
   "cell_type": "code",
   "execution_count": null,
   "metadata": {},
   "outputs": [],
   "source": []
  }
 ],
 "metadata": {
  "kernelspec": {
   "display_name": "Python 2",
   "language": "python",
   "name": "python2"
  },
  "language_info": {
   "codemirror_mode": {
    "name": "ipython",
    "version": 3
   },
   "file_extension": ".py",
   "mimetype": "text/x-python",
   "name": "python",
   "nbconvert_exporter": "python",
   "pygments_lexer": "ipython3",
   "version": "3.6.5"
  }
 },
 "nbformat": 4,
 "nbformat_minor": 1
}
