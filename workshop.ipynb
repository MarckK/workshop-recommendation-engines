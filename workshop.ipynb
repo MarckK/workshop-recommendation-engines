{
 "cells": [
  {
   "cell_type": "markdown",
   "metadata": {},
   "source": [
    "# Recommendation engines explained"
   ]
  },
  {
   "cell_type": "markdown",
   "metadata": {},
   "source": [
    "We start by importing the relevant [Apache Spark](https://spark.apache.org/) modules and create a Spark session:"
   ]
  },
  {
   "cell_type": "code",
   "execution_count": 1,
   "metadata": {},
   "outputs": [],
   "source": [
    "%matplotlib inline\n",
    "\n",
    "from pyspark import SparkContext, SparkConf\n",
    "from pyspark.sql import Row, SparkSession\n",
    "import matplotlib.pyplot as plt\n",
    "\n",
    "spark = SparkSession.builder \\\n",
    "        .master(\"local\") \\\n",
    "        .appName(\"recommender\") \\\n",
    "        .config(\"spark.sql.crossJoin.enabled\", \"true\") \\\n",
    "        .getOrCreate()"
   ]
  },
  {
   "cell_type": "markdown",
   "metadata": {},
   "source": [
    "## The MovieLens dataset\n",
    "\n",
    "The MovieLens dataset (already available with this notebook, originally [here](https://grouplens.org/datasets/movielens/)) is a popular dataset used in recommendation engines research.\n",
    "In this workshop we will use the \"small\" variant, consisting of $100836$ ratings for $9742$ movies by $610$ users.\n",
    "This dataset consist of several CSV files, namely\n",
    " * A ratings data file (`ratings.csv`)\n",
    " * A tags data file (`tags.csv`)\n",
    " * A movies data file (`movies.csv`)\n",
    " * A links data file (`links.csv`)\n",
    " * A tag genome (`genome-scores.csv` and `genome-tags.csv`)\n",
    " \n",
    " For the scope of this workshop, we are mainly interest in the rating and movies data files, which have, respectively, the following structure:\n",
    " The ratings data:\n",
    " * `userId`, a unique numerical user id\n",
    " * `movieId`, a unique numerical movie id\n",
    " * `rating`, a numerical rating, as an integer from $0$ to $5$\n",
    " * `timestamp`, a numerical timestamp (not used in this exercise)\n",
    " The movies data:\n",
    " * `movieId`, as above\n",
    " * `title`, the movie title\n",
    " * `genres` a string label with the movie genre (as listed [here](http://files.grouplens.org/datasets/movielens/ml-20m-README.html)).\n",
    " \n",
    " ### Loading the data\n",
    " \n",
    " We start by using Apache Spark's built in functionality to load text files into the Spark cluster, `.textFile()` (documented [here](http://spark.apache.org/docs/2.1.0/api/python/pyspark.html#pyspark.SparkContext.textFile)), which will return an `RDD` of strings.\n",
    " Since `.textFile()` will read each row in the CSV file as an RDD entry, we further process it by then splitting each row into a list of CSV entries and keep only the relevant fields (i.e. `userId`, `movieId` and `rating` for the ratings, and `movieId` and `title` for the movies file).\n",
    " \n",
    " We then create a Spark [dataframe](https://spark.apache.org/docs/latest/sql-programming-guide.html) containing the entries."
   ]
  },
  {
   "cell_type": "code",
   "execution_count": 2,
   "metadata": {},
   "outputs": [],
   "source": [
    "def load_data(path, header, token_fun):\n",
    "    \"\"\"Loads the CSV file, strips the header and keeps only the specified fields\"\"\"\n",
    "    rows = spark.sparkContext.textFile(path).filter(lambda x: x!=header).map(lambda x: x.split(\",\")).map(token_fun)\n",
    "    # create a Spark dataframe from the RDDs\n",
    "    return spark.createDataFrame(rows).cache()\n",
    "    \n",
    "    \n",
    "# Load the movie data (movie id, title)\n",
    "movies = load_data('ml-latest-small/movies.csv', \n",
    "                   'movieId,title,genres', \n",
    "                   lambda tokens: Row(item=int(tokens[0]),title=tokens[1]))\n",
    "\n",
    "# Load the ratings (user id, movie id, rating)\n",
    "ratings = load_data('ml-latest-small/ratings.csv', \n",
    "                    'userId,movieId,rating,timestamp', \n",
    "                    lambda tokens: Row(user=int(tokens[0]), item=int(tokens[1]), rating=float(tokens[2])))"
   ]
  },
  {
   "cell_type": "code",
   "execution_count": 3,
   "metadata": {},
   "outputs": [
    {
     "name": "stdout",
     "output_type": "stream",
     "text": [
      "Number of movies: 9742\n",
      "Number of ratings: 100836\n",
      "Number of users: 610\n"
     ]
    },
    {
     "data": {
      "text/plain": [
       "[Row(item=1, title='Toy Story (1995)'),\n",
       " Row(item=2, title='Jumanji (1995)'),\n",
       " Row(item=3, title='Grumpier Old Men (1995)'),\n",
       " Row(item=4, title='Waiting to Exhale (1995)'),\n",
       " Row(item=5, title='Father of the Bride Part II (1995)')]"
      ]
     },
     "execution_count": 3,
     "metadata": {},
     "output_type": "execute_result"
    }
   ],
   "source": [
    "print(\"Number of movies: {}\".format(movies.count()))\n",
    "print(\"Number of ratings: {}\".format(ratings.count()))\n",
    "print(\"Number of users: {}\".format(ratings.select('user').distinct().count()))\n",
    "movies.take(5)"
   ]
  },
  {
   "cell_type": "markdown",
   "metadata": {},
   "source": [
    "We can now start by exploring the data.\n",
    "Let's look at the ratings distribution:"
   ]
  },
  {
   "cell_type": "code",
   "execution_count": 4,
   "metadata": {},
   "outputs": [
    {
     "data": {
      "text/plain": [
       "<matplotlib.axes._subplots.AxesSubplot at 0x1206d02e8>"
      ]
     },
     "execution_count": 4,
     "metadata": {},
     "output_type": "execute_result"
    },
    {
     "data": {
      "image/png": "[encoded data removed]",
      "text/plain": [
       "<Figure size 432x288 with 1 Axes>"
      ]
     },
     "metadata": {
      "needs_background": "light"
     },
     "output_type": "display_data"
    }
   ],
   "source": [
    "import seaborn as sns\n",
    "\n",
    "r = ratings.select('rating').collect()\n",
    "sns.distplot(r, kde=False)"
   ]
  },
  {
   "cell_type": "markdown",
   "metadata": {},
   "source": [
    "We can see that most of the ratings are $4$ starts, followed by $3$ and $3.5$ stars. Users generally do not give very low ratings (e.g. $0.5$, $1$).\n",
    "\n",
    "Let's try to see now the distribution of the number of ratings per user. That is, so user give many ratings on average?"
   ]
  },
  {
   "cell_type": "code",
   "execution_count": 5,
   "metadata": {},
   "outputs": [
    {
     "name": "stderr",
     "output_type": "stream",
     "text": [
      "/Users/rcardoso/.pyenv/versions/3.6.5/envs/workshop-recommendation-engines/lib/python3.6/site-packages/seaborn/distributions.py:340: UserWarning: Attempted to set non-positive bottom ylim on a log-scaled axis.\n",
      "Invalid limit will be ignored.\n",
      "  ax.set_ylim(0, auto=None)\n"
     ]
    },
    {
     "data": {
      "text/plain": [
       "<matplotlib.axes._subplots.AxesSubplot at 0x123f18470>"
      ]
     },
     "execution_count": 5,
     "metadata": {},
     "output_type": "execute_result"
    },
    {
     "data": {
      "image/png": "[encoded data removed]",
      "text/plain": [
       "<Figure size 432x288 with 1 Axes>"
      ]
     },
     "metadata": {
      "needs_background": "light"
     },
     "output_type": "display_data"
    }
   ],
   "source": [
    "ratings_per_user = ratings.groupBy(\"user\").count()\n",
    "sns.distplot(ratings_per_user.select(\"count\").collect(), hist_kws={'log':True}, kde_kws={'clip': (1.0, 3000.0)})"
   ]
  },
  {
   "cell_type": "markdown",
   "metadata": {},
   "source": [
    "We can see that we have \"super users\", i.e. users that give more than 2000 ratings!\n",
    "From this histogram its not easy to see how many they are, so lets find out."
   ]
  },
  {
   "cell_type": "code",
   "execution_count": 6,
   "metadata": {},
   "outputs": [
    {
     "name": "stdout",
     "output_type": "stream",
     "text": [
      "+----------+\n",
      "|sum(count)|\n",
      "+----------+\n",
      "|         4|\n",
      "+----------+\n",
      "\n"
     ]
    }
   ],
   "source": [
    "from pyspark.sql.functions import col\n",
    "\n",
    "ratings_per_user.filter(col('count') > 1500).groupBy('user').count().agg({\"count\":\"sum\"}).show()"
   ]
  },
  {
   "cell_type": "markdown",
   "metadata": {},
   "source": [
    "So we only have $4$ \"super\" users. Let's now see how many users we have with less that 100 ratings:"
   ]
  },
  {
   "cell_type": "code",
   "execution_count": 7,
   "metadata": {},
   "outputs": [
    {
     "name": "stdout",
     "output_type": "stream",
     "text": [
      "+----------+\n",
      "|sum(count)|\n",
      "+----------+\n",
      "|       476|\n",
      "+----------+\n",
      "\n"
     ]
    }
   ],
   "source": [
    "ratings_per_user.filter(col('count') < 200).groupBy('user').count().agg({\"count\":\"sum\"}).show()"
   ]
  },
  {
   "cell_type": "markdown",
   "metadata": {},
   "source": [
    "We can see that the vast majority of users gave less that $200$ ratings, which is a sensible number.\n",
    "\n",
    "What about the movies? Do movies tend to have the same number of reviews or not? We can check by running:"
   ]
  },
  {
   "cell_type": "code",
   "execution_count": 8,
   "metadata": {},
   "outputs": [
    {
     "data": {
      "text/plain": [
       "<matplotlib.axes._subplots.AxesSubplot at 0x1261657f0>"
      ]
     },
     "execution_count": 8,
     "metadata": {},
     "output_type": "execute_result"
    },
    {
     "data": {
      "image/png": "[encoded data removed]",
      "text/plain": [
       "<Figure size 432x288 with 1 Axes>"
      ]
     },
     "metadata": {
      "needs_background": "light"
     },
     "output_type": "display_data"
    }
   ],
   "source": [
    "ratings_per_movie = ratings.groupBy(\"item\").count()\n",
    "sns.distplot(ratings_per_movie.select(\"count\").collect(), hist_kws={'log':True}, kde_kws={'clip': (0, 3000.0)})"
   ]
  },
  {
   "cell_type": "code",
   "execution_count": 9,
   "metadata": {},
   "outputs": [
    {
     "name": "stdout",
     "output_type": "stream",
     "text": [
      "+----------+\n",
      "|sum(count)|\n",
      "+----------+\n",
      "|      3446|\n",
      "+----------+\n",
      "\n"
     ]
    }
   ],
   "source": [
    "ratings_per_movie.filter(col('count') < 2).groupBy('item').count().agg({\"count\":\"sum\"}).show()"
   ]
  },
  {
   "cell_type": "markdown",
   "metadata": {},
   "source": [
    "# Alternating Least Squares (ALS)\n",
    "\n",
    "Alternating Least Squares (ALS) is a standard algorithm for collaborative filtering. Its main rationale is that (conditioned on some item) users that agreed before are more likely to agree in the future.\n",
    "In ALS, we aim at building a correlation matrix $M_{u,i}$ such that, given a rating $r$ given by a user $u$ to an item $i$ we have:\n",
    "\n",
    "$$M_{u,i}=\\begin{cases}\n",
    "    r,& \\text{if user}\\ u\\ \\text{rated item}\\ i\\\\\n",
    "    0,& \\text{if user}\\ u\\ \\text{didn't rate item}\\ i\n",
    "\\end{cases}$$\n",
    "\n",
    "Provided we have a factor matrix $A$ for the users and a factor matrix $B$ for the movies, as the name implies, we use alternating least squares to first estimate $B\\left(A\\right)$ and then $A\\left(B\\right)$ until we reach convergence.\n",
    "\n",
    "An important characteristics is that we want to penalise items without ratings, and as such we use\n",
    "\n",
    "$$ w_{u,i}=\\begin{cases}\n",
    "    0,& \\text{if}\\ M_{u,i}=0\\\\\n",
    "    1,& \\text{otherwise}\n",
    "\\end{cases}$$\n",
    "\n",
    "The cost functions to minimise are:\n",
    "$$\n",
    "\\begin{align}\n",
    "J\\left(a_u\\right) &= \\left(m_u - a_u B\\right)W_u\\left(m_u-a_u B\\right)^T + \\lambda a_u a_u^T \\\\\n",
    "J\\left(b_i\\right) &= \\left(m_i - A b_i B\\right)W_i\\left(m_i-A b_i \\right)^T + \\lambda b_i b_i^T\n",
    "\\end{align}\n",
    "$$\n",
    "\n",
    "This is minimised using\n",
    "\n",
    "$$\n",
    "\\begin{align}\n",
    "a_u = \\left(B W_u B^T + \\lambda I\\right)^{-1}B W_u m_u \\\\\n",
    "b_u = \\left(A W_i A^T + \\lambda I\\right)^{-1}A W_i m_i\n",
    "\\end{align}\n",
    "$$\n",
    "\n",
    "## Training the model\n",
    "\n",
    "To train Spark's ALS model, we need to perform a few steps.\n",
    "The first step is to define a metric to quantify \"how good\" our model is. This is done by chosing an error measure, which typically is the _mean squared error_ (MSE). The mean square error is formally defined by\n",
    "\n",
    "$$\n",
    "\\text{MSE} = \\frac{1}{N}\\sum_{i=1}^{N}\\epsilon_i^2, \\qquad \\epsilon_i = r_i - \\hat{r}_i.\n",
    "$$\n",
    "\n",
    "That is, we first calculate the difference, $\\epsilon_i$, between each pair of true rating ($r_i$) and it's corresponding _predicted_ rating ($\\hat{r}_i$) and then calculated the average of the square of these errors. As example, consider a list of ratings `r1` and corresponding predictiong `r2`:"
   ]
  },
  {
   "cell_type": "code",
   "execution_count": 10,
   "metadata": {},
   "outputs": [],
   "source": [
    "r1 = [4.5, 3.0, 1.0, 5.0, 4.0]\n",
    "r2 = [4.56, 2.9, 1.1, 4.9, 3.2]"
   ]
  },
  {
   "cell_type": "code",
   "execution_count": 11,
   "metadata": {},
   "outputs": [
    {
     "name": "stdout",
     "output_type": "stream",
     "text": [
      "MSE = 0.13471999999999992\n"
     ]
    }
   ],
   "source": [
    "def calc_mse(r, p):\n",
    "    return sum([(pair[0] - pair[1])**2 for pair in zip(r, p)]) / len(r)\n",
    "\n",
    "print(\"MSE = {}\".format(calc_mse(r1, r2)))"
   ]
  },
  {
   "cell_type": "markdown",
   "metadata": {},
   "source": [
    "As we've seen above, the prediction for user $i$ and item $j$, $\\hat{r}_{i,j,}$ is simply the product between the corresponding user and item vectors, that is\n",
    "\n",
    "$$\\hat{r}_{i,j} = U^T_{i}P_{j}$$\n",
    "\n",
    "which, in practice, leads to a calculation of the Squared Error (SE) as below, which we will then average across the dataset used for validation:"
   ]
  },
  {
   "cell_type": "code",
   "execution_count": 12,
   "metadata": {},
   "outputs": [],
   "source": [
    "def calc_se(rating, user_factor, item_factor):\n",
    "    \"\"\"Squared Error (SE) for a single rating and prediction\"\"\"\n",
    "    prediction = user_factor.T.dot(item_factor)\n",
    "    return (rating - prediction) ** 2"
   ]
  },
  {
   "cell_type": "markdown",
   "metadata": {},
   "source": [
    "Since we've established our error measure, we can proceed to the next step.\n",
    "We now need to split our data into a _training_, _test_ and _validation_ subsets.\n",
    "We will use respectively the proportions 63%, 18% and 18% (you can try other ratios)."
   ]
  },
  {
   "cell_type": "code",
   "execution_count": 13,
   "metadata": {},
   "outputs": [
    {
     "name": "stdout",
     "output_type": "stream",
     "text": [
      "Training dataset size = 63952\n",
      "Validation dataset size = 18464\n",
      "Test dataset size = 18420\n"
     ]
    }
   ],
   "source": [
    "def split_sets(ratings, proportions):\n",
    "    split = ratings.randomSplit(proportions, seed=42)\n",
    "    return {'training': split[0], 'validation': split[1], 'test': split[2]}\n",
    "    \n",
    "sets = split_sets(ratings, [0.63212056, 0.1839397, 0.1839397])\n",
    "print(\"Training dataset size = {}\".format(sets['training'].count()))\n",
    "print(\"Validation dataset size = {}\".format(sets['validation'].count()))\n",
    "print(\"Test dataset size = {}\".format(sets['test'].count()))"
   ]
  },
  {
   "cell_type": "markdown",
   "metadata": {},
   "source": [
    "According to Spark's documentation, the [parameters available](https://spark.apache.org/docs/latest/api/python/pyspark.ml.html?highlight=als#module-pyspark.ml.recommendation) for the Spark ALS class are:\n",
    "\n",
    "```\n",
    "ALS(rank=10, maxIter=10, regParam=0.1, numUserBlocks=10, \n",
    "    numItemBlocks=10, implicitPrefs=False, alpha=1.0, \n",
    "    userCol='user', itemCol='item', seed=None, ratingCol='rating', \n",
    "    nonnegative=False, checkpointInterval=10, \n",
    "    intermediateStorageLevel='MEMORY_AND_DISK', \n",
    "    finalStorageLevel='MEMORY_AND_DISK', coldStartStrategy='nan')\n",
    "```\n",
    "which are described as follow:\n",
    "\n",
    "* `rank`, Rank of the feature matrices computed (number of features, default $10$)\n",
    "* `maxIter`, Maximum number of iterations of ALS. (default: 10)\n",
    "* `regParam`, Regularization parameter. (default: 0.1)\n",
    "* `numUserBlocks`, Number of blocks used to parallelize the computation. A value of -1 will use an auto-configured number of blocks. (default: 10)\n",
    "* `nonnegative`, A value of True will solve least-squares with nonnegativity constraints. (default: False)\n",
    "* `seed`, Random seed for initial matrix factorization model. A value of None will use system time as the seed. (default: None)\n",
    "* `implicitPrefs`, whether we are using implicit data or not (more on that later)\n",
    "* `userCol`, name of the Dataframe column representing user ids\n",
    "* `itemCol`, name of the Dataframe column representing movie ids\n",
    "* `coldStrategy`, Strategy for dealing with unknown or new users/items at prediction time. This may be useful in cross-validation or production scenarios, for handling user/item ids the model has not seen in the training data. (either `nan` (default) or `drop`)\n",
    "\n",
    "Let's try an ALS model with some arbitrary parameters, namely `rank=3`, `maxIter=5`, `regParam=0.1` and `coldStrategy='drop'`."
   ]
  },
  {
   "cell_type": "code",
   "execution_count": 14,
   "metadata": {},
   "outputs": [],
   "source": [
    "from pyspark.ml.recommendation import ALS\n",
    "\n",
    "simple_als = ALS(maxIter=5, regParam=0.01, rank=3, coldStartStrategy='drop')"
   ]
  },
  {
   "cell_type": "markdown",
   "metadata": {},
   "source": [
    "After the `ALS` class instantiation, we specify the data to be used for training using the `.fit()` method:"
   ]
  },
  {
   "cell_type": "code",
   "execution_count": 15,
   "metadata": {},
   "outputs": [
    {
     "name": "stdout",
     "output_type": "stream",
     "text": [
      "CPU times: user 24.1 ms, sys: 8.38 ms, total: 32.5 ms\n",
      "Wall time: 3.21 s\n"
     ]
    }
   ],
   "source": [
    "%time simple_model = simple_als.fit(sets['training'])"
   ]
  },
  {
   "cell_type": "markdown",
   "metadata": {},
   "source": [
    "As we can see from the above, the training was quite quick ($2$ seconds in my case, yours may be different).\n",
    "\n",
    "We can now calculate the MSE for this model, with the test datasets. To do so, we use the [Spark's](http://spark.apache.org/docs/2.2.0/api/python/pyspark.ml.html#pyspark.ml.evaluation.RegressionEvaluator) `RegressionEvaluator` class. In this class we can specify the error measure (`mse`, `rmse`, etc.) and the names of the labels (in our case the ratings) and the predictions columns."
   ]
  },
  {
   "cell_type": "code",
   "execution_count": 16,
   "metadata": {},
   "outputs": [
    {
     "name": "stdout",
     "output_type": "stream",
     "text": [
      "MSE = 1.2082838419149144\n"
     ]
    }
   ],
   "source": [
    "from pyspark.ml.evaluation import RegressionEvaluator\n",
    "\n",
    "evaluator = RegressionEvaluator(\n",
    "    metricName=\"mse\",\n",
    "    labelCol=\"rating\",\n",
    "    predictionCol=\"prediction\")\n",
    "\n",
    "prediction = simple_model.transform(sets['test'])\n",
    "mse = evaluator.evaluate(prediction)\n",
    "print(\"MSE = {}\".format(mse))"
   ]
  },
  {
   "cell_type": "markdown",
   "metadata": {},
   "source": [
    "A common sanity test for a model is also to check if there the error measure is similar to using the _mean rating_ as the prediction.\n",
    "We start by calculating the mean rating from the dataframe:"
   ]
  },
  {
   "cell_type": "code",
   "execution_count": 17,
   "metadata": {},
   "outputs": [
    {
     "name": "stdout",
     "output_type": "stream",
     "text": [
      "Mean rating = 3.4911780673181325\n"
     ]
    }
   ],
   "source": [
    "mean_rating = sets['test'].groupBy().mean('rating').collect()[0]['avg(rating)']\n",
    "print(\"Mean rating = {}\".format(mean_rating))"
   ]
  },
  {
   "cell_type": "markdown",
   "metadata": {},
   "source": [
    "We create a dataframe to store all the movie ids, but we'll replace the actual prediction from the previous model, with the mean rating:"
   ]
  },
  {
   "cell_type": "code",
   "execution_count": 20,
   "metadata": {},
   "outputs": [
    {
     "name": "stdout",
     "output_type": "stream",
     "text": [
      "+----+------+----+------------------+\n",
      "|item|rating|user|        prediction|\n",
      "+----+------+----+------------------+\n",
      "| 471|   2.5| 599|3.4911780673181325|\n",
      "| 471|   4.0| 603|3.4911780673181325|\n",
      "| 471|   4.5| 182|3.4911780673181325|\n",
      "| 471|   1.0| 500|3.4911780673181325|\n",
      "| 471|   5.0| 520|3.4911780673181325|\n",
      "| 471|   4.0| 411|3.4911780673181325|\n",
      "| 471|   3.0| 541|3.4911780673181325|\n",
      "| 471|   4.5| 260|3.4911780673181325|\n",
      "|1088|   3.0| 606|3.4911780673181325|\n",
      "|1088|   2.5| 599|3.4911780673181325|\n",
      "|1088|   4.0| 563|3.4911780673181325|\n",
      "|1088|   3.5| 381|3.4911780673181325|\n",
      "|1088|   4.0| 200|3.4911780673181325|\n",
      "|1088|   3.5| 600|3.4911780673181325|\n",
      "|1088|   3.0|  42|3.4911780673181325|\n",
      "|1088|   1.0| 517|3.4911780673181325|\n",
      "|1238|   4.0| 325|3.4911780673181325|\n",
      "|1342|   1.0| 223|3.4911780673181325|\n",
      "|1342|   2.0|  19|3.4911780673181325|\n",
      "|1342|   3.5| 425|3.4911780673181325|\n",
      "+----+------+----+------------------+\n",
      "only showing top 20 rows\n",
      "\n"
     ]
    }
   ],
   "source": [
    "from pyspark.sql.functions import lit\n",
    "\n",
    "mean_prediction = prediction.withColumn('prediction', lit(mean_rating))\n",
    "mean_prediction.show()"
   ]
  },
  {
   "cell_type": "markdown",
   "metadata": {},
   "source": [
    "Finally we calculate the MSE for this new set of \"predictions\":"
   ]
  },
  {
   "cell_type": "code",
   "execution_count": 21,
   "metadata": {},
   "outputs": [
    {
     "name": "stdout",
     "output_type": "stream",
     "text": [
      "MSE (using mean) = 1.0893233836723415\n"
     ]
    }
   ],
   "source": [
    "mse = evaluator.evaluate(mean_prediction)\n",
    "print(\"MSE (using mean) = {}\".format(mse))"
   ]
  },
  {
   "cell_type": "markdown",
   "metadata": {},
   "source": [
    "We can see that although the model we've just trained is better than the mean baseline, it could be much better perhaps?\n",
    "Next we will se how to improve our model, namely how to select the best parameters instead of using arbitrary ones."
   ]
  },
  {
   "cell_type": "markdown",
   "metadata": {},
   "source": [
    "### Parameter estimation\n",
    "\n",
    "The question now is, how do we know which parameters are the best? We first start by the definition of \"best\".\n",
    "In this case, the \"best\" parameters will be the ones that would generate a model which when used with a dataset (other than the training), would produce the most accurate predictions. We've [seen above](#Training-the-model) that a way of determining this accuracy would be to use an error measure such the MSE.\n",
    "\n",
    "To determine the parameters, we then use a \"brute force\" method: we train the model with a range of parameters, calculate the MSE, and choose the parameter combination which provides the smallest MSE.\n",
    "\n",
    "We could of course do this manually, but Spark provives an utility method to automate the task for us.\n",
    "We use the [`RegressionEvaluator` class](http://spark.apache.org/docs/2.2.0/api/python/pyspark.ml.html#pyspark.ml.evaluation.RegressionEvaluator) to calculate the MSE for each parameter combination and a [`TrainValidationSplit` class](http://spark.apache.org/docs/2.2.0/api/python/pyspark.ml.html#pyspark.ml.tuning.TrainValidationSplit) to perform the actual training.\n",
    "\n",
    "(Below, we add the `coldStartStrategy` to the ALS class so that we automatically drop any `NaN` predictions.)"
   ]
  },
  {
   "cell_type": "code",
   "execution_count": 22,
   "metadata": {},
   "outputs": [
    {
     "name": "stdout",
     "output_type": "stream",
     "text": [
      "CPU times: user 388 ms, sys: 107 ms, total: 495 ms\n",
      "Wall time: 59.9 s\n"
     ]
    }
   ],
   "source": [
    "from pyspark.ml.recommendation import ALS\n",
    "from pyspark.ml.tuning import TrainValidationSplit, ParamGridBuilder\n",
    "from pyspark.ml.evaluation import RegressionEvaluator\n",
    "\n",
    "als = ALS(coldStartStrategy=\"drop\")\n",
    "\n",
    "param_grid = ParamGridBuilder() \\\n",
    "    .addGrid(als.rank, [6, 8]) \\\n",
    "    .addGrid(als.maxIter,[10, 12]) \\\n",
    "    .build()\n",
    "\n",
    "evaluator = RegressionEvaluator(\n",
    "    metricName=\"mse\",\n",
    "    labelCol=\"rating\",\n",
    "    predictionCol=\"prediction\")\n",
    "\n",
    "tvs = TrainValidationSplit(\n",
    "    estimator=als,\n",
    "    estimatorParamMaps=param_grid,\n",
    "    evaluator=evaluator,\n",
    ")\n",
    "\n",
    "%time model = tvs.fit(sets['training'])"
   ]
  },
  {
   "cell_type": "markdown",
   "metadata": {},
   "source": [
    "The `TrainValidationSplit` instance (`model`) stores the model with the smallest MSE in `model.bestModel`.\n",
    "We can access the best parameters from our proposal in `model.bestModel`."
   ]
  },
  {
   "cell_type": "code",
   "execution_count": 23,
   "metadata": {},
   "outputs": [
    {
     "name": "stdout",
     "output_type": "stream",
     "text": [
      "Best rank = 6\n",
      "Best maxIter = 12\n"
     ]
    }
   ],
   "source": [
    "print(\"Best rank = {}\".format(model.bestModel.rank))\n",
    "print(\"Best maxIter = {}\".format(model.bestModel._java_obj.parent().getMaxIter()))"
   ]
  },
  {
   "cell_type": "markdown",
   "metadata": {},
   "source": [
    "If you want, you can search for the best parameter giving more options. Keep in mind, however, that the parameter grid search explores all _combinations_ of parameters, therefore the number trained models will grow exponentially, and of course, so will the time taken to perform the computations.\n",
    "\n",
    "The `model` instance has a method (`.transform()`) which allows us to train the model. It will automatically assume the best model.\n",
    "Lets perform the training and display the predictions. We will also join the prediction dataframe (which contains the movie ids) with the `movies` dataframe so we can see the actual titles of the movies."
   ]
  },
  {
   "cell_type": "code",
   "execution_count": 24,
   "metadata": {},
   "outputs": [
    {
     "name": "stdout",
     "output_type": "stream",
     "text": [
      "+----+--------------------------------+----------+------+\n",
      "|user|title                           |prediction|rating|\n",
      "+----+--------------------------------+----------+------+\n",
      "|599 |\"Hudsucker Proxy                |2.8028913 |2.5   |\n",
      "|603 |\"Hudsucker Proxy                |2.7718585 |4.0   |\n",
      "|182 |\"Hudsucker Proxy                |3.5782845 |4.5   |\n",
      "|500 |\"Hudsucker Proxy                |2.202407  |1.0   |\n",
      "|520 |\"Hudsucker Proxy                |3.2265217 |5.0   |\n",
      "|411 |\"Hudsucker Proxy                |2.8057125 |4.0   |\n",
      "|541 |\"Hudsucker Proxy                |3.6663718 |3.0   |\n",
      "|260 |\"Hudsucker Proxy                |3.4036603 |4.5   |\n",
      "|606 |Dirty Dancing (1987)            |3.7067513 |3.0   |\n",
      "|599 |Dirty Dancing (1987)            |2.7773557 |2.5   |\n",
      "|563 |Dirty Dancing (1987)            |3.5890899 |4.0   |\n",
      "|381 |Dirty Dancing (1987)            |3.6757362 |3.5   |\n",
      "|200 |Dirty Dancing (1987)            |3.9650793 |4.0   |\n",
      "|600 |Dirty Dancing (1987)            |2.9308026 |3.5   |\n",
      "|42  |Dirty Dancing (1987)            |3.9532409 |3.0   |\n",
      "|517 |Dirty Dancing (1987)            |2.9788518 |1.0   |\n",
      "|325 |Local Hero (1983)               |4.4329467 |4.0   |\n",
      "|223 |Candyman (1992)                 |2.363716  |1.0   |\n",
      "|19  |Candyman (1992)                 |2.4370744 |2.0   |\n",
      "|425 |Candyman (1992)                 |2.884019  |3.5   |\n",
      "|580 |Men in Black (a.k.a. MIB) (1997)|3.517845  |4.0   |\n",
      "|368 |Men in Black (a.k.a. MIB) (1997)|2.9470463 |3.0   |\n",
      "|93  |Men in Black (a.k.a. MIB) (1997)|4.4043994 |5.0   |\n",
      "|355 |Men in Black (a.k.a. MIB) (1997)|3.7632709 |4.0   |\n",
      "|274 |Men in Black (a.k.a. MIB) (1997)|3.371884  |3.0   |\n",
      "|280 |Men in Black (a.k.a. MIB) (1997)|3.6479337 |3.5   |\n",
      "|474 |Men in Black (a.k.a. MIB) (1997)|3.3700995 |4.5   |\n",
      "|500 |Men in Black (a.k.a. MIB) (1997)|2.8322043 |4.0   |\n",
      "|570 |Men in Black (a.k.a. MIB) (1997)|3.2649727 |4.0   |\n",
      "|489 |Men in Black (a.k.a. MIB) (1997)|2.9875088 |3.0   |\n",
      "|202 |Men in Black (a.k.a. MIB) (1997)|3.4634233 |4.0   |\n",
      "|263 |Men in Black (a.k.a. MIB) (1997)|3.5830278 |3.0   |\n",
      "|495 |Men in Black (a.k.a. MIB) (1997)|3.890459  |3.5   |\n",
      "|555 |Men in Black (a.k.a. MIB) (1997)|3.682169  |2.0   |\n",
      "|391 |Men in Black (a.k.a. MIB) (1997)|2.7820096 |2.0   |\n",
      "|361 |Men in Black (a.k.a. MIB) (1997)|3.1165917 |3.5   |\n",
      "|249 |Men in Black (a.k.a. MIB) (1997)|3.8090856 |4.5   |\n",
      "|219 |Men in Black (a.k.a. MIB) (1997)|3.1851234 |3.0   |\n",
      "|352 |Men in Black (a.k.a. MIB) (1997)|3.637846  |2.5   |\n",
      "|272 |Men in Black (a.k.a. MIB) (1997)|3.1388712 |4.0   |\n",
      "|534 |Men in Black (a.k.a. MIB) (1997)|3.8058543 |4.0   |\n",
      "|522 |Men in Black (a.k.a. MIB) (1997)|3.5455909 |4.0   |\n",
      "|357 |Men in Black (a.k.a. MIB) (1997)|3.6635323 |3.5   |\n",
      "|153 |Men in Black (a.k.a. MIB) (1997)|1.5741858 |0.5   |\n",
      "|18  |Men in Black (a.k.a. MIB) (1997)|3.4596581 |3.5   |\n",
      "|187 |Men in Black (a.k.a. MIB) (1997)|2.745304  |2.0   |\n",
      "|19  |Spawn (1997)                    |1.7458444 |2.0   |\n",
      "|217 |Spawn (1997)                    |2.3070567 |2.0   |\n",
      "|288 |Spawn (1997)                    |2.5276318 |3.0   |\n",
      "|464 |Spawn (1997)                    |3.074071  |1.0   |\n",
      "|298 |Spawn (1997)                    |2.6382265 |1.5   |\n",
      "|305 |The Devil's Advocate (1997)     |4.164713  |2.5   |\n",
      "|603 |The Devil's Advocate (1997)     |2.743326  |3.0   |\n",
      "|182 |The Devil's Advocate (1997)     |3.0768993 |4.5   |\n",
      "|542 |The Devil's Advocate (1997)     |3.0558462 |5.0   |\n",
      "|590 |The Devil's Advocate (1997)     |3.3096359 |3.0   |\n",
      "|586 |The Devil's Advocate (1997)     |4.030625  |3.5   |\n",
      "|69  |The Devil's Advocate (1997)     |4.1731668 |4.0   |\n",
      "|160 |The Devil's Advocate (1997)     |2.9772968 |3.0   |\n",
      "|480 |The Devil's Advocate (1997)     |3.3234901 |3.0   |\n",
      "|608 |The Devil's Advocate (1997)     |3.915698  |4.5   |\n",
      "|606 |Chinese Box (1997)              |1.9332248 |3.5   |\n",
      "|577 |Out of Africa (1985)            |3.3838975 |4.0   |\n",
      "|202 |Out of Africa (1985)            |3.8321576 |4.0   |\n",
      "|368 |Children of the Corn (1984)     |1.9362082 |2.0   |\n",
      "|260 |Children of the Corn (1984)     |1.5695186 |3.5   |\n",
      "|608 |\"American Tail: Fievel Goes West|2.5575922 |2.0   |\n",
      "|294 |\"American Tail: Fievel Goes West|2.7496076 |1.0   |\n",
      "|332 |King Kong (1933)                |3.8258653 |3.5   |\n",
      "|508 |King Kong (1933)                |2.2000468 |1.5   |\n",
      "|527 |\"Buddy Holly Story              |3.0359251 |4.0   |\n",
      "|155 |Galaxy Quest (1999)             |3.6359649 |4.0   |\n",
      "|91  |Galaxy Quest (1999)             |3.7321358 |3.5   |\n",
      "|328 |Galaxy Quest (1999)             |3.2317429 |1.5   |\n",
      "|391 |Galaxy Quest (1999)             |2.935434  |2.0   |\n",
      "|249 |Galaxy Quest (1999)             |3.728284  |3.0   |\n",
      "|167 |Galaxy Quest (1999)             |3.3815227 |3.5   |\n",
      "|156 |Galaxy Quest (1999)             |3.4646103 |4.5   |\n",
      "|141 |Galaxy Quest (1999)             |3.2673461 |4.0   |\n",
      "|294 |Galaxy Quest (1999)             |2.9182374 |3.0   |\n",
      "|313 |Galaxy Quest (1999)             |2.9484942 |4.0   |\n",
      "|89  |Galaxy Quest (1999)             |2.2904923 |2.5   |\n",
      "|603 |Hellbound: Hellraiser II (1988) |3.8221264 |3.0   |\n",
      "|274 |Hellbound: Hellraiser II (1988) |2.933885  |3.5   |\n",
      "|610 |Dungeons & Dragons (2000)       |2.2855659 |1.0   |\n",
      "|599 |\"Land Before Time               |2.38566   |2.5   |\n",
      "|249 |I Spy (2002)                    |2.9534469 |3.0   |\n",
      "|606 |Mississippi Masala (1991)       |3.835687  |4.0   |\n",
      "|356 |American Splendor (2003)        |3.8250668 |2.0   |\n",
      "|477 |American Splendor (2003)        |4.0505104 |5.0   |\n",
      "|287 |American Splendor (2003)        |3.873679  |5.0   |\n",
      "|187 |American Splendor (2003)        |4.3718905 |5.0   |\n",
      "|271 |10 (1979)                       |2.6210253 |2.0   |\n",
      "|448 |10 (1979)                       |2.8787282 |3.5   |\n",
      "|345 |10 (1979)                       |2.5806093 |4.5   |\n",
      "|599 |\"Tale of Two Sisters            |3.1128097 |3.5   |\n",
      "|474 |Before Sunset (2004)            |3.4546523 |4.0   |\n",
      "|560 |Before Sunset (2004)            |2.724901  |3.0   |\n",
      "|221 |Before Sunset (2004)            |4.0141273 |4.5   |\n",
      "|105 |Before Sunset (2004)            |2.5512233 |4.0   |\n",
      "+----+--------------------------------+----------+------+\n",
      "only showing top 100 rows\n",
      "\n"
     ]
    }
   ],
   "source": [
    "prediction = model.transform(sets['test'])\n",
    "\n",
    "prediction.alias('p').join(movies.alias('m'), col('p.item') == col('m.item')) \\\n",
    "    .select([col('p.user'), col('m.title'), col('p.prediction'), col('p.rating')]).show(100, truncate=False)"
   ]
  },
  {
   "cell_type": "markdown",
   "metadata": {},
   "source": [
    "By glancing at this dataframe, we can see that many predictions are close to the true value, but some are way off.\n",
    "First, lets visualise the error distribution."
   ]
  },
  {
   "cell_type": "code",
   "execution_count": 25,
   "metadata": {},
   "outputs": [
    {
     "data": {
      "text/plain": [
       "(0, 5)"
      ]
     },
     "execution_count": 25,
     "metadata": {},
     "output_type": "execute_result"
    },
    {
     "data": {
      "image/png": "[encoded data removed]",
      "text/plain": [
       "<Figure size 432x288 with 1 Axes>"
      ]
     },
     "metadata": {
      "needs_background": "light"
     },
     "output_type": "display_data"
    }
   ],
   "source": [
    "errors = prediction.withColumn('error', col('prediction')-col('rating')).select('error').collect()\n",
    "ax = sns.distplot(errors, rug=True, hist=True)\n",
    "ax.set_xlim(0, 5)"
   ]
  },
  {
   "cell_type": "markdown",
   "metadata": {},
   "source": [
    "We can see that the majority of errors is close to zero, which is always good.\n",
    "But we want to quantify how good the model is, and for that we will use the MSE again.\n",
    "\n",
    "The `evaluator` instance that can calculate this for us (recall from above that we specified `mse` as our error measure when creating the instance). We pass the `prediction` dataframe as the evaluator is expecting a column named `prediction`."
   ]
  },
  {
   "cell_type": "code",
   "execution_count": 26,
   "metadata": {},
   "outputs": [
    {
     "name": "stdout",
     "output_type": "stream",
     "text": [
      "MSE = 0.8370703145656093\n"
     ]
    }
   ],
   "source": [
    "mse = evaluator.evaluate(prediction)\n",
    "print(\"MSE = {}\".format(mse))"
   ]
  },
  {
   "cell_type": "markdown",
   "metadata": {},
   "source": [
    "So we can see that with these new parameters, the error is lower that with our arbirtary ones, which was the goal of this exercise."
   ]
  },
  {
   "cell_type": "markdown",
   "metadata": {},
   "source": [
    "## Prediction\n",
    "\n",
    "Now that we have a trained model, we want to make predictions. That is, we want to know given a certain user and a movie, which will be the predicted rating. Also, given the nature of the ALS algorithm (where users and items latent factors are stored as matrices), we could look a prediction for all the movies for a certain user and vice-versa.\n",
    "\n",
    "Spark has several methods to perform the prediction given an ALS model.\n",
    "\n",
    "For instance, to predict the top-$k$ movies for all users, we can use:"
   ]
  },
  {
   "cell_type": "code",
   "execution_count": 27,
   "metadata": {},
   "outputs": [
    {
     "name": "stdout",
     "output_type": "stream",
     "text": [
      "+----+--------------------+\n",
      "|user|     recommendations|\n",
      "+----+--------------------+\n",
      "| 471|[[170355, 5.04989...|\n",
      "| 463|[[5075, 5.347768]...|\n",
      "| 496|[[26171, 5.779956...|\n",
      "| 148|[[5013, 5.0821075...|\n",
      "| 540|[[5075, 5.6096983...|\n",
      "| 392|[[40491, 5.878360...|\n",
      "| 243|[[5075, 6.150671]...|\n",
      "|  31|[[87234, 6.304914...|\n",
      "| 516|[[3200, 5.2486925...|\n",
      "| 580|[[60766, 5.37418]...|\n",
      "+----+--------------------+\n",
      "only showing top 10 rows\n",
      "\n"
     ]
    }
   ],
   "source": [
    "# top 10 movies for all users\n",
    "k = 10 \n",
    "model.bestModel.recommendForAllUsers(k).show(10)"
   ]
  },
  {
   "cell_type": "markdown",
   "metadata": {},
   "source": [
    "And to predict the top-$k$ users (users that would give the highest rating) for each movie, we could use:"
   ]
  },
  {
   "cell_type": "code",
   "execution_count": 28,
   "metadata": {},
   "outputs": [
    {
     "name": "stdout",
     "output_type": "stream",
     "text": [
      "+------+--------------------+\n",
      "|  item|     recommendations|\n",
      "+------+--------------------+\n",
      "|  1580|[[53, 4.964338], ...|\n",
      "|  4900|[[53, 5.145113], ...|\n",
      "|  5300|[[206, 3.9970074]...|\n",
      "|  6620|[[236, 5.163564],...|\n",
      "|  7340|[[543, 4.217016],...|\n",
      "| 32460|[[53, 6.1421156],...|\n",
      "| 54190|[[43, 5.8928227],...|\n",
      "|   471|[[360, 4.7487717]...|\n",
      "|  1591|[[258, 4.420768],...|\n",
      "|140541|[[461, 4.829395],...|\n",
      "+------+--------------------+\n",
      "only showing top 10 rows\n",
      "\n"
     ]
    }
   ],
   "source": [
    "# top 10 users for all movies\n",
    "model.bestModel.recommendForAllItems(k).show(10)"
   ]
  },
  {
   "cell_type": "markdown",
   "metadata": {},
   "source": [
    "If we wanted to see the prediction for a certain pair of `(user, movie)` we could create a dataframe containing the information needed:"
   ]
  },
  {
   "cell_type": "code",
   "execution_count": 29,
   "metadata": {},
   "outputs": [],
   "source": [
    "pairs = [(233, 901), (451, 300), (344, 934)] # (user, item)\n",
    "rows = [Row(user=pair[0], item=pair[1]) for pair in pairs]\n",
    "df = spark.createDataFrame(rows)"
   ]
  },
  {
   "cell_type": "markdown",
   "metadata": {},
   "source": [
    "And then use, as before, the `.transform()` method from our trained `model`:"
   ]
  },
  {
   "cell_type": "code",
   "execution_count": 30,
   "metadata": {},
   "outputs": [
    {
     "name": "stdout",
     "output_type": "stream",
     "text": [
      "+----+----+----------+\n",
      "|item|user|prediction|\n",
      "+----+----+----------+\n",
      "| 300| 451| 3.8386116|\n",
      "| 901| 233| 2.0794456|\n",
      "| 934| 344|  2.312513|\n",
      "+----+----+----------+\n",
      "\n"
     ]
    }
   ],
   "source": [
    "prediction = model.transform(df)\n",
    "prediction.show()"
   ]
  },
  {
   "cell_type": "markdown",
   "metadata": {},
   "source": [
    "### Your personal recommendations\n",
    "\n",
    "We can now used the model as our personal movie recommender!\n",
    "\n",
    "You will create a new user profile for yourself and start adding your own ratings.\n",
    "Based on these ratings, you will then be able to predict ratings for movies you haven't seen it (at least rated).\n",
    "\n",
    "First, you'll determine your `user` id:"
   ]
  },
  {
   "cell_type": "code",
   "execution_count": 31,
   "metadata": {},
   "outputs": [
    {
     "name": "stdout",
     "output_type": "stream",
     "text": [
      "New user id = 611\n"
     ]
    }
   ],
   "source": [
    "new_user_id = ratings.groupBy().max('user').first()['max(user)'] + 1\n",
    "print(\"New user id = {}\".format(new_user_id))"
   ]
  },
  {
   "cell_type": "markdown",
   "metadata": {},
   "source": [
    "Next, we create a list of tuples (pairs) consisting of a `item` id and our own `rating`.\n",
    "The following list is just a example, if you want to create your own list, evaluate the following method with a partial name of movie for which you want to find the id and replace it on the list below."
   ]
  },
  {
   "cell_type": "code",
   "execution_count": 32,
   "metadata": {},
   "outputs": [
    {
     "name": "stdout",
     "output_type": "stream",
     "text": [
      "+----+----------------------------+\n",
      "|item|title                       |\n",
      "+----+----------------------------+\n",
      "|110 |Braveheart (1995)           |\n",
      "|653 |Dragonheart (1996)          |\n",
      "|988 |Grace of My Heart (1996)    |\n",
      "|1423|Hearts and Minds (1996)     |\n",
      "|2350|Heart Condition (1990)      |\n",
      "|2417|Heartburn (1986)            |\n",
      "|2443|Playing by Heart (1998)     |\n",
      "|2476|Heartbreak Ridge (1986)     |\n",
      "|2738|Crimes of the Heart (1986)  |\n",
      "|2906|Random Hearts (1999)        |\n",
      "|2996|Music of the Heart (1999)   |\n",
      "|3111|Places in the Heart (1984)  |\n",
      "|3466|Heart and Souls (1993)      |\n",
      "|3565|Where the Heart Is (2000)   |\n",
      "|3706|Angel Heart (1987)          |\n",
      "|3714|Clara's Heart (1988)        |\n",
      "|3914|\"Broken Hearts Club         |\n",
      "|4067|Untamed Heart (1993)        |\n",
      "|4228|Heartbreakers (2001)        |\n",
      "|4639|America's Sweethearts (2001)|\n",
      "+----+----------------------------+\n",
      "only showing top 20 rows\n",
      "\n"
     ]
    }
   ],
   "source": [
    "from pyspark.sql.functions import lower\n",
    "\n",
    "def find_movie_id(partial_title):\n",
    "    movies.where(lower(col('title')).like(\"%{}%\".format(partial_title.lower())))\\\n",
    "    .show(truncate=False)\n",
    "    \n",
    "find_movie_id('heart')"
   ]
  },
  {
   "cell_type": "markdown",
   "metadata": {},
   "source": [
    "After finding your favourite movies, replace them (along with your rating) on the following list:"
   ]
  },
  {
   "cell_type": "code",
   "execution_count": 33,
   "metadata": {},
   "outputs": [
    {
     "name": "stdout",
     "output_type": "stream",
     "text": [
      "+----+------+----+\n",
      "|item|rating|user|\n",
      "+----+------+----+\n",
      "| 484|     1| 611|\n",
      "| 485|     4| 611|\n",
      "| 492|     4| 611|\n",
      "| 519|     1| 611|\n",
      "| 541|     5| 611|\n",
      "|2968|     5| 611|\n",
      "| 587|     1| 611|\n",
      "| 608|     5| 611|\n",
      "| 680|     4| 611|\n",
      "| 741|     4| 611|\n",
      "| 750|     5| 611|\n",
      "| 784|     1| 611|\n",
      "|1288|     5| 611|\n",
      "|2067|     2| 611|\n",
      "|3081|     3| 611|\n",
      "|4848|     5| 611|\n",
      "|4878|     3| 611|\n",
      "|4973|     4| 611|\n",
      "|5147|     5| 611|\n",
      "|6383|     1| 611|\n",
      "+----+------+----+\n",
      "\n"
     ]
    }
   ],
   "source": [
    "my_ratings = [(484, 1), # Sorry, I didn't really liked Lassie\n",
    "(485, 4), # Last Action Hero, it's a guilty pleasure\n",
    "(492, 4), # Manhattan Murder Mystery, a great movie\n",
    "(519, 1), # RoboCop 3, what a way to spoil a great franchise\n",
    "(541, 5), # Blade Runner, enough said\n",
    "(2968, 5), # Time Bandits, a classic\n",
    "(587, 1), # eeech, Ghost\n",
    "(608, 5), # Fargo, another classic\n",
    "(680, 4), # Alphaville, great, but not easy\n",
    "(741, 4), # Ghost in the Shell, always fun\n",
    "(750, 5), # Dr. Strangelove, again, enough said\n",
    "(784, 1), # Cable Guy. not. funny.\n",
    "(1288, 5), # This Is Spinal Tap. essential.\n",
    "(2067, 2), # Doctor Zhivago, classic but not my thing.\n",
    "(3081, 3), # Sleepy Hollow enjoyable\n",
    "(4848, 5), # Mulholland Drive. What? Yes!\n",
    "(4878, 3), # Donnie Darko, twas ok\n",
    "(4973, 4), # Amelie \n",
    "(5147, 5), # Wild Strawberries\n",
    "(6383, 1)] # 2 Fast 2 Furious              \n",
    "\n",
    "my_ratings_df = spark.createDataFrame([Row(user=new_user_id, item=r[0], rating=r[1]) for r in my_ratings])\n",
    "my_ratings_df.show()"
   ]
  },
  {
   "cell_type": "markdown",
   "metadata": {},
   "source": [
    "We will now join the two dataframes. The original ratings from the MovieLens dataset and our newly created ones:"
   ]
  },
  {
   "cell_type": "code",
   "execution_count": 34,
   "metadata": {},
   "outputs": [],
   "source": [
    "new_ratings = ratings.union(my_ratings_df)"
   ]
  },
  {
   "cell_type": "markdown",
   "metadata": {},
   "source": [
    "We will retrain the model so it can now take into account our personal ratings.\n",
    "In theory, we should also estimate the parameters again, since there's no guarantee the previous parameters will still be the best.\n",
    "\n",
    "However, since we've only added a few ratings to an already existing dataset of hundreds of thousands, we can say that, in practice, this won't make a big difference. However, the best practice is always to retrain the model after a significant number of ratings is added. How you define \"significant\" can be assessed by comparing the old parameters with a new search. Due to the limited amount of time, we won't do that now."
   ]
  },
  {
   "cell_type": "code",
   "execution_count": 35,
   "metadata": {},
   "outputs": [
    {
     "name": "stdout",
     "output_type": "stream",
     "text": [
      "CPU times: user 33.2 ms, sys: 9.62 ms, total: 42.8 ms\n",
      "Wall time: 4.37 s\n"
     ]
    }
   ],
   "source": [
    "best_rank = model.bestModel.rank\n",
    "best_iterations = model.bestModel._java_obj.parent().getMaxIter()\n",
    "%time new_model = ALS(rank=best_rank, maxIter=best_iterations, coldStartStrategy=\"drop\").fit(new_ratings)"
   ]
  },
  {
   "cell_type": "markdown",
   "metadata": {},
   "source": [
    "Now let's predict the ratings for the movies you _haven't_ seen.\n",
    "We start by creating a dataframe consisting of all the movie ids _except_ the ones you have rated previously."
   ]
  },
  {
   "cell_type": "code",
   "execution_count": 36,
   "metadata": {},
   "outputs": [
    {
     "name": "stdout",
     "output_type": "stream",
     "text": [
      "+----+\n",
      "|item|\n",
      "+----+\n",
      "|  26|\n",
      "|  29|\n",
      "| 474|\n",
      "|1677|\n",
      "|1806|\n",
      "|1950|\n",
      "|2040|\n",
      "|2453|\n",
      "|2529|\n",
      "|2927|\n",
      "+----+\n",
      "only showing top 10 rows\n",
      "\n",
      "Number of unseen movies = 9722\n"
     ]
    }
   ],
   "source": [
    "unseen_movies = movies.alias('m').join(my_ratings_df.alias('r'), col('m.item') == col('r.item'), how='left_anti').select('item')\n",
    "unseen_movies.show(10)\n",
    "print(\"Number of unseen movies = {}\".format(unseen_movies.count()))"
   ]
  },
  {
   "cell_type": "markdown",
   "metadata": {},
   "source": [
    "We now create a dataframe consisting of your `user` id and the `item` id of each movie you haven't seen."
   ]
  },
  {
   "cell_type": "code",
   "execution_count": 37,
   "metadata": {},
   "outputs": [
    {
     "name": "stdout",
     "output_type": "stream",
     "text": [
      "+----+----+\n",
      "|item|user|\n",
      "+----+----+\n",
      "|  26| 611|\n",
      "|  29| 611|\n",
      "| 474| 611|\n",
      "|1677| 611|\n",
      "|1806| 611|\n",
      "|1950| 611|\n",
      "|2040| 611|\n",
      "|2453| 611|\n",
      "|2529| 611|\n",
      "|2927| 611|\n",
      "|3091| 611|\n",
      "|3506| 611|\n",
      "|3764| 611|\n",
      "|4823| 611|\n",
      "|5385| 611|\n",
      "|5409| 611|\n",
      "|5556| 611|\n",
      "|6721| 611|\n",
      "|7225| 611|\n",
      "|8484| 611|\n",
      "+----+----+\n",
      "only showing top 20 rows\n",
      "\n"
     ]
    }
   ],
   "source": [
    "from pyspark.sql.functions import lit\n",
    "\n",
    "unseen_movies_user = unseen_movies.withColumn(\"user\", lit(new_user_id))\n",
    "unseen_movies_user.show()"
   ]
  },
  {
   "cell_type": "markdown",
   "metadata": {},
   "source": [
    "As previously, we use the model's `.transform()` method to create a prediction dataframe:"
   ]
  },
  {
   "cell_type": "code",
   "execution_count": 38,
   "metadata": {},
   "outputs": [
    {
     "name": "stdout",
     "output_type": "stream",
     "text": [
      "+----+----+----------+\n",
      "|item|user|prediction|\n",
      "+----+----+----------+\n",
      "| 148| 611|  4.253159|\n",
      "| 471| 611|  3.117791|\n",
      "| 496| 611|  4.253159|\n",
      "| 833| 611|  1.199823|\n",
      "|1088| 611| 1.9459069|\n",
      "|1238| 611|  4.428846|\n",
      "|1342| 611| 2.6041217|\n",
      "|1580| 611| 2.6076708|\n",
      "|1591| 611| 2.1376724|\n",
      "|1645| 611| 2.4451044|\n",
      "+----+----+----------+\n",
      "only showing top 10 rows\n",
      "\n"
     ]
    }
   ],
   "source": [
    "unseen_ratings = new_model.transform(unseen_movies_user)\n",
    "unseen_ratings.show(10)"
   ]
  },
  {
   "cell_type": "markdown",
   "metadata": {},
   "source": [
    "To help visualise the result we will, as previously, join the prediction dataframe with the movie titles."
   ]
  },
  {
   "cell_type": "code",
   "execution_count": 39,
   "metadata": {},
   "outputs": [
    {
     "name": "stdout",
     "output_type": "stream",
     "text": [
      "+----+--------------------------------+----------+\n",
      "|user|title                           |prediction|\n",
      "+----+--------------------------------+----------+\n",
      "|611 |\"Awfully Big Adventure          |4.253159  |\n",
      "|611 |\"Hudsucker Proxy                |3.117791  |\n",
      "|611 |What Happened Was... (1994)     |4.253159  |\n",
      "|611 |High School High (1996)         |1.199823  |\n",
      "|611 |Dirty Dancing (1987)            |1.9459069 |\n",
      "|611 |Local Hero (1983)               |4.428846  |\n",
      "|611 |Candyman (1992)                 |2.6041217 |\n",
      "|611 |Men in Black (a.k.a. MIB) (1997)|2.6076708 |\n",
      "|611 |Spawn (1997)                    |2.1376724 |\n",
      "|611 |The Devil's Advocate (1997)     |2.4451044 |\n",
      "+----+--------------------------------+----------+\n",
      "only showing top 10 rows\n",
      "\n"
     ]
    }
   ],
   "source": [
    "unseen_ratings_titles = unseen_ratings.alias('r')\\\n",
    "                        .join(movies.alias('m'), col('r.item') == col('m.item'))\\\n",
    "                        .select(['user', 'title', 'prediction'])\n",
    "unseen_ratings_titles.show(10, truncate=False)"
   ]
  },
  {
   "cell_type": "markdown",
   "metadata": {},
   "source": [
    "If we want to see the predictions ordered by their rating, in descending order, we simply apply the `.orderBy()` transformation to the dataframe:"
   ]
  },
  {
   "cell_type": "code",
   "execution_count": 40,
   "metadata": {},
   "outputs": [
    {
     "name": "stdout",
     "output_type": "stream",
     "text": [
      "+----+--------------------+----------+\n",
      "|user|               title|prediction|\n",
      "+----+--------------------+----------+\n",
      "| 611|Dragon Ball Z: Th...|  6.140652|\n",
      "| 611|Mulholland Dr. (1...|  6.120075|\n",
      "| 611|\"Tale of Two Sisters| 6.0905924|\n",
      "| 611|\"Million Dollar H...| 5.9996037|\n",
      "| 611|      Yojimbo (1961)|  5.918203|\n",
      "| 611|     \"Skin I Live In| 5.8376017|\n",
      "| 611|        Opera (1987)| 5.8291016|\n",
      "| 611|        Ikiru (1952)|  5.776032|\n",
      "| 611|           Moonlight|  5.573234|\n",
      "| 611|     \"Act of Killing|  5.573234|\n",
      "| 611|  Indignation (2016)|  5.573234|\n",
      "| 611|Who Killed Chea V...|  5.573234|\n",
      "| 611|   Umberto D. (1952)|  5.573234|\n",
      "| 611|I Am Not Your Neg...|  5.573234|\n",
      "| 611|Won't You Be My N...|  5.573234|\n",
      "| 611|Wait Until Dark (...| 5.5370984|\n",
      "| 611|Kwaidan (Kaidan) ...|  5.497493|\n",
      "| 611| \"Match Factory Girl|  5.473209|\n",
      "| 611|    Marwencol (2010)|  5.453308|\n",
      "| 611|My Architect: A S...|  5.433885|\n",
      "+----+--------------------+----------+\n",
      "only showing top 20 rows\n",
      "\n"
     ]
    }
   ],
   "source": [
    "unseen_ratings_titles.orderBy(col('prediction').desc()).show(20)"
   ]
  },
  {
   "cell_type": "markdown",
   "metadata": {},
   "source": [
    "### Post-processing\n",
    "\n"
   ]
  },
  {
   "cell_type": "markdown",
   "metadata": {},
   "source": [
    "Lets do some post-processing to the results we just got.\n",
    "We can start to see what's the difference if we remove predictions made for movies with more than 100 ratings.\n",
    "We start by getting the movie ids from movies with less that $100$ ratings:"
   ]
  },
  {
   "cell_type": "code",
   "execution_count": 41,
   "metadata": {},
   "outputs": [
    {
     "name": "stdout",
     "output_type": "stream",
     "text": [
      "+------+-----+\n",
      "|  item|count|\n",
      "+------+-----+\n",
      "|  2529|   56|\n",
      "| 60756|   28|\n",
      "|   474|   70|\n",
      "|    26|   13|\n",
      "| 72011|   32|\n",
      "|  1806|    8|\n",
      "|  2040|    7|\n",
      "|  2453|    3|\n",
      "|102993|    4|\n",
      "|    29|   38|\n",
      "|  6721|    7|\n",
      "| 96829|   10|\n",
      "|  3764|    5|\n",
      "|106100|   17|\n",
      "|106002|   16|\n",
      "|  4823|   25|\n",
      "| 45726|    6|\n",
      "| 51709|    7|\n",
      "| 69720|    1|\n",
      "| 91261|    1|\n",
      "+------+-----+\n",
      "only showing top 20 rows\n",
      "\n"
     ]
    }
   ],
   "source": [
    "ratings_per_movie = ratings.groupBy('item').count()\n",
    "enough_ratings = ratings_per_movie.filter(col('count') < 100)\n",
    "enough_ratings.show()"
   ]
  },
  {
   "cell_type": "markdown",
   "metadata": {},
   "source": [
    "We can see that the results (sorted in rating descending order), are now constrained to be lower than $5$.\n",
    "Why do you think that is?"
   ]
  },
  {
   "cell_type": "code",
   "execution_count": 42,
   "metadata": {},
   "outputs": [
    {
     "name": "stdout",
     "output_type": "stream",
     "text": [
      "+----+----+----------+\n",
      "|item|user|prediction|\n",
      "+----+----+----------+\n",
      "| 858| 611| 4.6375756|\n",
      "|1208| 611|  4.588269|\n",
      "|1136| 611| 4.5728636|\n",
      "| 296| 611|  4.564739|\n",
      "|1732| 611|  4.469977|\n",
      "|1221| 611| 4.4622774|\n",
      "|6874| 611|  4.424946|\n",
      "|1206| 611| 4.3651676|\n",
      "|7438| 611| 4.3647456|\n",
      "|3996| 611|   4.31933|\n",
      "| 111| 611| 4.3121367|\n",
      "|2858| 611|  4.259027|\n",
      "|4226| 611| 4.2484784|\n",
      "|1089| 611| 4.2392826|\n",
      "|  50| 611|   4.17518|\n",
      "|2959| 611|  4.155445|\n",
      "|1193| 611|  4.152857|\n",
      "| 260| 611|  4.109965|\n",
      "|4993| 611|   4.10192|\n",
      "|1196| 611| 3.9933815|\n",
      "+----+----+----------+\n",
      "only showing top 20 rows\n",
      "\n"
     ]
    }
   ],
   "source": [
    "training_100 = unseen_ratings.alias('r')\\\n",
    "    .join(enough_ratings.alias('e'), col('r.item') == col('e.item'), how='left_anti')\\\n",
    "    .select(['item', 'user', 'prediction']).orderBy(col('prediction').desc())\n",
    "training_100.show()"
   ]
  },
  {
   "cell_type": "markdown",
   "metadata": {},
   "source": [
    "Just out of curiosity, we will show the actual titles of the movies which are highest rated for you (if you changed the list above):"
   ]
  },
  {
   "cell_type": "code",
   "execution_count": 43,
   "metadata": {},
   "outputs": [
    {
     "name": "stdout",
     "output_type": "stream",
     "text": [
      "+----+------------------------------------------------------------------------------+----------+\n",
      "|user|title                                                                         |prediction|\n",
      "+----+------------------------------------------------------------------------------+----------+\n",
      "|611 |\"Godfather                                                                    |4.6375756 |\n",
      "|611 |Apocalypse Now (1979)                                                         |4.588269  |\n",
      "|611 |Monty Python and the Holy Grail (1975)                                        |4.5728636 |\n",
      "|611 |Pulp Fiction (1994)                                                           |4.564739  |\n",
      "|611 |\"Big Lebowski                                                                 |4.469977  |\n",
      "|611 |\"Godfather: Part II                                                           |4.4622774 |\n",
      "|611 |Kill Bill: Vol. 1 (2003)                                                      |4.424946  |\n",
      "|611 |\"Clockwork Orange                                                             |4.3651676 |\n",
      "|611 |Kill Bill: Vol. 2 (2004)                                                      |4.3647456 |\n",
      "|611 |\"Crouching Tiger                                                              |4.31933   |\n",
      "|611 |Taxi Driver (1976)                                                            |4.3121367 |\n",
      "|611 |American Beauty (1999)                                                        |4.259027  |\n",
      "|611 |Memento (2000)                                                                |4.2484784 |\n",
      "|611 |Reservoir Dogs (1992)                                                         |4.2392826 |\n",
      "|611 |\"Usual Suspects                                                               |4.17518   |\n",
      "|611 |Fight Club (1999)                                                             |4.155445  |\n",
      "|611 |One Flew Over the Cuckoo's Nest (1975)                                        |4.152857  |\n",
      "|611 |Star Wars: Episode IV - A New Hope (1977)                                     |4.109965  |\n",
      "|611 |\"Lord of the Rings: The Fellowship of the Ring                                |4.10192   |\n",
      "|611 |Star Wars: Episode V - The Empire Strikes Back (1980)                         |3.9933815 |\n",
      "|611 |2001: A Space Odyssey (1968)                                                  |3.983112  |\n",
      "|611 |Goodfellas (1990)                                                             |3.959895  |\n",
      "|611 |Alien (1979)                                                                  |3.9365551 |\n",
      "|611 |\"Silence of the Lambs                                                         |3.8818905 |\n",
      "|611 |\"Lord of the Rings: The Return of the King                                    |3.8742137 |\n",
      "|611 |\"Princess Bride                                                               |3.8692129 |\n",
      "|611 |Groundhog Day (1993)                                                          |3.8636773 |\n",
      "|611 |Interview with the Vampire: The Vampire Chronicles (1994)                     |3.8623075 |\n",
      "|611 |Léon: The Professional (a.k.a. The Professional) (Léon) (1994)                |3.8442123 |\n",
      "|611 |Raiders of the Lost Ark (Indiana Jones and the Raiders of the Lost Ark) (1981)|3.836926  |\n",
      "|611 |Casablanca (1942)                                                             |3.8211513 |\n",
      "|611 |\"Dark Knight                                                                  |3.8026252 |\n",
      "|611 |\"Shining                                                                      |3.7893515 |\n",
      "|611 |\"Lord of the Rings: The Two Towers                                            |3.7717173 |\n",
      "|611 |Trainspotting (1996)                                                          |3.752823  |\n",
      "|611 |Aliens (1986)                                                                 |3.7519138 |\n",
      "|611 |Eternal Sunshine of the Spotless Mind (2004)                                  |3.7401786 |\n",
      "|611 |\"Shawshank Redemption                                                         |3.7084436 |\n",
      "|611 |Heat (1995)                                                                   |3.696199  |\n",
      "|611 |\"Departed                                                                     |3.6751428 |\n",
      "|611 |Twelve Monkeys (a.k.a. 12 Monkeys) (1995)                                     |3.6721525 |\n",
      "|611 |Full Metal Jacket (1987)                                                      |3.665713  |\n",
      "|611 |Ghostbusters (a.k.a. Ghost Busters) (1984)                                    |3.6641202 |\n",
      "|611 |Seven (a.k.a. Se7en) (1995)                                                   |3.6636682 |\n",
      "|611 |Clerks (1994)                                                                 |3.657603  |\n",
      "|611 |Indiana Jones and the Last Crusade (1989)                                     |3.651164  |\n",
      "|611 |Schindler's List (1993)                                                       |3.634584  |\n",
      "|611 |Austin Powers: The Spy Who Shagged Me (1999)                                  |3.5721326 |\n",
      "|611 |\"Matrix                                                                       |3.551618  |\n",
      "|611 |\"Sixth Sense                                                                  |3.507343  |\n",
      "|611 |Austin Powers: International Man of Mystery (1997)                            |3.5027006 |\n",
      "|611 |\"Fifth Element                                                                |3.49884   |\n",
      "|611 |\"Terminator                                                                   |3.4847937 |\n",
      "|611 |American History X (1998)                                                     |3.4782953 |\n",
      "|611 |\"Incredibles                                                                  |3.4494095 |\n",
      "|611 |Star Wars: Episode VI - Return of the Jedi (1983)                             |3.4271898 |\n",
      "|611 |Inception (2010)                                                              |3.4235704 |\n",
      "|611 |Willy Wonka & the Chocolate Factory (1971)                                    |3.355763  |\n",
      "|611 |Ferris Bueller's Day Off (1986)                                               |3.3478699 |\n",
      "|611 |Saving Private Ryan (1998)                                                    |3.34226   |\n",
      "|611 |Die Hard (1988)                                                               |3.3300853 |\n",
      "|611 |\"Truman Show                                                                  |3.3015227 |\n",
      "|611 |WALL·E (2008)                                                                 |3.298211  |\n",
      "|611 |Terminator 2: Judgment Day (1991)                                             |3.2807825 |\n",
      "|611 |Toy Story (1995)                                                              |3.1642158 |\n",
      "|611 |Back to the Future (1985)                                                     |3.1641514 |\n",
      "|611 |\"Breakfast Club                                                               |3.0954108 |\n",
      "|611 |There's Something About Mary (1998)                                           |3.0950463 |\n",
      "|611 |Finding Nemo (2003)                                                           |3.0707853 |\n",
      "|611 |V for Vendetta (2006)                                                         |3.0681136 |\n",
      "|611 |Gladiator (2000)                                                              |3.0567915 |\n",
      "|611 |Pirates of the Caribbean: The Curse of the Black Pearl (2003)                 |3.0524235 |\n",
      "|611 |Babe (1995)                                                                   |3.0494535 |\n",
      "|611 |Spider-Man (2002)                                                             |3.0392647 |\n",
      "|611 |Aladdin (1992)                                                                |3.0377197 |\n",
      "|611 |\"Fugitive                                                                     |3.0239449 |\n",
      "|611 |\"Green Mile                                                                   |3.0103395 |\n",
      "|611 |Batman (1989)                                                                 |3.0076027 |\n",
      "|611 |\"Bourne Identity                                                              |2.9942975 |\n",
      "|611 |E.T. the Extra-Terrestrial (1982)                                             |2.991442  |\n",
      "|611 |Batman Begins (2005)                                                          |2.9821024 |\n",
      "|611 |\"Monsters                                                                     |2.9748406 |\n",
      "|611 |Good Will Hunting (1997)                                                      |2.9743466 |\n",
      "|611 |Ace Ventura: Pet Detective (1994)                                             |2.9061546 |\n",
      "|611 |Ocean's Eleven (2001)                                                         |2.881152  |\n",
      "|611 |Shrek (2001)                                                                  |2.8635664 |\n",
      "|611 |Braveheart (1995)                                                             |2.8631084 |\n",
      "|611 |Forrest Gump (1994)                                                           |2.853273  |\n",
      "|611 |\"Beautiful Mind                                                               |2.8320637 |\n",
      "|611 |Four Weddings and a Funeral (1994)                                            |2.8174558 |\n",
      "|611 |Catch Me If You Can (2002)                                                    |2.77349   |\n",
      "|611 |Jurassic Park (1993)                                                          |2.7555625 |\n",
      "|611 |Indiana Jones and the Temple of Doom (1984)                                   |2.7359176 |\n",
      "|611 |Minority Report (2002)                                                        |2.715933  |\n",
      "|611 |Apollo 13 (1995)                                                              |2.6692479 |\n",
      "|611 |\"Lion King                                                                    |2.6667078 |\n",
      "|611 |Up (2009)                                                                     |2.6458108 |\n",
      "|611 |X-Men (2000)                                                                  |2.6214192 |\n",
      "|611 |Dumb & Dumber (Dumb and Dumber) (1994)                                        |2.6080747 |\n",
      "|611 |Men in Black (a.k.a. MIB) (1997)                                              |2.6076708 |\n",
      "+----+------------------------------------------------------------------------------+----------+\n",
      "only showing top 100 rows\n",
      "\n"
     ]
    }
   ],
   "source": [
    "training_100.alias('t').join(movies.alias('m'), col('t.item') == col('m.item')) \\\n",
    "    .select(['user', 'title', 'prediction']).show(100, truncate=False)"
   ]
  },
  {
   "cell_type": "markdown",
   "metadata": {},
   "source": [
    "## Implicit data\n",
    "\n",
    "We usually consider using ALS on a set of `(user, product)` ratings. But what if the data isn't so self explanatory?\n",
    "\n",
    "### A day trip to the library\n",
    "\n",
    "Consider, for example, the data collected by a local library. The library records which users took out each books and how long they kept the books before returning them. \n",
    "\n",
    "As such, we have no explicit indication that a user liked or disliked the books they took out - Just because you borrowed a book does not mean that you enjoyed it, or even read it.\n",
    "Furthermore, the missing data is of interest - the fact that a user has not taken out a specific book could indicate that they dislike that genre, or that they haven't been to that section of the library.\n",
    "\n",
    "Furthermore the same user action could have many different causes. Suppose you withdraw a book three times. That might indicate that you loved the book, but it may also indicate that the book doesn't appeal to you as strongly as some other books you withdrew so you never got round to reading it the first two times.\n",
    "\n",
    "To make the situation even worse, implicit data is often dirty. For example, a user may withdraw a library book for their child using their account, or they may accidentally pick up a book that was sitting on the counter. \n",
    "\n",
    "### The solution\n",
    "Based on the standard ALS implementation, [Hu et al. (2008)](https://www.google.ca/url?sa=t&rct=j&q=&esrc=s&source=web&cd=1&cad=rja&uact=8&ved=0ahUKEwi899eAu6baAhUurlkKHaVvB6UQFggsMAA&url=http%3A%2F%2Fyifanhu.net%2FPUB%2Fcf.pdf&usg=AOvVaw3WIcPGTpxR8m7C32F8whFx) presented a methodolgy for carrying out ALS when dealing with implicit data. \n",
    "\n",
    "The general idea is that we have some recorded observations $r_{u,i}$ denoting the level of interaction user $u$ had with product $i$. For example, if a user $1$ borrowed book $4$ once we may set $r_{1,4}=1$. Alternatively we may wish to allow $r_{u,i}$ to hold information about how many days the book was borrowed for. (There is a lot of freedom in this set up, so we need to make some data specific decisions regarding how we will select $r_{u,i}$).\n",
    "\n",
    "Given the set of observations $r_{u,i}$, a binary indicator $p_{u,i}$ is introduced where:\n",
    "\n",
    "$$p_{u,i} = \\begin{cases} 1 & \\mbox{if } r_{i,j}>0 \\\\\n",
    "0 & \\mbox{otherwise.} \\end{cases}\n",
    "$$\n",
    "\n",
    "\n",
    "A confidence parameter $\\alpha$ lets the user determine how much importance they wish to place on the recorded $r_{u,i}$. This leads to the introduction of $c_{u,i}$ which we take to be the confidence we have in the strength of user $u$'s reaction to product $i$: \n",
    "$c_{u,i} = 1 + \\alpha r_{u,i}$.\n",
    "\n",
    "Let $N_u$ denote the number of users, and $N_p$ denote the number of products. Let $k\\in \\mathbb{R}^+$ be a user defined number of factors. \n",
    "Now, in implicit ALS the goal is to find matrices $X\\in \\mathbb{R}^{N_u \\times k}$ and $Y\\in \\mathbb{R}^{N_p \\times k}$ such that the following cost function is minimised:\n",
    "\n",
    "$$\\sum_{u,i} c_{u,i}(p_{u,i}-X_u^T Y_i)^2 + \\lambda (\\sum_u \\| X_u\\|^2 + \\sum_{i} \\| y_u\\|^2), $$\n",
    "\n",
    "where $X_u$ is the $u$th row of X, $Y_i$ is the $i$th row of Y,\n",
    "\\lambda is a user defined parameter which prevents overfitting. \n",
    "\n",
    "With this minimisation at hand, we are able to recover estimates of $c_{u,i}$, and thus of $r_{u,i}$ for interactions which have not yet occured. \n",
    "\n",
    "### Let's get going\n",
    "\n",
    "We are going to run implicit ALS using the implementation given in the `pyspark.mllib.recommendation` module.\n",
    "\n",
    "The data used in the [Book Crossings](http://www2.informatik.uni-freiburg.de/~cziegler/BX/) dataset. We load the data into Spark from the CSV file, as previously and perform some cleaning task on the data."
   ]
  },
  {
   "cell_type": "code",
   "execution_count": 44,
   "metadata": {},
   "outputs": [],
   "source": [
    "implicit_ratings_raw = spark.sparkContext.textFile('BX-Book-Ratings.csv')\\\n",
    "                   .filter(lambda x: x!='\"User-ID\";\"ISBN\";\"Book-Rating\"')\\\n",
    "                   .map(lambda x: x.replace('\"',\"\")) \\\n",
    "                   .map(lambda x:x.split(\";\"))\\\n",
    "                   .map(lambda x:(int(x[0]), str(x[1]), int(x[2])))"
   ]
  },
  {
   "cell_type": "markdown",
   "metadata": {},
   "source": [
    "Let's look at how it looks."
   ]
  },
  {
   "cell_type": "code",
   "execution_count": 45,
   "metadata": {},
   "outputs": [
    {
     "data": {
      "text/plain": [
       "[(276725, '034545104X', 0),\n",
       " (276726, '0155061224', 5),\n",
       " (276727, '0446520802', 0),\n",
       " (276729, '052165615X', 3),\n",
       " (276729, '0521795028', 6),\n",
       " (276733, '2080674722', 0),\n",
       " (276736, '3257224281', 8),\n",
       " (276737, '0600570967', 6),\n",
       " (276744, '038550120X', 7),\n",
       " (276745, '342310538', 10)]"
      ]
     },
     "execution_count": 45,
     "metadata": {},
     "output_type": "execute_result"
    }
   ],
   "source": [
    "implicit_ratings_raw.take(10)"
   ]
  },
  {
   "cell_type": "markdown",
   "metadata": {},
   "source": [
    "We are interested in the files `BX-Books-Ratings.csv` and `BX-Books.csv`. The first three columns of `BX-Book-Ratings` are:\n",
    "* the user id\n",
    "* an isbn which identifies the book\n",
    "* and a rating.\n",
    "\n",
    "A `0` in the rating column is used to denote that an implicit interaction occured between the user an the book. It is this data that we are interested in, and we extract such rows using the following command:"
   ]
  },
  {
   "cell_type": "code",
   "execution_count": 46,
   "metadata": {},
   "outputs": [],
   "source": [
    "implicit_ratings = implicit_ratings_raw.filter(lambda x: x[2] == 0)"
   ]
  },
  {
   "cell_type": "markdown",
   "metadata": {},
   "source": [
    "Let's look at the result."
   ]
  },
  {
   "cell_type": "code",
   "execution_count": 47,
   "metadata": {},
   "outputs": [
    {
     "data": {
      "text/plain": [
       "[(276725, '034545104X', 0),\n",
       " (276727, '0446520802', 0),\n",
       " (276733, '2080674722', 0),\n",
       " (276746, '0425115801', 0),\n",
       " (276746, '0449006522', 0),\n",
       " (276746, '0553561618', 0),\n",
       " (276746, '055356451X', 0),\n",
       " (276746, '0786013990', 0),\n",
       " (276746, '0786014512', 0),\n",
       " (276747, '0451192001', 0)]"
      ]
     },
     "execution_count": 47,
     "metadata": {},
     "output_type": "execute_result"
    }
   ],
   "source": [
    "implicit_ratings.take(10)"
   ]
  },
  {
   "cell_type": "markdown",
   "metadata": {},
   "source": [
    "The implicit ALS function we are going to use requires that product ids are integers.\n",
    "At the moment we have unique ISBNs, which contain a mixture of numbers and letters, so we must convert to integers.\n",
    "This can be done using the `.zipWithIndex()` function which takes an RDD and joins unique ids to each entry:"
   ]
  },
  {
   "cell_type": "code",
   "execution_count": 48,
   "metadata": {},
   "outputs": [
    {
     "data": {
      "text/plain": [
       "[('034545104X', ((276725, 0), 0)),\n",
       " ('034545104X', ((6543, 0), 0)),\n",
       " ('034545104X', ((23768, 0), 0)),\n",
       " ('034545104X', ((28266, 0), 0)),\n",
       " ('034545104X', ((28523, 0), 0)),\n",
       " ('034545104X', ((39002, 0), 0)),\n",
       " ('034545104X', ((56157, 0), 0)),\n",
       " ('034545104X', ((59102, 0), 0)),\n",
       " ('034545104X', ((59287, 0), 0)),\n",
       " ('034545104X', ((77940, 0), 0))]"
      ]
     },
     "execution_count": 48,
     "metadata": {},
     "output_type": "execute_result"
    }
   ],
   "source": [
    "# Extract unique isbns.\n",
    "isbns = implicit_ratings.map(lambda x: x[1]).distinct()\n",
    "\n",
    "# Associates an integer with each unique isbn.\n",
    "isbns_with_indices = isbns.zipWithIndex() \n",
    "\n",
    "# Sets isbn as the key\n",
    "reordered_implicit_ratings = implicit_ratings.map(lambda x: (x[1], (x[0], x[2]))) \n",
    "joined = reordered_implicit_ratings.join(isbns_with_indices) # joins with indexes \n",
    "joined.take(10)"
   ]
  },
  {
   "cell_type": "markdown",
   "metadata": {},
   "source": [
    "The data is now in the form `(isbn, ((user-id, rating), isbn-id-integer))`.\n",
    "We use the `.map()` function to get it the form `(user-id, isbn-id-integer, rating)` which is the form we will use to create a dataframe with the schema expected by Spark's ALS function."
   ]
  },
  {
   "cell_type": "code",
   "execution_count": 49,
   "metadata": {},
   "outputs": [
    {
     "data": {
      "text/plain": [
       "[(276725, 0, 0),\n",
       " (6543, 0, 0),\n",
       " (23768, 0, 0),\n",
       " (28266, 0, 0),\n",
       " (28523, 0, 0),\n",
       " (39002, 0, 0),\n",
       " (56157, 0, 0),\n",
       " (59102, 0, 0),\n",
       " (59287, 0, 0),\n",
       " (77940, 0, 0)]"
      ]
     },
     "execution_count": 49,
     "metadata": {},
     "output_type": "execute_result"
    }
   ],
   "source": [
    "ratings_int_nice = joined.map(lambda x: (x[1][0][0], x[1][1], x[1][0][1]))\n",
    "ratings_int_nice.take(10)"
   ]
  },
  {
   "cell_type": "markdown",
   "metadata": {},
   "source": [
    "However, we weed `1`s not `0`s, since the matrix is singular if we use `0`s as the ratings. \n",
    "This means we will use `1` to indicate response, not `0`."
   ]
  },
  {
   "cell_type": "code",
   "execution_count": 50,
   "metadata": {},
   "outputs": [
    {
     "name": "stdout",
     "output_type": "stream",
     "text": [
      "+----+------+------+\n",
      "|item|rating|  user|\n",
      "+----+------+------+\n",
      "|   0|     1|276725|\n",
      "|   0|     1|  6543|\n",
      "|   0|     1| 23768|\n",
      "|   0|     1| 28266|\n",
      "|   0|     1| 28523|\n",
      "|   0|     1| 39002|\n",
      "|   0|     1| 56157|\n",
      "|   0|     1| 59102|\n",
      "|   0|     1| 59287|\n",
      "|   0|     1| 77940|\n",
      "|   0|     1| 81977|\n",
      "|   0|     1|123981|\n",
      "|   0|     1|132081|\n",
      "|   0|     1|133235|\n",
      "|   0|     1|135045|\n",
      "|   0|     1|138543|\n",
      "|   0|     1|144315|\n",
      "|   0|     1|144486|\n",
      "|   0|     1|145451|\n",
      "|   0|     1|147799|\n",
      "+----+------+------+\n",
      "only showing top 20 rows\n",
      "\n"
     ]
    }
   ],
   "source": [
    "ratings_ones = ratings_int_nice.map(lambda x: Row(user=x[0], item=x[1], rating=1))\n",
    "implicit_ratings = spark.createDataFrame(ratings_ones).cache()\n",
    "implicit_ratings.show()"
   ]
  },
  {
   "cell_type": "markdown",
   "metadata": {},
   "source": [
    "We can now split the dataset and train the model.\n",
    "Notice that training is very similar to the non-implicit data. We will still use the `TrainValidationSplit` and `RegressionEvaluator` classes.\n",
    "In fact the only change is that now we add the `implicitPrefs=True` to the ALS instantiation.\n",
    "The `nonnegative` argument specifies whether or not to use non-negative constraints for least squares (defaults to `false`).\n",
    "Essentially, it is informaing Spark on which solver to use: `CholeskySolve`r or `NNLS` (conjugated gradient)."
   ]
  },
  {
   "cell_type": "code",
   "execution_count": 51,
   "metadata": {},
   "outputs": [
    {
     "name": "stdout",
     "output_type": "stream",
     "text": [
      "Training dataset size (implicit) = 452587\n",
      "Validation dataset size (implicit) = 132345\n",
      "Test dataset size (implicit) = 131177\n"
     ]
    }
   ],
   "source": [
    "implicit_sets = split_sets(implicit_ratings, [0.63212056, 0.1839397, 0.1839397])\n",
    "print(\"Training dataset size (implicit) = {}\".format(implicit_sets['training'].count()))\n",
    "print(\"Validation dataset size (implicit) = {}\".format(implicit_sets['validation'].count()))\n",
    "print(\"Test dataset size (implicit) = {}\".format(implicit_sets['test'].count()))"
   ]
  },
  {
   "cell_type": "code",
   "execution_count": 53,
   "metadata": {},
   "outputs": [
    {
     "name": "stdout",
     "output_type": "stream",
     "text": [
      "CPU times: user 1.15 s, sys: 329 ms, total: 1.48 s\n",
      "Wall time: 5min 9s\n"
     ]
    }
   ],
   "source": [
    "ials = ALS(coldStartStrategy=\"drop\", implicitPrefs=True)\n",
    "\n",
    "iparam_grid = ParamGridBuilder() \\\n",
    "    .addGrid(ials.rank, [6, 8]) \\\n",
    "    .addGrid(ials.maxIter,[10, 12]) \\\n",
    "    .build()\n",
    "\n",
    "ievaluator = RegressionEvaluator(\n",
    "    metricName=\"mse\",\n",
    "    labelCol=\"rating\",\n",
    "    predictionCol=\"prediction\")\n",
    "\n",
    "itvs = TrainValidationSplit(\n",
    "    estimator=ials,\n",
    "    estimatorParamMaps=iparam_grid,\n",
    "    evaluator=ievaluator,\n",
    ")\n",
    "\n",
    "%time imodel = itvs.fit(implicit_sets['training'])"
   ]
  },
  {
   "cell_type": "markdown",
   "metadata": {},
   "source": [
    "Also, as previously, we use the `.transform()` method to calculate predictions on a datase:"
   ]
  },
  {
   "cell_type": "code",
   "execution_count": 54,
   "metadata": {},
   "outputs": [
    {
     "name": "stdout",
     "output_type": "stream",
     "text": [
      "+----+------+------+---------------+\n",
      "|item|rating|  user|     prediction|\n",
      "+----+------+------+---------------+\n",
      "| 148|     1|274549|   2.1587999E-4|\n",
      "| 463|     1|164926|    0.016497733|\n",
      "| 463|     1|127429|     0.07327433|\n",
      "| 463|     1|236283|     0.17530283|\n",
      "| 463|     1|162529|-1.06537574E-23|\n",
      "| 463|     1|223431|    0.009114619|\n",
      "| 463|     1|265595|   0.0049092765|\n",
      "| 463|     1|106845|   0.0041168053|\n",
      "| 463|     1|145619|    0.069575585|\n",
      "| 463|     1| 54547|   2.3011443E-4|\n",
      "| 463|     1| 62891|    0.018543275|\n",
      "| 463|     1|113611|   2.4358055E-4|\n",
      "| 463|     1|252071|     0.08285412|\n",
      "| 463|     1| 63644|   0.0013208847|\n",
      "| 463|     1|230522|     0.23360755|\n",
      "| 463|     1|167349|     0.07951713|\n",
      "| 463|     1|167556|    7.484213E-4|\n",
      "| 463|     1| 76942|     0.07771825|\n",
      "| 463|     1|161299|    0.014341331|\n",
      "| 463|     1| 28139|    0.004866551|\n",
      "+----+------+------+---------------+\n",
      "only showing top 20 rows\n",
      "\n"
     ]
    }
   ],
   "source": [
    "iprediction = imodel.transform(implicit_sets['test'])\n",
    "iprediction.show()"
   ]
  },
  {
   "cell_type": "markdown",
   "metadata": {},
   "source": [
    "Let's have a look at user $8$. We wish to make predictions on what books the user will like, based on their interactions."
   ]
  },
  {
   "cell_type": "code",
   "execution_count": 55,
   "metadata": {},
   "outputs": [
    {
     "name": "stdout",
     "output_type": "stream",
     "text": [
      "+----+------+----+-----------+\n",
      "|item|rating|user| prediction|\n",
      "+----+------+----+-----------+\n",
      "|6925|     1|   8|1.767715E-5|\n",
      "+----+------+----+-----------+\n",
      "\n"
     ]
    }
   ],
   "source": [
    "iprediction.filter(col('user') == 8).show()"
   ]
  },
  {
   "cell_type": "markdown",
   "metadata": {},
   "source": [
    "Now we want to exclude books with which user 8 already interacted with:"
   ]
  },
  {
   "cell_type": "code",
   "execution_count": 56,
   "metadata": {},
   "outputs": [
    {
     "name": "stdout",
     "output_type": "stream",
     "text": [
      "+----+----+\n",
      "|item|user|\n",
      "+----+----+\n",
      "|  26|   8|\n",
      "|  29|   8|\n",
      "| 474|   8|\n",
      "|1950|   8|\n",
      "|2214|   8|\n",
      "|2250|   8|\n",
      "|2453|   8|\n",
      "|2927|   8|\n",
      "|3506|   8|\n",
      "|4590|   8|\n",
      "+----+----+\n",
      "only showing top 10 rows\n",
      "\n",
      "Number of unseen books = 246713\n"
     ]
    }
   ],
   "source": [
    "seen = implicit_ratings.filter(col('user')==8).select('item')\n",
    "unseen_books = implicit_ratings.alias('r')\\\n",
    "    .join(seen.alias('s'), col('r.item') == col('s.item'), how='left_anti')\\\n",
    "    .select('item').distinct()\\\n",
    "    .withColumn('user', lit(8))\\\n",
    "    .cache()\n",
    "unseen_books.show(10)\n",
    "print(\"Number of unseen books = {}\".format(unseen_books.count()))"
   ]
  },
  {
   "cell_type": "markdown",
   "metadata": {},
   "source": [
    "We will create a predictions dataframe using the `.transform()` method and then we will sort it in descending order of predicted value:"
   ]
  },
  {
   "cell_type": "code",
   "execution_count": 57,
   "metadata": {},
   "outputs": [
    {
     "name": "stdout",
     "output_type": "stream",
     "text": [
      "+-----+----+------------+\n",
      "| item|user|  prediction|\n",
      "+-----+----+------------+\n",
      "| 8107|   8|0.0014625812|\n",
      "| 9945|   8|0.0014404728|\n",
      "| 2487|   8| 0.001429715|\n",
      "| 1595|   8|0.0014291506|\n",
      "| 1445|   8|0.0014289932|\n",
      "| 9391|   8|0.0013860163|\n",
      "|  238|   8|0.0013758251|\n",
      "| 1698|   8|0.0013576851|\n",
      "| 6819|   8|0.0013438873|\n",
      "|  783|   8|0.0013374606|\n",
      "| 4369|   8|0.0013187684|\n",
      "| 1031|   8|0.0013123228|\n",
      "| 1694|   8|0.0013054439|\n",
      "| 6773|   8|0.0013006659|\n",
      "|  215|   8| 0.001297561|\n",
      "|10561|   8| 0.001286359|\n",
      "| 7917|   8|0.0012797969|\n",
      "| 8126|   8|0.0012593766|\n",
      "| 1655|   8|0.0012584074|\n",
      "|  689|   8|0.0012445278|\n",
      "+-----+----+------------+\n",
      "only showing top 20 rows\n",
      "\n"
     ]
    }
   ],
   "source": [
    "imodel.transform(unseen_books).orderBy(col('prediction').desc()).show(20)"
   ]
  },
  {
   "cell_type": "markdown",
   "metadata": {},
   "source": [
    "Remember that to check the models MSE for a predictions dataset, we used the `.evaluate()` method from the evaluator."
   ]
  },
  {
   "cell_type": "code",
   "execution_count": 58,
   "metadata": {},
   "outputs": [
    {
     "name": "stdout",
     "output_type": "stream",
     "text": [
      "MSE (implicit) = 0.9504550166369008\n"
     ]
    }
   ],
   "source": [
    "print(\"MSE (implicit) = {}\".format(ievaluator.evaluate(iprediction)))"
   ]
  },
  {
   "cell_type": "markdown",
   "metadata": {},
   "source": [
    "## Streaming (Stochastic Gradient Descent) ALS"
   ]
  },
  {
   "cell_type": "code",
   "execution_count": 79,
   "metadata": {
    "scrolled": true
   },
   "outputs": [
    {
     "name": "stdout",
     "output_type": "stream",
     "text": [
      "Ratings shape = (610, 193609)\n"
     ]
    },
    {
     "data": {
      "text/plain": [
       "<matplotlib.axes._subplots.AxesSubplot at 0x12c5f5e48>"
      ]
     },
     "execution_count": 79,
     "metadata": {},
     "output_type": "execute_result"
    },
    {
     "data": {
      "image/png": "[encoded data removed]",
      "text/plain": [
       "<Figure size 432x288 with 2 Axes>"
      ]
     },
     "metadata": {
      "needs_background": "light"
     },
     "output_type": "display_data"
    }
   ],
   "source": [
    "import utils\n",
    "\n",
    "ratings, pairs = utils.load_data('ml-latest-small/ratings.csv')\n",
    "print(\"Ratings shape = {}\".format(ratings.shape))\n",
    "sns.heatmap(ratings[200:, :200].todense())"
   ]
  },
  {
   "cell_type": "markdown",
   "metadata": {},
   "source": [
    "As previously, we will split the ratings data. This time we will use simple a _training_ and _test_ subsets and will use the proportions $80/20\\%$:\n",
    "\n",
    "We are using `numpy` now, so we'll do this by suffling the `(row, col)` pairs and then selecting the first $80\\%$ of the indices as training and the remaining as testing."
   ]
  },
  {
   "cell_type": "code",
   "execution_count": 80,
   "metadata": {},
   "outputs": [],
   "source": [
    "from scipy import sparse\n",
    "import numpy as np\n",
    "\n",
    "np.random.seed(42)\n",
    "\n",
    "np.random.shuffle(pairs)\n",
    "rows, cols = pairs.shape\n",
    "training_indices, test_indices = pairs[:int(rows*0.8),:], pairs[int(rows*0.8):,:]"
   ]
  },
  {
   "cell_type": "markdown",
   "metadata": {},
   "source": [
    "Since we have a high proportion of missing ratings, we will create a [sparse matrix](https://en.wikipedia.org/wiki/Sparse_matrix) to contain both sets.\n",
    "\n",
    "Since we need to keep the unique user and movie identifiers, we will create two matrices with the same size of the original ratings:"
   ]
  },
  {
   "cell_type": "code",
   "execution_count": 81,
   "metadata": {},
   "outputs": [
    {
     "data": {
      "text/plain": [
       "<matplotlib.axes._subplots.AxesSubplot at 0x155d62c88>"
      ]
     },
     "execution_count": 81,
     "metadata": {},
     "output_type": "execute_result"
    },
    {
     "data": {
      "image/png": "[encoded data removed]",
      "text/plain": [
       "<Figure size 432x288 with 2 Axes>"
      ]
     },
     "metadata": {
      "needs_background": "light"
     },
     "output_type": "display_data"
    }
   ],
   "source": [
    "training = sparse.lil_matrix(ratings.shape)\n",
    "for indices in training_indices:\n",
    "    training[indices[0]-1, indices[1]-1] = ratings[indices[0]-1, indices[1]-1]\n",
    "\n",
    "testing = sparse.lil_matrix(ratings.shape)\n",
    "for indices in test_indices:\n",
    "    testing[indices[0]-1, indices[1]-1] = ratings[indices[0]-1, indices[1]-1]\n",
    "    \n",
    "sns.heatmap(testing[200:, :200].todense())"
   ]
  },
  {
   "cell_type": "markdown",
   "metadata": {},
   "source": [
    "As expected, most values of the matrix are empty (in black).\n",
    "\n",
    "The next step is to create the _user factors_ and _item factors_. \n",
    "These will be matrices taking a number of rows corresponding to the number of features we are using (_rank_) and the number of columns corresponding the total number of users or items.\n",
    "\n",
    "These matrices will be initialised as random, as we will use a uniform distribution to fill them (by calling `numpy.random.rand`).\n",
    "We will chose and arbitrary rank of $k=20$."
   ]
  },
  {
   "cell_type": "code",
   "execution_count": 82,
   "metadata": {},
   "outputs": [
    {
     "name": "stdout",
     "output_type": "stream",
     "text": [
      "[[0.91267091 0.43113394 0.35946127 ... 0.047643   0.74977087 0.58918158]\n",
      " [0.69057488 0.55097073 0.6588895  ... 0.25430962 0.93505366 0.01837998]\n",
      " [0.11384631 0.32851384 0.08158122 ... 0.96436255 0.47478531 0.46703251]\n",
      " ...\n",
      " [0.12156494 0.26526036 0.38736685 ... 0.62065471 0.90052765 0.10364606]\n",
      " [0.782603   0.93900992 0.57114242 ... 0.31516308 0.19103194 0.29039959]\n",
      " [0.25029518 0.0249386  0.95780844 ... 0.58420021 0.46859087 0.67201405]]\n",
      "[[0.19914496 0.12315757 0.73470201 ... 0.65698089 0.26170255 0.90635186]\n",
      " [0.80106009 0.81085039 0.26673287 ... 0.87079221 0.82812469 0.62160967]\n",
      " [0.67564943 0.08034599 0.30618467 ... 0.52983253 0.44935435 0.49378245]\n",
      " ...\n",
      " [0.78530424 0.82839663 0.57866152 ... 0.83807301 0.87584533 0.4360776 ]\n",
      " [0.50474229 0.55886322 0.33008348 ... 0.47995328 0.33399634 0.85936447]\n",
      " [0.21291684 0.15312521 0.60006261 ... 0.14095176 0.03201775 0.74414916]]\n"
     ]
    },
    {
     "data": {
      "text/plain": [
       "<matplotlib.axes._subplots.AxesSubplot at 0x12c522240>"
      ]
     },
     "execution_count": 82,
     "metadata": {},
     "output_type": "execute_result"
    },
    {
     "data": {
      "image/png": "[encoded data removed]",
      "text/plain": [
       "<Figure size 432x288 with 2 Axes>"
      ]
     },
     "metadata": {
      "needs_background": "light"
     },
     "output_type": "display_data"
    }
   ],
   "source": [
    "rank = 20\n",
    "n_item, n_user = ratings.shape\n",
    "\n",
    "user_factors = np.random.rand(rank, n_user)\n",
    "item_factors = np.random.rand(rank, n_item)\n",
    "\n",
    "print(user_factors)\n",
    "print(item_factors)\n",
    "\n",
    "sns.heatmap(user_factors)"
   ]
  },
  {
   "cell_type": "markdown",
   "metadata": {},
   "source": [
    "We continue by specify some more arbitrary parameters. In this case the $\\gamma$, $\\lambda_{u}$, $\\lambda_{i}$ and the number of iterations.\n",
    "We recall that the gradient update is calculated using\n",
    "\n",
    "$$\n",
    "\\nabla U_i = \\gamma + \\left(\\epsilon_{i,j} P_j - \\lambda_u U_i\\right) \\\\\n",
    "\\nabla P_j = \\gamma + \\left(\\epsilon_{i,j} U_i - \\lambda_p P_j\\right)\n",
    "$$\n",
    "\n",
    "Where $\\gamma$ is the learning rate, $\\epsilon_{i,j}$ is the error between the true rating $r_{i,j}$ and the predicted rating for $(i,j)$, $\\hat{r}_{i,j}$.\n",
    "$\\lambda_u$ and $\\lambda_p$ are respectively the user and item regression parameters.\n",
    "The calculation of the new latent factor will be iterated for a specified number of iteratios, which we will, as before, `maxIter`:"
   ]
  },
  {
   "cell_type": "code",
   "execution_count": 83,
   "metadata": {},
   "outputs": [],
   "source": [
    "learning_rate = 0.01 # \"gamma\"\n",
    "lambda_user = 0.1\n",
    "lambda_item = 0.7\n",
    "maxIter = 20\n",
    "rate = 1.3"
   ]
  },
  {
   "cell_type": "markdown",
   "metadata": {},
   "source": [
    "We are now ready to start the ALS-SGD training."
   ]
  },
  {
   "cell_type": "code",
   "execution_count": 84,
   "metadata": {},
   "outputs": [
    {
     "name": "stdout",
     "output_type": "stream",
     "text": [
      "step = 1, MSE (training) = 1.016509243649517.\n",
      "step = 2, MSE (training) = 0.9310447943381437.\n",
      "step = 3, MSE (training) = 0.9108730348585418.\n",
      "step = 4, MSE (training) = 0.8866558283896934.\n",
      "step = 5, MSE (training) = 0.8723890955634594.\n",
      "step = 6, MSE (training) = 0.86460188742356.\n",
      "step = 7, MSE (training) = 0.8602621441351882.\n",
      "step = 8, MSE (training) = 0.8556057302722733.\n",
      "step = 9, MSE (training) = 0.8527915821073694.\n",
      "step = 10, MSE (training) = 0.8521074741223279.\n",
      "step = 11, MSE (training) = 0.8489033563178858.\n",
      "step = 12, MSE (training) = 0.8478134507159334.\n",
      "step = 13, MSE (training) = 0.8481661460132137.\n",
      "step = 14, MSE (training) = 0.84669913391902.\n",
      "step = 15, MSE (training) = 0.8463972990589317.\n",
      "step = 16, MSE (training) = 0.8459203812806537.\n",
      "step = 17, MSE (training) = 0.8455972295632478.\n",
      "step = 18, MSE (training) = 0.8452319874308323.\n",
      "step = 19, MSE (training) = 0.8452398374140437.\n",
      "step = 20, MSE (training) = 0.8451412668660666.\n"
     ]
    }
   ],
   "source": [
    "np.random.seed(42)\n",
    "errors = []\n",
    "for it in range(maxIter):        \n",
    "\n",
    "    np.random.shuffle(training_indices)\n",
    "    \n",
    "    learning_rate /= rate\n",
    "    \n",
    "    for pair in training_indices:\n",
    "        row = pair[0] - 1\n",
    "        col = pair[1] - 1\n",
    "        item_factor = item_factors[:, row]\n",
    "        user_factor = user_factors[:, col]\n",
    "        error = training[row, col] - user_factor.T.dot(item_factor)\n",
    "\n",
    "        item_factors[:, row] += learning_rate * (error * user_factor - lambda_item * item_factor)\n",
    "        user_factors[:, col] += learning_rate * (error * item_factor - lambda_user * user_factor)\n",
    "\n",
    "    # calculate the intermediate MSE\n",
    "    mse = 0\n",
    "    for pair in training_indices:\n",
    "        row = pair[0] - 1\n",
    "        col = pair[1] - 1\n",
    "        mse += calc_se(training[row, col], user_factors[:, col], item_factors[:, row])\n",
    "    mse /= len(training_indices)\n",
    "    print(\"step = {}, MSE (training) = {}.\".format(it + 1, mse))\n",
    "    \n",
    "    errors.append(mse)"
   ]
  },
  {
   "cell_type": "markdown",
   "metadata": {},
   "source": [
    "We can now visualise the MSE evolution with each iteration:"
   ]
  },
  {
   "cell_type": "code",
   "execution_count": 85,
   "metadata": {},
   "outputs": [
    {
     "data": {
      "text/plain": [
       "<matplotlib.axes._subplots.AxesSubplot at 0x1557a0908>"
      ]
     },
     "execution_count": 85,
     "metadata": {},
     "output_type": "execute_result"
    },
    {
     "data": {
      "image/png": "[encoded data removed]",
      "text/plain": [
       "<Figure size 432x288 with 1 Axes>"
      ]
     },
     "metadata": {
      "needs_background": "light"
     },
     "output_type": "display_data"
    }
   ],
   "source": [
    "sns.lineplot(range(len(errors)), errors)"
   ]
  },
  {
   "cell_type": "markdown",
   "metadata": {},
   "source": [
    "And finally we can calculate the MSE for the training set:"
   ]
  },
  {
   "cell_type": "code",
   "execution_count": 86,
   "metadata": {},
   "outputs": [
    {
     "name": "stdout",
     "output_type": "stream",
     "text": [
      "MSE (test) = 0.9429504496618373\n"
     ]
    }
   ],
   "source": [
    "mse = 0\n",
    "for i in test_indices:\n",
    "    row = i[0] - 1\n",
    "    col = i[1] - 1\n",
    "    mse += calc_se(testing[row, col], user_factors[:, col], item_factors[:, row])\n",
    "mse /= len(test_indices)\n",
    "print(\"MSE (test) = {}\".format(mse))"
   ]
  },
  {
   "cell_type": "code",
   "execution_count": null,
   "metadata": {},
   "outputs": [],
   "source": []
  }
 ],
 "metadata": {
  "kernelspec": {
   "display_name": "Python 2",
   "language": "python",
   "name": "python2"
  },
  "language_info": {
   "codemirror_mode": {
    "name": "ipython",
    "version": 3
   },
   "file_extension": ".py",
   "mimetype": "text/x-python",
   "name": "python",
   "nbconvert_exporter": "python",
   "pygments_lexer": "ipython3",
   "version": "3.6.5"
  }
 },
 "nbformat": 4,
 "nbformat_minor": 1
}
